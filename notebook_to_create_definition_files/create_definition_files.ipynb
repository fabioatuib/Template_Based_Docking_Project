{
 "cells": [
  {
   "cell_type": "code",
   "execution_count": 1,
   "metadata": {
    "collapsed": true
   },
   "outputs": [],
   "source": [
    "import os\n",
    "import pandas as pd\n",
    "from Create_Docking_Definitions_SeeSAR.script.generate_docking_and_scoring_definitions import generate_definitions"
   ]
  },
  {
   "cell_type": "code",
   "execution_count": 2,
   "outputs": [],
   "source": [
    "PATH_TO_OPTIMIZED_LIGANDS = 'data/optimized_ligands'\n",
    "PATH_TO_EDITED_PDB_FOLDER = 'data/pdb_files_edited'\n",
    "PATH_TO_DEFINITION_FILES = 'data/definition_files'"
   ],
   "metadata": {
    "collapsed": false,
    "pycharm": {
     "name": "#%%\n"
    }
   }
  },
  {
   "cell_type": "code",
   "execution_count": 3,
   "outputs": [],
   "source": [
    "expanded_astex_df = pd.read_csv('data/expanded_Astex_with_smiles.csv')\n",
    "expanded_astex_df = expanded_astex_df.loc[expanded_astex_df['hyde_rmsd']<1]\n",
    "expanded_astex_df = expanded_astex_df[['Uniprot_ID', 'Protein_ID', 'Ligand_Name']]"
   ],
   "metadata": {
    "collapsed": false,
    "pycharm": {
     "name": "#%%\n"
    }
   }
  },
  {
   "cell_type": "code",
   "execution_count": 4,
   "outputs": [
    {
     "name": "stdout",
     "output_type": "stream",
     "text": [
      "Done!\n"
     ]
    }
   ],
   "source": [
    "for uniprot_id, pdb_id, ligand_id in expanded_astex_df[['Uniprot_ID', 'Protein_ID', 'Ligand_Name']].values:\n",
    "    complex_id = pdb_id+'_'+ligand_id\n",
    "    path_to_store = '/'.join([PATH_TO_DEFINITION_FILES, uniprot_id, complex_id])\n",
    "\n",
    "    os.makedirs(path_to_store, exist_ok=True)\n",
    "    try:\n",
    "        generate_definitions(complex_id=complex_id,\n",
    "                             path_to_pdb_file='/'.join([PATH_TO_EDITED_PDB_FOLDER,uniprot_id,complex_id+'.pdb']),\n",
    "                             path_to_reference='/'.join([PATH_TO_OPTIMIZED_LIGANDS,uniprot_id,complex_id+'.sdf']),\n",
    "                             path_to_store_definition_file=path_to_store)\n",
    "    except Exception as e:\n",
    "        print(uniprot_id, complex_id)\n",
    "        print('Exception:', e)\n",
    "        print('')\n",
    "\n",
    "print('Done!')"
   ],
   "metadata": {
    "collapsed": false,
    "pycharm": {
     "name": "#%%\n"
    }
   }
  },
  {
   "cell_type": "code",
   "execution_count": null,
   "outputs": [],
   "source": [],
   "metadata": {
    "collapsed": false,
    "pycharm": {
     "name": "#%%\n"
    }
   }
  }
 ],
 "metadata": {
  "kernelspec": {
   "display_name": "Python 3",
   "language": "python",
   "name": "python3"
  },
  "language_info": {
   "codemirror_mode": {
    "name": "ipython",
    "version": 2
   },
   "file_extension": ".py",
   "mimetype": "text/x-python",
   "name": "python",
   "nbconvert_exporter": "python",
   "pygments_lexer": "ipython2",
   "version": "2.7.6"
  }
 },
 "nbformat": 4,
 "nbformat_minor": 0
}
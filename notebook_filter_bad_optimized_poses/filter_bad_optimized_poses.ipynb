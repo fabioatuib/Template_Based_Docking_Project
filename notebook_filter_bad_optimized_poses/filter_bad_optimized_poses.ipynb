{
 "cells": [
  {
   "cell_type": "code",
   "execution_count": 1,
   "metadata": {
    "collapsed": true
   },
   "outputs": [],
   "source": [
    "import glob\n",
    "import os\n",
    "import pandas as pd\n",
    "from rdkit import Chem\n",
    "from Mol2Writer import MolToMol2File"
   ]
  },
  {
   "cell_type": "code",
   "execution_count": 24,
   "outputs": [],
   "source": [
    "# 1st convert all .sdf to .mol2 format\n",
    "for path in glob.glob('../data/optimized_ligands/*/*'):\n",
    "    mol=Chem.SDMolSupplier(path)[0]\n",
    "    MolToMol2File(mol, filename=path[:-3]+'mol2')\n",
    "\n",
    "for path in glob.glob('../data/reference_ligands/*/*'):\n",
    "    mol=Chem.SDMolSupplier(path)[0]\n",
    "    MolToMol2File(mol, filename=path[:-3]+'mol2')"
   ],
   "metadata": {
    "collapsed": false,
    "pycharm": {
     "name": "#%%\n"
    }
   }
  },
  {
   "cell_type": "code",
   "execution_count": 2,
   "outputs": [],
   "source": [
    "def DockRMSD(query, template):\n",
    "    '''returns the RMSD between the docked pose and the confirmed pose.'''\n",
    "    os.system('/home/fol007/DockRMSD/DockRMSD '+query+' '+template+' > output.txt')\n",
    "    try:\n",
    "        file = open('output.txt', 'r')\n",
    "        for line in file:\n",
    "            if 'Calculated Docking RMSD:' in line:\n",
    "                line = line.split('\\n')[0]\n",
    "                line = line.split(': ')[1]\n",
    "                return float(line)\n",
    "    except:\n",
    "        return None"
   ],
   "metadata": {
    "collapsed": false,
    "pycharm": {
     "name": "#%%\n"
    }
   }
  },
  {
   "cell_type": "code",
   "execution_count": 16,
   "outputs": [],
   "source": [
    "dictionary = {'complex':[], 'rmsd':[]}\n",
    "\n",
    "for path_opt in glob.glob('../data/optimized_ligands/*/*.mol2'):\n",
    "\n",
    "    complex_id = path_opt.split('/')[-1].split('.')[0]\n",
    "\n",
    "    path_ori = path_opt.split('/')\n",
    "    path_ori[2] = 'reference_ligands'\n",
    "    path_ori = '/'.join(path_ori)\n",
    "\n",
    "    dictionary['complex'] += [complex_id]\n",
    "    rmsd = DockRMSD(path_opt, path_ori)\n",
    "    dictionary['rmsd'] += [rmsd]\n"
   ],
   "metadata": {
    "collapsed": false,
    "pycharm": {
     "name": "#%%\n"
    }
   }
  },
  {
   "cell_type": "code",
   "execution_count": 17,
   "outputs": [],
   "source": [
    "df = pd.DataFrame(dictionary)"
   ],
   "metadata": {
    "collapsed": false,
    "pycharm": {
     "name": "#%%\n"
    }
   }
  },
  {
   "cell_type": "code",
   "execution_count": 30,
   "outputs": [
    {
     "data": {
      "text/plain": "       complex  rmsd\n1344  4OAR_2S0   NaN",
      "text/html": "<div>\n<style scoped>\n    .dataframe tbody tr th:only-of-type {\n        vertical-align: middle;\n    }\n\n    .dataframe tbody tr th {\n        vertical-align: top;\n    }\n\n    .dataframe thead th {\n        text-align: right;\n    }\n</style>\n<table border=\"1\" class=\"dataframe\">\n  <thead>\n    <tr style=\"text-align: right;\">\n      <th></th>\n      <th>complex</th>\n      <th>rmsd</th>\n    </tr>\n  </thead>\n  <tbody>\n    <tr>\n      <th>1344</th>\n      <td>4OAR_2S0</td>\n      <td>NaN</td>\n    </tr>\n  </tbody>\n</table>\n</div>"
     },
     "execution_count": 30,
     "metadata": {},
     "output_type": "execute_result"
    }
   ],
   "source": [
    "df[df['rmsd'].isna()]"
   ],
   "metadata": {
    "collapsed": false,
    "pycharm": {
     "name": "#%%\n"
    }
   }
  },
  {
   "cell_type": "code",
   "execution_count": 29,
   "outputs": [
    {
     "name": "stdout",
     "output_type": "stream",
     "text": [
      "0.335\n"
     ]
    }
   ],
   "source": [
    "p1 = '../data/optimized_ligands/P22906/1M7A_MQU.mol2'\n",
    "p2 = '../data/reference_ligands/P22906/1M7A_MQU.mol2'\n",
    "\n",
    "rmsd=DockRMSD(p1, p2)\n",
    "print(rmsd)\n",
    "df.loc[df['complex']=='1M7A_MQU', 'rmsd'] = rmsd"
   ],
   "metadata": {
    "collapsed": false,
    "pycharm": {
     "name": "#%%\n"
    }
   }
  },
  {
   "cell_type": "code",
   "execution_count": 31,
   "outputs": [
    {
     "name": "stdout",
     "output_type": "stream",
     "text": [
      "0.233\n"
     ]
    }
   ],
   "source": [
    "p1 = '../data/optimized_ligands/P06401/4OAR_2S0.mol2'\n",
    "p2 = '../data/reference_ligands/P06401/4OAR_2S0.mol2'\n",
    "\n",
    "rmsd=DockRMSD(p1, p2)\n",
    "print(rmsd)\n",
    "df.loc[df['complex']=='4OAR_2S0', 'rmsd'] = rmsd"
   ],
   "metadata": {
    "collapsed": false,
    "pycharm": {
     "name": "#%%\n"
    }
   }
  },
  {
   "cell_type": "code",
   "execution_count": 40,
   "outputs": [
    {
     "name": "stdout",
     "output_type": "stream",
     "text": [
      "1991\n",
      "rmsd bellow 1 , rmsd above 1\n",
      "1754 237\n"
     ]
    }
   ],
   "source": [
    "print(df.shape[0])\n",
    "print('rmsd bellow 1 , rmsd above 1')\n",
    "print(df[df['rmsd']<1].shape[0], df[df['rmsd']>1].shape[0])"
   ],
   "metadata": {
    "collapsed": false,
    "pycharm": {
     "name": "#%%\n"
    }
   }
  },
  {
   "cell_type": "code",
   "execution_count": 41,
   "outputs": [],
   "source": [
    "expanded_astex_df = pd.read_csv('../data/expanded_Astex_with_smiles.csv')\n",
    "expanded_astex_df['hyde_rmsd'] = None"
   ],
   "metadata": {
    "collapsed": false,
    "pycharm": {
     "name": "#%%\n"
    }
   }
  },
  {
   "cell_type": "code",
   "execution_count": 43,
   "outputs": [],
   "source": [
    "for complex, rmsd in df[['complex', 'rmsd']].values:\n",
    "    Protein_ID = complex.split('_')[0]\n",
    "    Ligand_Name = complex.split('_')[1]\n",
    "    expanded_astex_df.loc[(expanded_astex_df['Protein_ID']==Protein_ID) &\n",
    "                          (expanded_astex_df['Ligand_Name']==Ligand_Name), 'hyde_rmsd'] = rmsd"
   ],
   "metadata": {
    "collapsed": false,
    "pycharm": {
     "name": "#%%\n"
    }
   }
  },
  {
   "cell_type": "code",
   "execution_count": 47,
   "outputs": [],
   "source": [
    "expanded_astex_df.to_csv('../data/expanded_Astex_with_smiles.csv', index=False)"
   ],
   "metadata": {
    "collapsed": false,
    "pycharm": {
     "name": "#%%\n"
    }
   }
  }
 ],
 "metadata": {
  "kernelspec": {
   "display_name": "Python 3",
   "language": "python",
   "name": "python3"
  },
  "language_info": {
   "codemirror_mode": {
    "name": "ipython",
    "version": 2
   },
   "file_extension": ".py",
   "mimetype": "text/x-python",
   "name": "python",
   "nbconvert_exporter": "python",
   "pygments_lexer": "ipython2",
   "version": "2.7.6"
  }
 },
 "nbformat": 4,
 "nbformat_minor": 0
}
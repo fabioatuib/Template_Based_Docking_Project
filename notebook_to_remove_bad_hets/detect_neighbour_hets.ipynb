{
 "cells": [
  {
   "cell_type": "code",
   "execution_count": 1,
   "metadata": {
    "collapsed": true
   },
   "outputs": [],
   "source": [
    "import os\n",
    "import numpy as np\n",
    "import requests\n",
    "import pandas as pd\n",
    "from rdkit import Chem\n",
    "from rdkit import RDLogger\n",
    "from rdkit.Chem import AllChem\n",
    "from rdkit import DataStructs\n",
    "from biopandas.pdb import PandasPdb"
   ]
  },
  {
   "cell_type": "code",
   "execution_count": 2,
   "outputs": [],
   "source": [
    "# Disable log messages from RDKit\n",
    "RDLogger.DisableLog('rdApp.*')"
   ],
   "metadata": {
    "collapsed": false,
    "pycharm": {
     "name": "#%%\n"
    }
   }
  },
  {
   "cell_type": "code",
   "execution_count": 3,
   "outputs": [],
   "source": [
    "PATH_TO_REFERENCE_LIGANDS_FOLDER = 'data/reference_ligands'\n",
    "PATH_TO_PDB_FOLDER = 'data/pdb_files_originals'\n",
    "PATH_TO_EDITED_PDB_FOLDER = 'data/pdb_files_edited'"
   ],
   "metadata": {
    "collapsed": false,
    "pycharm": {
     "name": "#%%\n"
    }
   }
  },
  {
   "cell_type": "raw",
   "source": [
    "\n",
    "ATP_analogues = ['APC', 'ANP']\n",
    "\n",
    "to_keep = ['SAM', 'NAD', 'SAH', 'IMP', 'NDP', 'TTP', 'UMP','FPP']\n",
    "\n",
    "maybe = ['R1P', 'HPA', 'URA', 'PAU']\n",
    "\n",
    "modified_residues = ['CME','ALY', 'OCS', 'CSO', 'NLE', '4AK', 'KCX']\n",
    "\n",
    "not_biologically_important = ['MTL', 'BY7', '8FD', 'KMD', 'ZZ3', 'XQK',\n",
    "                              'YJW','YJX', 'LGA', 'MT0', 'A13', 'A51',\n",
    "                              'MFQ', 'FBL', '2AN', 'FCP', '4B8', 'LDT',\n",
    "                              'FID', 'FIS', '4O8', 'AX7', 'F21', 'HH2',\n",
    "                              'HHS', '6T2', 'BGC', 'G9J', '1SM', 'PXD',\n",
    "                              'P25', 'PYD', '1MM', 'YF3', 'NSP', '1CS',\n",
    "                              'P22', 'S48', 'FII', 'U49', 'R2B', 'URF',\n",
    "                              'RQ3', 'NAG', 'G3P']\n"
   ],
   "metadata": {
    "collapsed": false,
    "pycharm": {
     "name": "#%% raw\n"
    }
   }
  },
  {
   "cell_type": "code",
   "execution_count": 4,
   "outputs": [],
   "source": [
    "inorganic_cofactors = ['MG', 'CU', 'MN', 'FE', 'MO', 'NI', 'ZN']\n",
    "\n",
    "modified_residues = ['CME','ALY', 'OCS', 'CSO', 'NLE', '4AK', 'KCX']\n",
    "\n",
    "atp_analogues = ['APC', 'ANP']\n",
    "\n",
    "biologically_relevant = ['SAM', 'NAD', 'SAH', 'IMP', 'NDP', 'TTP', 'UMP','FPP'] + ['R1P', 'HPA', 'URA', 'PAU']\n",
    "\n",
    "organic_cofactors_df = pd.read_csv('data/known_cofactors/known_cofactors.csv')\n",
    "\n",
    "organic_cofactors_codes = organic_cofactors_df[~organic_cofactors_df['code'].isna()].code.tolist()\n",
    "\n",
    "organic_cofactors_fps = [AllChem.GetMorganFingerprint(Chem.MolFromSmiles(smiles), 3)\n",
    "                            for smiles in organic_cofactors_df.smiles]\n",
    "\n",
    "buffer_components = pd.read_csv('data/crystal_buffer_components.csv').code.tolist()\n",
    "\n",
    "bindingmoad_validity = pd.read_csv('data/tidy_BindingMOAD_2019.csv')[['Protein_ID', 'Ligand_Name','Ligand_Validity']].drop_duplicates()"
   ],
   "metadata": {
    "collapsed": false,
    "pycharm": {
     "name": "#%%\n"
    }
   }
  },
  {
   "cell_type": "code",
   "execution_count": 8,
   "outputs": [],
   "source": [
    "referece_dictionary = create_reference_dictionary()"
   ],
   "metadata": {
    "collapsed": false,
    "pycharm": {
     "name": "#%%\n"
    }
   }
  },
  {
   "cell_type": "code",
   "execution_count": 9,
   "outputs": [],
   "source": [
    "log = {'complex':[], 'ligands':[], 'failed':[], 'reason_for_failing':[]}"
   ],
   "metadata": {
    "collapsed": false,
    "pycharm": {
     "name": "#%%\n"
    }
   }
  },
  {
   "cell_type": "code",
   "execution_count": 13,
   "outputs": [
    {
     "name": "stdout",
     "output_type": "stream",
     "text": [
      "4HT2_V50.sdf\n",
      "['ZN', 'V50', 'EDO', 'HOH']\n",
      "['EDO', 'V50']\n"
     ]
    }
   ],
   "source": [
    "# 1H01_FAL, 5MHQ_8QT, 1OIR_HDY\n",
    "for uniprot_id in referece_dictionary:\n",
    "    os.makedirs(PATH_TO_EDITED_PDB_FOLDER+'/'+uniprot_id, exist_ok=True)\n",
    "    for template in referece_dictionary[uniprot_id]:\n",
    "        if template not in ['4HT2_V50.sdf']:\n",
    "            continue\n",
    "        print(template)\n",
    "        #try:\n",
    "        pdb_id = template.split('_')[0]\n",
    "        template_id =template.split('_')[1].split('.')[0]\n",
    "\n",
    "        # get pdb structure\n",
    "        ppdb = PandasPdb().read_pdb(PATH_TO_PDB_FOLDER+'/'+uniprot_id+'/'+pdb_id+'.pdb')\n",
    "\n",
    "        atom_df = ppdb.df['ATOM']\n",
    "        hetatm_df = ppdb.df['HETATM']\n",
    "\n",
    "        # get reference molecule\n",
    "        reference = Chem.SDMolSupplier(PATH_TO_REFERENCE_LIGANDS_FOLDER+'/'+uniprot_id+'/'+template)[0]\n",
    "        reference = reference.GetConformer()\n",
    "\n",
    "        # calculate distances between reference ligand atoms to all other atoms in the structure\n",
    "        i = 0\n",
    "        series_hetatoms = {}\n",
    "        for position in reference.GetPositions():\n",
    "            series_hetatoms[i] = ppdb.distance(xyz=position, records=('HETATM'))\n",
    "            i += 1\n",
    "        # concatenate into a dataframe\n",
    "        series_hetatoms = pd.concat(series_hetatoms, axis=1)\n",
    "        # assign to each atom the minimum distance to the reference ligand\n",
    "        series_hetatoms = series_hetatoms.min(axis=1)\n",
    "        # add column with distances to the 'HETATM' biopandas dataframe\n",
    "        hetatm_df = pd.concat([series_hetatoms, hetatm_df], axis=1)\n",
    "\n",
    "        # create list of het residues that are less than 6.5 A from the reference ligand\n",
    "        neibs = hetatm_df[hetatm_df[0]<6.5]['residue_name'].drop_duplicates().tolist()\n",
    "        print(neibs)\n",
    "        neibs = [neib for neib in neibs if neib not in ['HOH', template_id]+\n",
    "                                                        inorganic_cofactors+\n",
    "                                                        organic_cofactors_codes+\n",
    "                                                        atp_analogues+\n",
    "                                                        biologically_relevant+\n",
    "                                                        modified_residues]\n",
    "\n",
    "        to_remove = []\n",
    "        # add them to the to_remove list if they are buffer components\n",
    "        for neib in neibs:\n",
    "            if neib in buffer_components:\n",
    "                to_remove += [neib]\n",
    "        neibs = [neib for neib in neibs if neib not in to_remove]\n",
    "\n",
    "        # if there are still compounds check if they are similar to the cofactors\n",
    "        probably_cofactor = []\n",
    "        if len(neibs) > 0:\n",
    "            for neib in neibs:\n",
    "                print(neib)\n",
    "                smiles = get_smiles_from_PDB_chem_comp(neib)\n",
    "                if smiles != None:\n",
    "                    smiles = smiles['SMILES_CANONICAL']\n",
    "                    mol = Chem.MolFromSmiles(smiles)\n",
    "                    if mol != None:\n",
    "                        mol_neib_fp = AllChem.GetMorganFingerprint(mol, 3)\n",
    "                        for fp in organic_cofactors_fps:\n",
    "                            ts = DataStructs.TanimotoSimilarity(fp, mol_neib_fp)\n",
    "                            if ts > 0.9:\n",
    "                                probably_cofactor += [neib]\n",
    "\n",
    "        neibs = [neib for neib in neibs if neib not in probably_cofactor]\n",
    "\n",
    "        if len(neibs) > 0:\n",
    "            # check if the ligands were defined as \"invalid\" or \"Part of Protein\" by BindingMOAD\n",
    "            bm_validities = bindingmoad_validity[bindingmoad_validity['Protein_ID']==pdb_id].dropna().values.tolist()\n",
    "            print(bm_validities)\n",
    "            for neib in neibs:\n",
    "                for row in bm_validities:\n",
    "                    if neib in row[1]:\n",
    "                        if row[2] == 'invalid':\n",
    "                            to_remove += [neib]\n",
    "                            break\n",
    "                        if row[2] == 'Part of Protein':\n",
    "                            probably_cofactor += [neib]\n",
    "                            break\n",
    "\n",
    "        neibs = [neib for neib in neibs if neib not in probably_cofactor+to_remove]\n",
    "\n",
    "        if len(neibs) > 0:\n",
    "            log['complex'] += [template.split('.')[0]]\n",
    "            log['ligands'] += [','.join(neibs)]\n",
    "        else:\n",
    "            log['complex'] += [template.split('.')[0]]\n",
    "            log['ligands'] += ['']\n",
    "\n",
    "        to_remove = to_remove + neibs + [template_id]\n",
    "\n",
    "        # Now remove from .pdb the het components in the to_remove list\n",
    "        ppdb.df['HETATM'] = ppdb.df['HETATM'].loc[~ppdb.df['HETATM']['residue_name'].isin(to_remove)]\n",
    "        print(to_remove)\n",
    "\n",
    "        # save back to .pdb file\n",
    "        ppdb.to_pdb(PATH_TO_EDITED_PDB_FOLDER+'/'+uniprot_id+'/'+template.split('.')[0]+'.pdb')\n",
    "\n",
    "        log['failed'] += [0]\n",
    "        log['reason_for_failing'] += ['']\n",
    "        #except Exception as e:\n",
    "        #    log['complex'] += [template.split('.')[0]]\n",
    "        #    log['ligands'] += ['']\n",
    "        #    log['failed'] += [1]\n",
    "        #    log['reason_for_failing'] += [str(e)]\n",
    "    #print('Complexes under uniprot_id',uniprot_id,'done!')\n",
    "    #print('')\n",
    "\n",
    "    #log_df = pd.DataFrame(log)\n",
    "    #log_df.to_csv('data/logs/remove_hets_log.txt', index=False)"
   ],
   "metadata": {
    "collapsed": false,
    "pycharm": {
     "name": "#%%\n"
    }
   }
  },
  {
   "cell_type": "code",
   "execution_count": 42,
   "outputs": [],
   "source": [
    "log_df = pd.read_csv('data/logs/remove_hets_log.txt')"
   ],
   "metadata": {
    "collapsed": false,
    "pycharm": {
     "name": "#%%\n"
    }
   }
  },
  {
   "cell_type": "code",
   "execution_count": 65,
   "outputs": [
    {
     "data": {
      "text/plain": "     complex ligands  failed reason_for_failing\n0   4WZV_E40               0                   \n1   4WZV_E40               0                   \n2   4WZV_E40               0                   \n3   3MHO_J43               0                   \n4   1D6W_00R      NA       0                   \n5   3KQE_LGM      NA       0                   \n6   3KQB_LGJ      NA       0                   \n7   3KQC_LGK      NA       0                   \n8   5ETM_5RW               0                   \n9   5ETP_5RZ               0                   \n10  3ENZ_HPA     R1X       0                   ",
      "text/html": "<div>\n<style scoped>\n    .dataframe tbody tr th:only-of-type {\n        vertical-align: middle;\n    }\n\n    .dataframe tbody tr th {\n        vertical-align: top;\n    }\n\n    .dataframe thead th {\n        text-align: right;\n    }\n</style>\n<table border=\"1\" class=\"dataframe\">\n  <thead>\n    <tr style=\"text-align: right;\">\n      <th></th>\n      <th>complex</th>\n      <th>ligands</th>\n      <th>failed</th>\n      <th>reason_for_failing</th>\n    </tr>\n  </thead>\n  <tbody>\n    <tr>\n      <th>0</th>\n      <td>4WZV_E40</td>\n      <td></td>\n      <td>0</td>\n      <td></td>\n    </tr>\n    <tr>\n      <th>1</th>\n      <td>4WZV_E40</td>\n      <td></td>\n      <td>0</td>\n      <td></td>\n    </tr>\n    <tr>\n      <th>2</th>\n      <td>4WZV_E40</td>\n      <td></td>\n      <td>0</td>\n      <td></td>\n    </tr>\n    <tr>\n      <th>3</th>\n      <td>3MHO_J43</td>\n      <td></td>\n      <td>0</td>\n      <td></td>\n    </tr>\n    <tr>\n      <th>4</th>\n      <td>1D6W_00R</td>\n      <td>NA</td>\n      <td>0</td>\n      <td></td>\n    </tr>\n    <tr>\n      <th>5</th>\n      <td>3KQE_LGM</td>\n      <td>NA</td>\n      <td>0</td>\n      <td></td>\n    </tr>\n    <tr>\n      <th>6</th>\n      <td>3KQB_LGJ</td>\n      <td>NA</td>\n      <td>0</td>\n      <td></td>\n    </tr>\n    <tr>\n      <th>7</th>\n      <td>3KQC_LGK</td>\n      <td>NA</td>\n      <td>0</td>\n      <td></td>\n    </tr>\n    <tr>\n      <th>8</th>\n      <td>5ETM_5RW</td>\n      <td></td>\n      <td>0</td>\n      <td></td>\n    </tr>\n    <tr>\n      <th>9</th>\n      <td>5ETP_5RZ</td>\n      <td></td>\n      <td>0</td>\n      <td></td>\n    </tr>\n    <tr>\n      <th>10</th>\n      <td>3ENZ_HPA</td>\n      <td>R1X</td>\n      <td>0</td>\n      <td></td>\n    </tr>\n  </tbody>\n</table>\n</div>"
     },
     "execution_count": 65,
     "metadata": {},
     "output_type": "execute_result"
    }
   ],
   "source": [
    "log_df = pd.DataFrame(log)\n",
    "log_df"
   ],
   "metadata": {
    "collapsed": false,
    "pycharm": {
     "name": "#%%\n"
    }
   }
  },
  {
   "cell_type": "code",
   "execution_count": 39,
   "outputs": [
    {
     "name": "stderr",
     "output_type": "stream",
     "text": [
      "/home/fol007/anaconda3/envs/py37_rdkit/lib/python3.7/site-packages/ipykernel_launcher.py:4: FutureWarning: elementwise comparison failed; returning scalar instead, but in the future will perform elementwise comparison\n",
      "  after removing the cwd from sys.path.\n"
     ]
    }
   ],
   "source": [
    "undefined = np.array([[0,0,0]])\n",
    "for lig in log_df[~log_df['ligands'].isna()]['ligands'].drop_duplicates().values:\n",
    "    for i in lig.split(','):\n",
    "        if i not in undefined[:,0]:\n",
    "            smiles = get_smiles_from_PDB_chem_comp(i)\n",
    "            if smiles != None:\n",
    "                smiles = smiles['SMILES_CANONICAL']\n",
    "                undefined = np.vstack([undefined,[i ,smiles, int(log_df.loc[(log_df['ligands']==lig)].shape[0])]])\n",
    "            else:\n",
    "                undefined = np.vstack([undefined,[i ,None, int(log_df.loc[(log_df['ligands']==lig)].shape[0])]])"
   ],
   "metadata": {
    "collapsed": false,
    "pycharm": {
     "name": "#%%\n"
    }
   }
  },
  {
   "cell_type": "code",
   "execution_count": 40,
   "outputs": [],
   "source": [
    "undefined = undefined.tolist()[1:]"
   ],
   "metadata": {
    "collapsed": false,
    "pycharm": {
     "name": "#%%\n"
    }
   }
  },
  {
   "cell_type": "code",
   "execution_count": 41,
   "outputs": [
    {
     "data": {
      "text/plain": "[['HG', '[Hg+2]', '2'],\n ['KCX', 'C(CCNC(=O)O)C[C@@H](C(=O)O)N', '2'],\n ['0MZ',\n  'c1ccc(c(c1)/C=N/N=C\\\\2/N=C([C@@H](S2)CC(=O)Nc3cccc(c3)C(F)(F)F)O)O',\n  '1'],\n ['MTX',\n  'CN(Cc1cnc2c(n1)c(nc(n2)N)N)c3ccc(cc3)C(=O)N[C@@H](CCC(=O)O)C(=O)O',\n  '1'],\n ['MG5',\n  'CCC(=O)O[C@@H]1[C@H](O[C@H]([C@@H]([C@H]1OC(=O)CC)OC(=O)CC)O)COS(=O)(=O)N',\n  '1'],\n ['6KE',\n  'C[C@@H](C(=O)Nc1ccc(cc1)S(=O)(=O)N)SC2=NC(=C(C(=O)N2)C#N)c3ccc(cc3)Cl',\n  '1'],\n ['1CR',\n  'COc1cc2c3cc1OCCOc4cc5c(cc4OCc6cn(nn6)CCc7ccc(cc7)S(=O)(=O)N)Cc8cc9c(cc8Cc1cc(c(cc1C5)OCc1cn(nn1)CCC(=O)O)OCCOc1cc(c(cc1OC)Cc1cc(c(cc1C3)OC)OCCO9)C2)OCc1cn(nn1)CCC(=O)O',\n  '1'],\n ['MTL', 'C([C@H]([C@H]([C@@H]([C@@H](CO)O)O)O)O)O', '1'],\n ['ARG', 'C(C[C@@H](C(=O)O)N)CNC(=[NH2+])N', '1'],\n ['BY7', 'Cc1cc(nc(c1)N)CCc2cc(cc(c2)C(F)(F)F)CCCN(C)C', '1'],\n ['8FD', 'Cc1cc(nc2c1ccc(c2)COc3cc(cc(c3)C#N)C[C@H](C)NC)N', '1'],\n ['KMD', 'Cc1cc(nc(c1)N)CCc2cc(cc(c2)F)CC[C@@H]3CCCN3C', '1'],\n ['ZZ3', 'Cc1nc(nc(n1)SC)N', '1'],\n ['XQK', 'Cc1c(c([nH]n1)c2ccno2)C(=O)OC', '1'],\n ['YJW', 'Cc1c(c(no1)c2ccc(cc2O)O)c3ccccc3', '1'],\n ['YJX', 'c1ccc2c(c1)C3=C(CCCN3C2=O)c4[nH]c5cnccc5n4', '1'],\n ['LGA', 'c1cnc(nc1)N', '1'],\n ['MT0', 'Cc1c2ccccc2c(nn1)Cl', '1'],\n ['A13', 'Cc1cc(nc(n1)N)C(F)(F)F', '1'],\n ['A51', 'c1ccc(cc1)N\\\\C=C\\\\2/CCOC2=O', '1'],\n ['MFQ', 'Cc1ccc(c(c1)Br)N(CC#N)c2cc(ncn2)Nc3ccc(cc3)OC[C@H](CN(C)C)O', '1'],\n ['FBL', 'CN(C)C[C@@H](COc1ccc(cc1)Nc2nccc(n2)Nc3cc(ccc3Cl)Cl)O', '1'],\n ['2AN', 'c1ccc(cc1)Nc2cccc3c2c(ccc3)S(=O)(=O)O', '1'],\n ['FCP', 'CN(C)C[C@H](COc1ccc(cc1)Nc2cc(ncn2)Nc3c(cccc3F)F)O', '1'],\n ['4B8', 'c1cc(ccc1c2nnc(o2)c3cc(c(c(c3)Cl)O)Cl)O', '1'],\n ['LDT', 'c1cc(c(cc1F)OCC(=O)O)C(=S)NCc2ccc(cc2F)Br', '1'],\n ['FID', 'c1cc2c(cc1F)[C@@]3(C[C@H](O2)C(=O)N)C(=O)NC(=O)N3', '1'],\n ['FIS', 'c1cc2c(cc1F)[C@]3(C[C@H](O2)C(=O)N)C(=O)NC(=O)N3', '1'],\n ['4O8', 'c1cc(c(cc1Cl)OCC(=O)O)C(=O)NCc2c(cc(cc2F)Br)F', '1'],\n ['AX7', 'c1ccc2c(c1)[nH]c(n2)N', '1'],\n ['F21', 'c1cc2c(cc1S(=O)(=O)N3CCSCC3)CN[C@H](C2)CF', '1'],\n ['HH2', 'c1c(nc2c(n1)N=C(NC2=O)N)CO[P@](=O)(O)OP(=O)(O)O', '1'],\n ['HHS', 'c1c(nc2c(n1)N=C(NC2=O)N)C(=O)O', '1'],\n ['6T2', 'CC1(COC1)COc2ccc3c(c2)ncn3c4ccc5cccc(c5n4)N6CCC(CC6)N', '1'],\n ['BGC', 'C([C@@H]1[C@H]([C@@H]([C@H]([C@@H](O1)O)O)O)O)O', '1'],\n ['G9J', 'CC1=C([C@@H](Oc2c1cc(cc2)O)c3ccc(cc3)I)c4cccc(c4)O', '1'],\n ['ARP', 'C[C@H](Cn1cnc2c1ncnc2N)O', '1'],\n ['APS', 'C[C@@H](Cn1cnc2c1ncnc2N)O', '1'],\n ['1SM', 'Cc1cc(nc(n1)NC(=O)NS(=O)(=O)c2ccccc2C(=O)OC)C', '1'],\n ['PXD', 'COc1cnc(n2c1nc(n2)NS(=O)(=O)c3c(cccc3OCC(F)F)C(F)(F)F)OC', '1'],\n ['TP9',\n  'Cc1ncc(c(n1)N)CN/C(=C(/CCO[P@](=O)([O-])O[P@@](=O)(O)[O-])\\\\S)/C',\n  '1'],\n ['AUJ',\n  'Cc1ncc(c(n1)N)C[N]2=C(SC(=C2C)CCOP(=O)(O)OP(=O)(O)O)[C@@](C)(O)OO',\n  '1'],\n ['P25', 'CCCCCO[P@@](=O)(O)OP(=O)(O)O', '1'],\n ['PYD', 'Cc1cnc(nc1N)C', '1'],\n ['1MM', 'Cc1nc(nc(n1)OC)NC(=O)NS(=O)(=O)c2ccccc2C(=O)OC', '1'],\n ['YF3', 'Cc1ncc(c(n1)N)CNC(C)CS', '1'],\n ['NSP', 'Cc1ncc(c(n1)N)CN', '1'],\n ['1CS', 'Cc1nc(nc(n1)OC)NC(=O)NS(=O)(=O)c2ccccc2Cl', '1'],\n ['P22', 'CCO[P@](=O)(O)OP(=O)(O)O', '1'],\n ['S48',\n  'Cn1cc(nc1)S(=O)(=O)[N@@](CC(=O)OC)[C@H]2Cc3cc(ccc3N(C2)Cc4cncn4C)c5ccccc5',\n  '1'],\n ['FII', 'CC(=CCC/C(=C/CC/C(=C/CONC(=O)CP(=O)(O)O)/C)/C)C', '1'],\n ['U49', 'c1cc2ccc3cc2c(c1)N4CCC(C4=O)NCc5cncn5Cc6ccc(c(c6)O3)C#N', '1'],\n ['R2B', 'C1=C([C@@H]([C@H](O1)CO)O)O', '1'],\n ['URF', 'C1=C(C(=O)NC(=O)N1)F', '1'],\n ['RQ3', 'Cc1cc(cc(c1)NC(=O)Cc2ccc(cc2)OC(C)(C)C(=O)O)C', '1'],\n ['AR3', 'C1=CN(C(=O)N=C1N)[C@H]2[C@H]([C@@H]([C@H](O2)CO)O)O', '1'],\n ['TAD',\n  'c1c(nc(s1)[C@H]2[C@@H]([C@@H]([C@H](O2)CO[P@](=O)(C[P@@](=O)(O)OC[C@@H]3[C@H]([C@H]([C@@H](O3)n4cnc5c4ncnc5N)O)O)O)O)O)C(=O)N',\n  '1'],\n ['NAG', 'CC(=O)N[C@@H]1[C@H]([C@@H]([C@H](O[C@H]1O)CO)O)O', '1'],\n ['G3P', 'C([C@H](COP(=O)(O)O)O)O', '1'],\n ['PYI', 'Cc1c(ccc[n+]1Cc2cnc(nc2N)C)CCO[P@@](=O)(O)OP(=O)(O)O', '1']]"
     },
     "execution_count": 41,
     "metadata": {},
     "output_type": "execute_result"
    }
   ],
   "source": [
    "undefined.sort(key=lambda x:int(x[2]), reverse=True)\n",
    "undefined"
   ],
   "metadata": {
    "collapsed": false,
    "pycharm": {
     "name": "#%%\n"
    }
   }
  },
  {
   "cell_type": "code",
   "execution_count": 24,
   "outputs": [
    {
     "data": {
      "text/plain": "[['HG', '[Hg+2]', '2'],\n ['KCX', 'C(CCNC(=O)O)C[C@@H](C(=O)O)N', '2'],\n ['0MZ',\n  'c1ccc(c(c1)/C=N/N=C\\\\2/N=C([C@@H](S2)CC(=O)Nc3cccc(c3)C(F)(F)F)O)O',\n  '1'],\n ['MTX',\n  'CN(Cc1cnc2c(n1)c(nc(n2)N)N)c3ccc(cc3)C(=O)N[C@@H](CCC(=O)O)C(=O)O',\n  '1'],\n ['MG5',\n  'CCC(=O)O[C@@H]1[C@H](O[C@H]([C@@H]([C@H]1OC(=O)CC)OC(=O)CC)O)COS(=O)(=O)N',\n  '1'],\n ['6KE',\n  'C[C@@H](C(=O)Nc1ccc(cc1)S(=O)(=O)N)SC2=NC(=C(C(=O)N2)C#N)c3ccc(cc3)Cl',\n  '1'],\n ['1CR',\n  'COc1cc2c3cc1OCCOc4cc5c(cc4OCc6cn(nn6)CCc7ccc(cc7)S(=O)(=O)N)Cc8cc9c(cc8Cc1cc(c(cc1C5)OCc1cn(nn1)CCC(=O)O)OCCOc1cc(c(cc1OC)Cc1cc(c(cc1C3)OC)OCCO9)C2)OCc1cn(nn1)CCC(=O)O',\n  '1'],\n ['MTL', 'C([C@H]([C@H]([C@@H]([C@@H](CO)O)O)O)O)O', '1'],\n ['ARG', 'C(C[C@@H](C(=O)O)N)CNC(=[NH2+])N', '1'],\n ['BY7', 'Cc1cc(nc(c1)N)CCc2cc(cc(c2)C(F)(F)F)CCCN(C)C', '1'],\n ['8FD', 'Cc1cc(nc2c1ccc(c2)COc3cc(cc(c3)C#N)C[C@H](C)NC)N', '1'],\n ['KMD', 'Cc1cc(nc(c1)N)CCc2cc(cc(c2)F)CC[C@@H]3CCCN3C', '1'],\n ['ZZ3', 'Cc1nc(nc(n1)SC)N', '1'],\n ['XQK', 'Cc1c(c([nH]n1)c2ccno2)C(=O)OC', '1'],\n ['YJW', 'Cc1c(c(no1)c2ccc(cc2O)O)c3ccccc3', '1'],\n ['YJX', 'c1ccc2c(c1)C3=C(CCCN3C2=O)c4[nH]c5cnccc5n4', '1'],\n ['LGA', 'c1cnc(nc1)N', '1'],\n ['MT0', 'Cc1c2ccccc2c(nn1)Cl', '1'],\n ['A13', 'Cc1cc(nc(n1)N)C(F)(F)F', '1'],\n ['A51', 'c1ccc(cc1)N\\\\C=C\\\\2/CCOC2=O', '1'],\n ['MFQ', 'Cc1ccc(c(c1)Br)N(CC#N)c2cc(ncn2)Nc3ccc(cc3)OC[C@H](CN(C)C)O', '1'],\n ['FBL', 'CN(C)C[C@@H](COc1ccc(cc1)Nc2nccc(n2)Nc3cc(ccc3Cl)Cl)O', '1'],\n ['2AN', 'c1ccc(cc1)Nc2cccc3c2c(ccc3)S(=O)(=O)O', '1'],\n ['FCP', 'CN(C)C[C@H](COc1ccc(cc1)Nc2cc(ncn2)Nc3c(cccc3F)F)O', '1'],\n ['4B8', 'c1cc(ccc1c2nnc(o2)c3cc(c(c(c3)Cl)O)Cl)O', '1'],\n ['LDT', 'c1cc(c(cc1F)OCC(=O)O)C(=S)NCc2ccc(cc2F)Br', '1'],\n ['FID', 'c1cc2c(cc1F)[C@@]3(C[C@H](O2)C(=O)N)C(=O)NC(=O)N3', '1'],\n ['FIS', 'c1cc2c(cc1F)[C@]3(C[C@H](O2)C(=O)N)C(=O)NC(=O)N3', '1'],\n ['4O8', 'c1cc(c(cc1Cl)OCC(=O)O)C(=O)NCc2c(cc(cc2F)Br)F', '1'],\n ['AX7', 'c1ccc2c(c1)[nH]c(n2)N', '1'],\n ['F21', 'c1cc2c(cc1S(=O)(=O)N3CCSCC3)CN[C@H](C2)CF', '1'],\n ['HH2', 'c1c(nc2c(n1)N=C(NC2=O)N)CO[P@](=O)(O)OP(=O)(O)O', '1'],\n ['HHS', 'c1c(nc2c(n1)N=C(NC2=O)N)C(=O)O', '1'],\n ['6T2', 'CC1(COC1)COc2ccc3c(c2)ncn3c4ccc5cccc(c5n4)N6CCC(CC6)N', '1'],\n ['BGC', 'C([C@@H]1[C@H]([C@@H]([C@H]([C@@H](O1)O)O)O)O)O', '1'],\n ['G9J', 'CC1=C([C@@H](Oc2c1cc(cc2)O)c3ccc(cc3)I)c4cccc(c4)O', '1'],\n ['ARP', 'C[C@H](Cn1cnc2c1ncnc2N)O', '1'],\n ['APS', 'C[C@@H](Cn1cnc2c1ncnc2N)O', '1'],\n ['1SM', 'Cc1cc(nc(n1)NC(=O)NS(=O)(=O)c2ccccc2C(=O)OC)C', '1'],\n ['PXD', 'COc1cnc(n2c1nc(n2)NS(=O)(=O)c3c(cccc3OCC(F)F)C(F)(F)F)OC', '1'],\n ['TP9',\n  'Cc1ncc(c(n1)N)CN/C(=C(/CCO[P@](=O)([O-])O[P@@](=O)(O)[O-])\\\\S)/C',\n  '1'],\n ['AUJ',\n  'Cc1ncc(c(n1)N)C[N]2=C(SC(=C2C)CCOP(=O)(O)OP(=O)(O)O)[C@@](C)(O)OO',\n  '1'],\n ['P25', 'CCCCCO[P@@](=O)(O)OP(=O)(O)O', '1'],\n ['PYD', 'Cc1cnc(nc1N)C', '1'],\n ['1MM', 'Cc1nc(nc(n1)OC)NC(=O)NS(=O)(=O)c2ccccc2C(=O)OC', '1'],\n ['YF3', 'Cc1ncc(c(n1)N)CNC(C)CS', '1'],\n ['NSP', 'Cc1ncc(c(n1)N)CN', '1'],\n ['1CS', 'Cc1nc(nc(n1)OC)NC(=O)NS(=O)(=O)c2ccccc2Cl', '1'],\n ['P22', 'CCO[P@](=O)(O)OP(=O)(O)O', '1'],\n ['S48',\n  'Cn1cc(nc1)S(=O)(=O)[N@@](CC(=O)OC)[C@H]2Cc3cc(ccc3N(C2)Cc4cncn4C)c5ccccc5',\n  '1'],\n ['FII', 'CC(=CCC/C(=C/CC/C(=C/CONC(=O)CP(=O)(O)O)/C)/C)C', '1'],\n ['U49', 'c1cc2ccc3cc2c(c1)N4CCC(C4=O)NCc5cncn5Cc6ccc(c(c6)O3)C#N', '1'],\n ['R2B', 'C1=C([C@@H]([C@H](O1)CO)O)O', '1'],\n ['URF', 'C1=C(C(=O)NC(=O)N1)F', '1'],\n ['RQ3', 'Cc1cc(cc(c1)NC(=O)Cc2ccc(cc2)OC(C)(C)C(=O)O)C', '1'],\n ['AR3', 'C1=CN(C(=O)N=C1N)[C@H]2[C@H]([C@@H]([C@H](O2)CO)O)O', '1'],\n ['TAD',\n  'c1c(nc(s1)[C@H]2[C@@H]([C@@H]([C@H](O2)CO[P@](=O)(C[P@@](=O)(O)OC[C@@H]3[C@H]([C@H]([C@@H](O3)n4cnc5c4ncnc5N)O)O)O)O)O)C(=O)N',\n  '1'],\n ['NAG', 'CC(=O)N[C@@H]1[C@H]([C@@H]([C@H](O[C@H]1O)CO)O)O', '1'],\n ['G3P', 'C([C@H](COP(=O)(O)O)O)O', '1'],\n ['PYI', 'Cc1c(ccc[n+]1Cc2cnc(nc2N)C)CCO[P@@](=O)(O)OP(=O)(O)O', '1']]"
     },
     "execution_count": 24,
     "metadata": {},
     "output_type": "execute_result"
    }
   ],
   "source": [
    "for und in undefined:\n",
    "    mol = Chem.MolFromSmiles(und[1])\n",
    "    if mol != None:\n",
    "        smiles = Chem.MolToSmiles(mol)\n",
    "        und[1] = smiles\n",
    "    else:\n",
    "        und[1] = None"
   ],
   "metadata": {
    "collapsed": false,
    "pycharm": {
     "name": "#%%\n"
    }
   }
  },
  {
   "cell_type": "code",
   "execution_count": 47,
   "outputs": [
    {
     "data": {
      "text/plain": "['4WZV_E40.sdf',\n '3MHO_J43.sdf',\n '1D6W_00R.sdf',\n '3KQE_LGM.sdf',\n '3KQB_LGJ.sdf',\n '3KQC_LGK.sdf',\n '5ETM_5RW.sdf',\n '5ETP_5RZ.sdf',\n '3ENZ_HPA.sdf']"
     },
     "execution_count": 47,
     "metadata": {},
     "output_type": "execute_result"
    }
   ],
   "source": [
    "e=log_df[~log_df['reason_for_failing'].isna()].complex.tolist()\n",
    "e = [i+'.sdf' for i in e]\n",
    "e"
   ],
   "metadata": {
    "collapsed": false,
    "pycharm": {
     "name": "#%%\n"
    }
   }
  },
  {
   "cell_type": "code",
   "execution_count": 7,
   "outputs": [],
   "source": [
    "# helper functions:\n",
    "\n",
    "def create_reference_dictionary(path_to_reference_ligands_folder=PATH_TO_REFERENCE_LIGANDS_FOLDER):\n",
    "    '''organize dictionary based on the reference ligands'''\n",
    "    reference_dictionary = {}\n",
    "    uniprot_ids = os.listdir(path_to_reference_ligands_folder)\n",
    "    for uniprot_id in uniprot_ids:\n",
    "        reference_dictionary[uniprot_id] = []\n",
    "        for references in os.listdir(path_to_reference_ligands_folder + '/' + uniprot_id):\n",
    "            reference_dictionary[uniprot_id] += [references]\n",
    "    return reference_dictionary\n",
    "\n",
    "def get_smiles_from_PDB_chem_comp(chem_comp, program='OpenEye OEToolkits'):\n",
    "    '''get Isomeric SMILES from the PDB'''\n",
    "    variables=dict(comp_id = chem_comp)\n",
    "    query = '''query($comp_id: String!) {\n",
    "            chem_comp(comp_id: $comp_id) {\n",
    "               pdbx_chem_comp_descriptor {\n",
    "                         type\n",
    "                         program\n",
    "                         descriptor\n",
    "                        }\n",
    "                      }\n",
    "               }'''\n",
    "    response = requests.post('http://data.rcsb.org/graphql', json={'query': query, 'variables': variables})\n",
    "    dictionary = {}\n",
    "    if response.status_code == 200:\n",
    "        response = response.json()['data']['chem_comp']\n",
    "        if response is not None:\n",
    "            response = response['pdbx_chem_comp_descriptor']\n",
    "            if response == None:\n",
    "                return None\n",
    "            for content in response:\n",
    "                if content['type'] == 'SMILES_CANONICAL' and content['program'] == program:\n",
    "                    dictionary[content['type']] = content['descriptor']\n",
    "            if dictionary=={}:\n",
    "                return None\n",
    "            return dictionary\n",
    "        else:\n",
    "            return None\n",
    "    else:\n",
    "        return None\n"
   ],
   "metadata": {
    "collapsed": false,
    "pycharm": {
     "name": "#%%\n"
    }
   }
  }
 ],
 "metadata": {
  "kernelspec": {
   "display_name": "Python 3",
   "language": "python",
   "name": "python3"
  },
  "language_info": {
   "codemirror_mode": {
    "name": "ipython",
    "version": 2
   },
   "file_extension": ".py",
   "mimetype": "text/x-python",
   "name": "python",
   "nbconvert_exporter": "python",
   "pygments_lexer": "ipython2",
   "version": "2.7.6"
  }
 },
 "nbformat": 4,
 "nbformat_minor": 0
}
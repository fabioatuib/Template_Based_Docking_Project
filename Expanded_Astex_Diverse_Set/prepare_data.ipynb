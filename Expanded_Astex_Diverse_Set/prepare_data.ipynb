{
 "cells": [
  {
   "cell_type": "code",
   "execution_count": 1,
   "metadata": {
    "collapsed": true
   },
   "outputs": [],
   "source": [
    "# import necessary modules\n",
    "import os\n",
    "import math\n",
    "import time\n",
    "import gzip\n",
    "import requests\n",
    "import pandas as pd\n",
    "from pymol import cmd\n",
    "from rdkit import Chem\n",
    "from rdkit.Chem import AllChem\n",
    "from rdkit import RDLogger\n",
    "RDLogger.DisableLog('rdApp.*')\n",
    "from biopandas.pdb import PandasPdb"
   ]
  },
  {
   "cell_type": "code",
   "execution_count": 2,
   "outputs": [],
   "source": [
    "PATH_TO_COMPLEXES_LIST='expanded_Astex_count.csv'\n",
    "PATH_TO_PDB_FOLDER='pdb_files'\n",
    "PATH_TO_REFERENCE_LIGANDS_FOLDER='reference_ligands'\n",
    "PATH_TO_SMILES_TO_GENERATE_CONFORMER='smiles_to_genconformer'"
   ],
   "metadata": {
    "collapsed": false,
    "pycharm": {
     "name": "#%%\n"
    }
   }
  },
  {
   "cell_type": "code",
   "execution_count": 3,
   "outputs": [],
   "source": [
    "# functions:\n",
    "def get_PDB(pdb_id):\n",
    "    '''download .pdb file'''\n",
    "    response = requests.get('https://files.rcsb.org/download/{}.pdb'.format(pdb_id))\n",
    "\n",
    "    if response.status_code == 200:\n",
    "        return response.text\n",
    "    else:\n",
    "        return None\n",
    "\n",
    "def get_smiles_from_PDB_chem_comp(chem_comp, program='OpenEye OEToolkits'):\n",
    "    '''get Isomeric SMILES from the PDB'''\n",
    "    variables=dict(comp_id = chem_comp)\n",
    "    query = '''query($comp_id: String!) {\n",
    "            chem_comp(comp_id: $comp_id) {\n",
    "               pdbx_chem_comp_descriptor {\n",
    "                         type\n",
    "                         program\n",
    "                         descriptor\n",
    "                        }\n",
    "                      }\n",
    "               }'''\n",
    "    response = requests.post('http://data.rcsb.org/graphql', json={'query': query, 'variables': variables})\n",
    "    dictionary = {}\n",
    "    if response.status_code == 200:\n",
    "        response = response.json()['data']['chem_comp']\n",
    "        if response is not None:\n",
    "            response = response['pdbx_chem_comp_descriptor']\n",
    "            for content in response:\n",
    "                if content['type'] == 'SMILES_CANONICAL' and content['program'] == program:\n",
    "                    dictionary[content['type']] = content['descriptor']\n",
    "            if dictionary=={}:\n",
    "                return None\n",
    "            return dictionary\n",
    "        else:\n",
    "            return None\n",
    "    else:\n",
    "        return None\n",
    "\n",
    "def get_smiles_from_PDB_chem_comp_list(chem_comp_list, program='OpenEye OEToolkits'):\n",
    "    program='OpenEye OEToolkits'\n",
    "\n",
    "    dictionary = {}\n",
    "    for chem in chem_comp_list:\n",
    "        dictionary[chem]=None\n",
    "\n",
    "    chem_comps='[\"'\n",
    "    for chem in chem_comp_list[:-1]:\n",
    "        chem_comps+=chem+'\", \"'\n",
    "    chem_comps+=chem_comp_list[-1]+'\"]'\n",
    "\n",
    "    query='''{\n",
    "      chem_comps(comp_ids: '''+chem_comps+''') {\n",
    "        pdbx_chem_comp_descriptor {\n",
    "          comp_id\n",
    "          type\n",
    "          program\n",
    "          descriptor\n",
    "        }\n",
    "      }\n",
    "    }'''\n",
    "\n",
    "    response = requests.post('http://data.rcsb.org/graphql', json={'query': query})\n",
    "    response.json()\n",
    "\n",
    "    try:\n",
    "        response = response.json()['data']['chem_comps']\n",
    "        for ligand in response:\n",
    "            ligand = ligand['pdbx_chem_comp_descriptor']\n",
    "            for content in ligand:\n",
    "                if content['type'] == 'SMILES_CANONICAL' and content['program'] == program:\n",
    "                    dictionary[content['comp_id']]=content['descriptor']\n",
    "        return dictionary\n",
    "    except:\n",
    "        return None\n",
    "\n",
    "def get_model_ligand(pdbblock, comp_id):\n",
    "    ''''''\n",
    "    pdbblock = pdbblock.split('\\n')\n",
    "    keep = []\n",
    "    for i in pdbblock:\n",
    "        if ('HETATM' in i) and (comp_id in i):\n",
    "            keep += [i]\n",
    "    keep = '\\n'.join(keep)\n",
    "    mol = Chem.MolFromPDBBlock(keep, sanitize=True)\n",
    "    mol = Chem.GetMolFrags(mol, asMols=True, sanitizeFrags=True)[0]\n",
    "\n",
    "    return mol"
   ],
   "metadata": {
    "collapsed": false,
    "pycharm": {
     "name": "#%%\n"
    }
   }
  },
  {
   "cell_type": "code",
   "execution_count": 4,
   "outputs": [
    {
     "data": {
      "text/plain": "  Astex_Diverse_Set Protein_Class Uniprot_ID Protein_ID Ligand_Name Chain  \\\n0              1OQ5       4.2.1.1     P00918       3T85         SG7     A   \n1              1OQ5       4.2.1.1     P00918       1OKN         STB     A   \n2              1OQ5       4.2.1.1     P00918       1BNV         AL7     A   \n3              1OQ5       4.2.1.1     P00918       1BNQ         AL4     A   \n4              1OQ5       4.2.1.1     P00918       1CNY         EG3     A   \n\n   resolution  mutated  count  \n0         2.4        0    303  \n1         2.4        0    303  \n2         2.4        0    303  \n3         2.4        0    303  \n4         2.3        0    303  ",
      "text/html": "<div>\n<style scoped>\n    .dataframe tbody tr th:only-of-type {\n        vertical-align: middle;\n    }\n\n    .dataframe tbody tr th {\n        vertical-align: top;\n    }\n\n    .dataframe thead th {\n        text-align: right;\n    }\n</style>\n<table border=\"1\" class=\"dataframe\">\n  <thead>\n    <tr style=\"text-align: right;\">\n      <th></th>\n      <th>Astex_Diverse_Set</th>\n      <th>Protein_Class</th>\n      <th>Uniprot_ID</th>\n      <th>Protein_ID</th>\n      <th>Ligand_Name</th>\n      <th>Chain</th>\n      <th>resolution</th>\n      <th>mutated</th>\n      <th>count</th>\n    </tr>\n  </thead>\n  <tbody>\n    <tr>\n      <th>0</th>\n      <td>1OQ5</td>\n      <td>4.2.1.1</td>\n      <td>P00918</td>\n      <td>3T85</td>\n      <td>SG7</td>\n      <td>A</td>\n      <td>2.4</td>\n      <td>0</td>\n      <td>303</td>\n    </tr>\n    <tr>\n      <th>1</th>\n      <td>1OQ5</td>\n      <td>4.2.1.1</td>\n      <td>P00918</td>\n      <td>1OKN</td>\n      <td>STB</td>\n      <td>A</td>\n      <td>2.4</td>\n      <td>0</td>\n      <td>303</td>\n    </tr>\n    <tr>\n      <th>2</th>\n      <td>1OQ5</td>\n      <td>4.2.1.1</td>\n      <td>P00918</td>\n      <td>1BNV</td>\n      <td>AL7</td>\n      <td>A</td>\n      <td>2.4</td>\n      <td>0</td>\n      <td>303</td>\n    </tr>\n    <tr>\n      <th>3</th>\n      <td>1OQ5</td>\n      <td>4.2.1.1</td>\n      <td>P00918</td>\n      <td>1BNQ</td>\n      <td>AL4</td>\n      <td>A</td>\n      <td>2.4</td>\n      <td>0</td>\n      <td>303</td>\n    </tr>\n    <tr>\n      <th>4</th>\n      <td>1OQ5</td>\n      <td>4.2.1.1</td>\n      <td>P00918</td>\n      <td>1CNY</td>\n      <td>EG3</td>\n      <td>A</td>\n      <td>2.3</td>\n      <td>0</td>\n      <td>303</td>\n    </tr>\n  </tbody>\n</table>\n</div>"
     },
     "execution_count": 4,
     "metadata": {},
     "output_type": "execute_result"
    }
   ],
   "source": [
    "# read .csv file with all complexes into a dataframe\n",
    "df = pd.read_csv(PATH_TO_COMPLEXES_LIST)\n",
    "df.head()"
   ],
   "metadata": {
    "collapsed": false,
    "pycharm": {
     "name": "#%%\n"
    }
   }
  },
  {
   "cell_type": "code",
   "execution_count": 5,
   "outputs": [
    {
     "name": "stdout",
     "output_type": "stream",
     "text": [
      "0       P00918\n",
      "303     P29476\n",
      "498     P07900\n",
      "685     P24941\n",
      "862     P00734\n",
      "         ...  \n",
      "2273    O93077\n",
      "2274    P15917\n",
      "2275    Q07785\n",
      "2276    Q00535\n",
      "2277    P9WIL5\n",
      "Name: Uniprot_ID, Length: 80, dtype: object\n"
     ]
    }
   ],
   "source": [
    "# make list with the protein targets uniprot identifiers\n",
    "uniprot_ids = df['Uniprot_ID'].drop_duplicates()"
   ],
   "metadata": {
    "collapsed": false,
    "pycharm": {
     "name": "#%%\n"
    }
   }
  },
  {
   "cell_type": "code",
   "execution_count": 6,
   "outputs": [],
   "source": [
    "# save all .pdb files\n",
    "for uniprot_id in uniprot_ids:\n",
    "    os.makedirs('pdb_files_originals/'+uniprot_id, exist_ok=True)\n",
    "    list_of_pdb=df[df['Uniprot_ID']==uniprot_id]['Protein_ID'].drop_duplicates().tolist()\n",
    "    o=open('pdb_files_originals/'+uniprot_id+'/list_of_pdb.txt', 'w')\n",
    "    o.write(','.join(list_of_pdb))\n",
    "    o.close()\n",
    "    os.system('nohup' +\n",
    "              ' ./batch_download.sh' +\n",
    "              ' -f ' + 'pdb_files_originals/' + uniprot_id + '/list_of_pdb.txt' +\n",
    "              ' -o ' + 'pdb_files_originals/' + uniprot_id +\n",
    "              ' -p ' +\n",
    "              '  > ' + 'pdb_files_originals/' + uniprot_id + '/download_log.txt &')"
   ],
   "metadata": {
    "collapsed": false,
    "pycharm": {
     "name": "#%%\n"
    }
   }
  },
  {
   "cell_type": "code",
   "execution_count": 13,
   "outputs": [],
   "source": [
    "# get all the smiles\n",
    "list_of_ligand_names=df['Ligand_Name'].drop_duplicates().tolist()\n",
    "ligand_smiles_dictionary=get_smiles_from_PDB_chem_comp_list(chem_comp_list=list_of_ligand_names,\n",
    "                                                            program='OpenEye OEToolkits')\n",
    "\n",
    "# parse the smiles with RDKit\n",
    "for ligand_name in ligand_smiles_dictionary:\n",
    "    try:\n",
    "        ligand_smiles_dictionary[ligand_name]=Chem.MolToSmiles(Chem.MolFromSmiles(ligand_smiles_dictionary[ligand_name]))\n",
    "    except Exception as e:\n",
    "        ligand_smiles_dictionary[ligand_name]=None"
   ],
   "metadata": {
    "collapsed": false,
    "pycharm": {
     "name": "#%%\n"
    }
   }
  },
  {
   "cell_type": "code",
   "execution_count": 17,
   "outputs": [
    {
     "name": "stdout",
     "output_type": "stream",
     "text": [
      "Start with protein target: P00918\n",
      "Start with protein target: P29476\n",
      "Start with protein target: P07900\n",
      "Start with protein target: P24941\n",
      "Start with protein target: P00734\n",
      "Start with protein target: P02766\n",
      "Start with protein target: P00742\n",
      "Start with protein target: O14757\n",
      "Start with protein target: P15121\n",
      "Start with protein target: Q08499\n",
      "Start with protein target: P00374\n",
      "Start with protein target: P28720\n",
      "Start with protein target: P08709\n",
      "Start with protein target: P04058\n",
      "Start with protein target: P53779\n",
      "Start with protein target: Q24451\n",
      "Start with protein target: P04585\n",
      "Start with protein target: P10275\n",
      "Start with protein target: P11086\n",
      "Start with protein target: P27487\n",
      "Start with protein target: P26281\n",
      "Start with protein target: P11473\n",
      "Start with protein target: P00811\n",
      "Start with protein target: P49841\n",
      "Start with protein target: P50579\n",
      "Start with protein target: P00749\n",
      "Start with protein target: P16083\n",
      "Start with protein target: P15090\n",
      "Start with protein target: P35557\n",
      "Start with protein target: P03372\n",
      "Start with protein target: P03176\n",
      "Start with protein target: P00929\n",
      "Start with protein target: P07342\n",
      "Start with protein target: P06401\n",
      "Start with protein target: P9WKE1\n",
      "Start with protein target: P22906\n",
      "Start with protein target: P35968\n",
      "Start with protein target: P55859\n",
      "Start with protein target: O76074\n",
      "Start with protein target: P56658\n",
      "Start with protein target: P03472\n",
      "Start with protein target: O43570\n",
      "Start with protein target: Q07343\n",
      "Start with protein target: P00520\n",
      "Start with protein target: P49356\n",
      "Start with protein target: P47811\n",
      "Start with protein target: P08799\n",
      "Start with protein target: P12758\n",
      "Start with protein target: P04818\n",
      "Start with protein target: P03474\n",
      "Start with protein target: P06875\n",
      "Start with protein target: P08473\n",
      "Start with protein target: P03369\n",
      "Start with protein target: P69905\n",
      "Start with protein target: P20231\n",
      "Start with protein target: P0AGJ9\n",
      "Start with protein target: Q07912\n",
      "Start with protein target: P10721\n",
      "Start with protein target: Q8I3X4\n",
      "Start with protein target: P27707\n",
      "Start with protein target: P50097\n",
      "Start with protein target: P14780\n",
      "Start with protein target: Q54276\n",
      "Start with protein target: P32449\n",
      "Start with protein target: P10827\n",
      "Start with protein target: P19971\n",
      "Start with protein target: P05979\n",
      "Start with protein target: Q79MP6\n",
      "Start with protein target: P13922\n",
      "Start with protein target: Q9R0M5\n",
      "Start with protein target: Q9GPQ4\n",
      "Start with protein target: P42260\n",
      "Start with protein target: P0A6I3\n",
      "Start with protein target: P11712\n",
      "Start with protein target: P10828\n",
      "Start with protein target: O93077\n",
      "Start with protein target: P15917\n",
      "Start with protein target: Q07785\n",
      "Start with protein target: Q00535\n",
      "Start with protein target: P9WIL5\n"
     ]
    }
   ],
   "source": [
    "# generate reference ligands and organize summary dataframe\n",
    "log=open('log.txt', 'w')\n",
    "\n",
    "df['Smiles'] = ''\n",
    "for uniprot_id in uniprot_ids:\n",
    "    print('Start with protein target:', uniprot_id)\n",
    "    log.write('\\n')\n",
    "    log.write('Start with protein target: '+ uniprot_id +'\\n')\n",
    "\n",
    "    os.makedirs(PATH_TO_PDB_FOLDER + '/' + uniprot_id, exist_ok=True)\n",
    "    os.makedirs(PATH_TO_REFERENCE_LIGANDS_FOLDER + '/' + uniprot_id, exist_ok=True)\n",
    "\n",
    "    smiles_writer=open(PATH_TO_SMILES_TO_GENERATE_CONFORMER + '/' + uniprot_id + '_smiles_to_genconformer.smi', 'w')\n",
    "\n",
    "    proteins_ligands = df.loc[df['Uniprot_ID'] == uniprot_id][['Protein_ID', 'Ligand_Name']].itertuples()\n",
    "    for index, pdb_id, ligand_id in proteins_ligands:\n",
    "\n",
    "        try:\n",
    "            pdb=gzip.open('pdb_files_originals/' + uniprot_id + '/' + pdb_id + '.pdb.gz', 'rt')\n",
    "            pdb=pdb.read()\n",
    "            smiles_canonical=ligand_smiles_dictionary[ligand_id]\n",
    "        except Exception as e:\n",
    "            pdb=None\n",
    "            smiles_canonical=None\n",
    "\n",
    "        if pdb!=None and smiles_canonical!=None:\n",
    "            try:\n",
    "                model_mol = get_model_ligand(pdbblock=pdb, comp_id=ligand_id)\n",
    "\n",
    "                refmol = Chem.MolFromSmiles(smiles_canonical)\n",
    "\n",
    "                model_mol = AllChem.AssignBondOrdersFromTemplate(refmol=refmol, mol=model_mol)\n",
    "                AllChem.AssignStereochemistryFrom3D(model_mol)\n",
    "\n",
    "                model_mol.SetProp('_Name', '_'.join([pdb_id, ligand_id]))\n",
    "\n",
    "                if Chem.MolToSmiles(refmol) != Chem.MolToSmiles(model_mol):\n",
    "                    df=df.drop(index=index)\n",
    "                    #print('Why are the smiles not equal?', pdb_id, ligand_id)\n",
    "                    log.write(pdb_id+' '+ligand_id+': Why are the smiles not equal?'+'\\n')\n",
    "                else:\n",
    "                    file = open(PATH_TO_PDB_FOLDER + '/' + uniprot_id + '/' + pdb_id + '.pdb', 'w')\n",
    "                    file.write(pdb)\n",
    "                    file.close()\n",
    "                    sdf = Chem.SDWriter(PATH_TO_REFERENCE_LIGANDS_FOLDER + '/' + uniprot_id + '/' + '_'.join([pdb_id, ligand_id]) + '.sdf')\n",
    "                    sdf.write(model_mol)\n",
    "                    sdf.close()\n",
    "                    log.write(pdb_id+' '+ligand_id+': success!'+'\\n')\n",
    "                    df.at[index, 'Smiles'] = smiles_canonical\n",
    "                    smiles_writer.write(smiles_canonical + ' ' + model_mol.GetProp('_Name') + '\\n')\n",
    "\n",
    "            except Exception as e:\n",
    "                df=df.drop(index=index)\n",
    "                #print('Exception:', e)\n",
    "                #print(pdb_id, ligand_id)\n",
    "                log.write(pdb_id+' '+ligand_id+': Exception: '+str(e)+'\\n')\n",
    "        else:\n",
    "            df=df.drop(index=index)\n",
    "            log.write(pdb_id+' '+ligand_id+': pdb or smiles equal to None!'+'\\n')\n",
    "\n",
    "    smiles_writer.close()\n",
    "    log.close()\n",
    "    df[df['Uniprot_ID']==uniprot_id].to_csv('astex-diverse-set/'+uniprot_id+'.csv', index=False)\n",
    "    log=open('log.txt', 'a')\n",
    "log.close()\n",
    "\n",
    "df.to_csv('expanded_Astex_with_smiles.csv', index=False)"
   ],
   "metadata": {
    "collapsed": false,
    "pycharm": {
     "name": "#%%\n"
    }
   }
  },
  {
   "cell_type": "code",
   "execution_count": 24,
   "outputs": [
    {
     "data": {
      "text/plain": "  Astex_Diverse_Set Protein_Class Uniprot_ID Protein_ID Ligand_Name Chain  \\\n0              1OQ5       4.2.1.1     P00918       3T85         SG7     A   \n1              1OQ5       4.2.1.1     P00918       1OKN         STB     A   \n2              1OQ5       4.2.1.1     P00918       1BNV         AL7     A   \n3              1OQ5       4.2.1.1     P00918       1BNQ         AL4     A   \n4              1OQ5       4.2.1.1     P00918       1CNY         EG3     A   \n\n   resolution  mutated  count  \\\n0         2.4        0    273   \n1         2.4        0    273   \n2         2.4        0    273   \n3         2.4        0    273   \n4         2.3        0    273   \n\n                                              Smiles  \n0  CC(=O)O[C@@H]1[C@H](O)[C@@H](O)O[C@H](COS(N)(=...  \n1                  NS(=O)(=O)c1ccc(C(=O)NCCCCNCS)cc1  \n2  CN[C@@H]1CN(c2cccc(OC)c2)S(=O)(=O)c2sc(S(N)(=O...  \n3     CCN[C@H]1CN(CCOC)S(=O)(=O)c2sc(S(N)(=O)=O)cc21  \n4  N[C@@H](Cc1ccccc1)C(=O)NCCOCCOCCNC(=O)c1ccc(S(...  ",
      "text/html": "<div>\n<style scoped>\n    .dataframe tbody tr th:only-of-type {\n        vertical-align: middle;\n    }\n\n    .dataframe tbody tr th {\n        vertical-align: top;\n    }\n\n    .dataframe thead th {\n        text-align: right;\n    }\n</style>\n<table border=\"1\" class=\"dataframe\">\n  <thead>\n    <tr style=\"text-align: right;\">\n      <th></th>\n      <th>Astex_Diverse_Set</th>\n      <th>Protein_Class</th>\n      <th>Uniprot_ID</th>\n      <th>Protein_ID</th>\n      <th>Ligand_Name</th>\n      <th>Chain</th>\n      <th>resolution</th>\n      <th>mutated</th>\n      <th>count</th>\n      <th>Smiles</th>\n    </tr>\n  </thead>\n  <tbody>\n    <tr>\n      <th>0</th>\n      <td>1OQ5</td>\n      <td>4.2.1.1</td>\n      <td>P00918</td>\n      <td>3T85</td>\n      <td>SG7</td>\n      <td>A</td>\n      <td>2.4</td>\n      <td>0</td>\n      <td>273</td>\n      <td>CC(=O)O[C@@H]1[C@H](O)[C@@H](O)O[C@H](COS(N)(=...</td>\n    </tr>\n    <tr>\n      <th>1</th>\n      <td>1OQ5</td>\n      <td>4.2.1.1</td>\n      <td>P00918</td>\n      <td>1OKN</td>\n      <td>STB</td>\n      <td>A</td>\n      <td>2.4</td>\n      <td>0</td>\n      <td>273</td>\n      <td>NS(=O)(=O)c1ccc(C(=O)NCCCCNCS)cc1</td>\n    </tr>\n    <tr>\n      <th>2</th>\n      <td>1OQ5</td>\n      <td>4.2.1.1</td>\n      <td>P00918</td>\n      <td>1BNV</td>\n      <td>AL7</td>\n      <td>A</td>\n      <td>2.4</td>\n      <td>0</td>\n      <td>273</td>\n      <td>CN[C@@H]1CN(c2cccc(OC)c2)S(=O)(=O)c2sc(S(N)(=O...</td>\n    </tr>\n    <tr>\n      <th>3</th>\n      <td>1OQ5</td>\n      <td>4.2.1.1</td>\n      <td>P00918</td>\n      <td>1BNQ</td>\n      <td>AL4</td>\n      <td>A</td>\n      <td>2.4</td>\n      <td>0</td>\n      <td>273</td>\n      <td>CCN[C@H]1CN(CCOC)S(=O)(=O)c2sc(S(N)(=O)=O)cc21</td>\n    </tr>\n    <tr>\n      <th>4</th>\n      <td>1OQ5</td>\n      <td>4.2.1.1</td>\n      <td>P00918</td>\n      <td>1CNY</td>\n      <td>EG3</td>\n      <td>A</td>\n      <td>2.3</td>\n      <td>0</td>\n      <td>273</td>\n      <td>N[C@@H](Cc1ccccc1)C(=O)NCCOCCOCCNC(=O)c1ccc(S(...</td>\n    </tr>\n  </tbody>\n</table>\n</div>"
     },
     "execution_count": 24,
     "metadata": {},
     "output_type": "execute_result"
    }
   ],
   "source": [
    "for repre in df['Astex_Diverse_Set'].drop_duplicates():\n",
    "    df.loc[df['Astex_Diverse_Set']==repre, 'count']=len(df[df['Astex_Diverse_Set']==repre])\n",
    "\n",
    "df.head()"
   ],
   "metadata": {
    "collapsed": false,
    "pycharm": {
     "name": "#%%\n"
    }
   }
  },
  {
   "cell_type": "code",
   "execution_count": null,
   "outputs": [],
   "source": [
    "df.to_csv('expanded_Astex_with_smiles.csv', index=False)"
   ],
   "metadata": {
    "collapsed": false,
    "pycharm": {
     "name": "#%%\n"
    }
   }
  },
  {
   "cell_type": "code",
   "execution_count": 30,
   "outputs": [],
   "source": [
    "df_less_or_equal_to_three = df.loc[df['count']<3]"
   ],
   "metadata": {
    "collapsed": false,
    "pycharm": {
     "name": "#%%\n"
    }
   }
  },
  {
   "cell_type": "code",
   "execution_count": 31,
   "outputs": [],
   "source": [
    "df_less_or_equal_to_three.to_csv('expanded_Astex_with_smiles_less_or_equal_to_three.csv', index=False)"
   ],
   "metadata": {
    "collapsed": false,
    "pycharm": {
     "name": "#%%\n"
    }
   }
  },
  {
   "cell_type": "code",
   "execution_count": 34,
   "outputs": [
    {
     "data": {
      "text/plain": "11"
     },
     "execution_count": 34,
     "metadata": {},
     "output_type": "execute_result"
    }
   ],
   "source": [
    "len(df_less_or_equal_to_three['Uniprot_ID'].drop_duplicates())"
   ],
   "metadata": {
    "collapsed": false,
    "pycharm": {
     "name": "#%%\n"
    }
   }
  },
  {
   "cell_type": "code",
   "execution_count": 35,
   "outputs": [
    {
     "data": {
      "text/plain": "79"
     },
     "execution_count": 35,
     "metadata": {},
     "output_type": "execute_result"
    }
   ],
   "source": [
    "len(df['Uniprot_ID'].drop_duplicates())"
   ],
   "metadata": {
    "collapsed": false,
    "pycharm": {
     "name": "#%%\n"
    }
   }
  },
  {
   "cell_type": "code",
   "execution_count": 5,
   "outputs": [
    {
     "data": {
      "text/plain": "     Astex_Diverse_Set Protein_Class Uniprot_ID Protein_ID Ligand_Name Chain  \\\n0                 1OQ5       4.2.1.1     P00918       3T85         SG7     A   \n1                 1OQ5       4.2.1.1     P00918       1OKN         STB     A   \n2                 1OQ5       4.2.1.1     P00918       1BNV         AL7     A   \n3                 1OQ5       4.2.1.1     P00918       1BNQ         AL4     A   \n4                 1OQ5       4.2.1.1     P00918       1CNY         EG3     A   \n...                ...           ...        ...        ...         ...   ...   \n1987              1N46      18.-.-.-     P10828       6KKB         8HO     X   \n1988              1YVF      2.7.7.48     O93077       1YVF         PH7     A   \n1989              1YQY     3.4.24.83     P15917       4DV8         0LX     A   \n1990              1V0P      2.7.1.23     Q07785       1V0O         INR   A,B   \n1991              1UNL     2.7.11.22     Q00535       4AU8         Z3R   A,B   \n\n      resolution  mutated  count  \\\n0           2.40        0    273   \n1           2.40        0    273   \n2           2.40        0    273   \n3           2.40        0    273   \n4           2.30        0    273   \n...          ...      ...    ...   \n1987        1.70        0      2   \n1988        2.50        0      1   \n1989        1.63        0      1   \n1990        1.90        0      1   \n1991        1.90        0      1   \n\n                                                 Smiles  \n0     CC(=O)O[C@@H]1[C@H](O)[C@@H](O)O[C@H](COS(N)(=...  \n1                     NS(=O)(=O)c1ccc(C(=O)NCCCCNCS)cc1  \n2     CN[C@@H]1CN(c2cccc(OC)c2)S(=O)(=O)c2sc(S(N)(=O...  \n3        CCN[C@H]1CN(CCOC)S(=O)(=O)c2sc(S(N)(=O)=O)cc21  \n4     N[C@@H](Cc1ccccc1)C(=O)NCCOCCOCCNC(=O)c1ccc(S(...  \n...                                                 ...  \n1987       Cc1nc(C(=O)NCC(=O)O)c(O)c2ccc(Oc3ccccc3)cc12  \n1988   O=C(O)/C(=C/c1ccc(Oc2ccccc2Br)cc1)NC(=O)c1ccccc1  \n1989  CO[C@H](C[C@H](CCCCNCc1ccc(F)cc1)C(=O)NO)c1ccc...  \n1990      O=C1Nc2ccc(S(=O)(=O)O)cc2/C1=C1/Nc2ccccc2C1=O  \n1991                  NS(=O)(=O)c1cc(-c2nc3ccccc3s2)cs1  \n\n[1992 rows x 10 columns]",
      "text/html": "<div>\n<style scoped>\n    .dataframe tbody tr th:only-of-type {\n        vertical-align: middle;\n    }\n\n    .dataframe tbody tr th {\n        vertical-align: top;\n    }\n\n    .dataframe thead th {\n        text-align: right;\n    }\n</style>\n<table border=\"1\" class=\"dataframe\">\n  <thead>\n    <tr style=\"text-align: right;\">\n      <th></th>\n      <th>Astex_Diverse_Set</th>\n      <th>Protein_Class</th>\n      <th>Uniprot_ID</th>\n      <th>Protein_ID</th>\n      <th>Ligand_Name</th>\n      <th>Chain</th>\n      <th>resolution</th>\n      <th>mutated</th>\n      <th>count</th>\n      <th>Smiles</th>\n    </tr>\n  </thead>\n  <tbody>\n    <tr>\n      <th>0</th>\n      <td>1OQ5</td>\n      <td>4.2.1.1</td>\n      <td>P00918</td>\n      <td>3T85</td>\n      <td>SG7</td>\n      <td>A</td>\n      <td>2.40</td>\n      <td>0</td>\n      <td>273</td>\n      <td>CC(=O)O[C@@H]1[C@H](O)[C@@H](O)O[C@H](COS(N)(=...</td>\n    </tr>\n    <tr>\n      <th>1</th>\n      <td>1OQ5</td>\n      <td>4.2.1.1</td>\n      <td>P00918</td>\n      <td>1OKN</td>\n      <td>STB</td>\n      <td>A</td>\n      <td>2.40</td>\n      <td>0</td>\n      <td>273</td>\n      <td>NS(=O)(=O)c1ccc(C(=O)NCCCCNCS)cc1</td>\n    </tr>\n    <tr>\n      <th>2</th>\n      <td>1OQ5</td>\n      <td>4.2.1.1</td>\n      <td>P00918</td>\n      <td>1BNV</td>\n      <td>AL7</td>\n      <td>A</td>\n      <td>2.40</td>\n      <td>0</td>\n      <td>273</td>\n      <td>CN[C@@H]1CN(c2cccc(OC)c2)S(=O)(=O)c2sc(S(N)(=O...</td>\n    </tr>\n    <tr>\n      <th>3</th>\n      <td>1OQ5</td>\n      <td>4.2.1.1</td>\n      <td>P00918</td>\n      <td>1BNQ</td>\n      <td>AL4</td>\n      <td>A</td>\n      <td>2.40</td>\n      <td>0</td>\n      <td>273</td>\n      <td>CCN[C@H]1CN(CCOC)S(=O)(=O)c2sc(S(N)(=O)=O)cc21</td>\n    </tr>\n    <tr>\n      <th>4</th>\n      <td>1OQ5</td>\n      <td>4.2.1.1</td>\n      <td>P00918</td>\n      <td>1CNY</td>\n      <td>EG3</td>\n      <td>A</td>\n      <td>2.30</td>\n      <td>0</td>\n      <td>273</td>\n      <td>N[C@@H](Cc1ccccc1)C(=O)NCCOCCOCCNC(=O)c1ccc(S(...</td>\n    </tr>\n    <tr>\n      <th>...</th>\n      <td>...</td>\n      <td>...</td>\n      <td>...</td>\n      <td>...</td>\n      <td>...</td>\n      <td>...</td>\n      <td>...</td>\n      <td>...</td>\n      <td>...</td>\n      <td>...</td>\n    </tr>\n    <tr>\n      <th>1987</th>\n      <td>1N46</td>\n      <td>18.-.-.-</td>\n      <td>P10828</td>\n      <td>6KKB</td>\n      <td>8HO</td>\n      <td>X</td>\n      <td>1.70</td>\n      <td>0</td>\n      <td>2</td>\n      <td>Cc1nc(C(=O)NCC(=O)O)c(O)c2ccc(Oc3ccccc3)cc12</td>\n    </tr>\n    <tr>\n      <th>1988</th>\n      <td>1YVF</td>\n      <td>2.7.7.48</td>\n      <td>O93077</td>\n      <td>1YVF</td>\n      <td>PH7</td>\n      <td>A</td>\n      <td>2.50</td>\n      <td>0</td>\n      <td>1</td>\n      <td>O=C(O)/C(=C/c1ccc(Oc2ccccc2Br)cc1)NC(=O)c1ccccc1</td>\n    </tr>\n    <tr>\n      <th>1989</th>\n      <td>1YQY</td>\n      <td>3.4.24.83</td>\n      <td>P15917</td>\n      <td>4DV8</td>\n      <td>0LX</td>\n      <td>A</td>\n      <td>1.63</td>\n      <td>0</td>\n      <td>1</td>\n      <td>CO[C@H](C[C@H](CCCCNCc1ccc(F)cc1)C(=O)NO)c1ccc...</td>\n    </tr>\n    <tr>\n      <th>1990</th>\n      <td>1V0P</td>\n      <td>2.7.1.23</td>\n      <td>Q07785</td>\n      <td>1V0O</td>\n      <td>INR</td>\n      <td>A,B</td>\n      <td>1.90</td>\n      <td>0</td>\n      <td>1</td>\n      <td>O=C1Nc2ccc(S(=O)(=O)O)cc2/C1=C1/Nc2ccccc2C1=O</td>\n    </tr>\n    <tr>\n      <th>1991</th>\n      <td>1UNL</td>\n      <td>2.7.11.22</td>\n      <td>Q00535</td>\n      <td>4AU8</td>\n      <td>Z3R</td>\n      <td>A,B</td>\n      <td>1.90</td>\n      <td>0</td>\n      <td>1</td>\n      <td>NS(=O)(=O)c1cc(-c2nc3ccccc3s2)cs1</td>\n    </tr>\n  </tbody>\n</table>\n<p>1992 rows × 10 columns</p>\n</div>"
     },
     "execution_count": 5,
     "metadata": {},
     "output_type": "execute_result"
    }
   ],
   "source": [
    "df = pd.read_csv('expanded_Astex_with_smiles.csv')"
   ],
   "metadata": {
    "collapsed": false,
    "pycharm": {
     "name": "#%%\n"
    }
   }
  },
  {
   "cell_type": "code",
   "execution_count": 8,
   "outputs": [
    {
     "data": {
      "text/plain": "     Astex_Diverse_Set Protein_Class Uniprot_ID Protein_ID Ligand_Name  \\\n1587              1OWE     3.4.21.73     P00749       1OWD         497   \n1588              1OWE     3.4.21.73     P00749       2VNT         QGG   \n1589              1OWE     3.4.21.73     P00749       1SQA         UI1   \n1590              1OWE     3.4.21.73     P00749       1SQO         UI2   \n1591              1OWE     3.4.21.73     P00749       3IG6         438   \n...                ...           ...        ...        ...         ...   \n1987              1N46      18.-.-.-     P10828       6KKB         8HO   \n1988              1YVF      2.7.7.48     O93077       1YVF         PH7   \n1989              1YQY     3.4.24.83     P15917       4DV8         0LX   \n1990              1V0P      2.7.1.23     Q07785       1V0O         INR   \n1991              1UNL     2.7.11.22     Q00535       4AU8         Z3R   \n\n            Chain  resolution  mutated  count  \\\n1587            A        2.32        0      9   \n1588  A,B,C,D,E,F        2.20        0      9   \n1589            A        2.00        0      9   \n1590            A        1.84        0      9   \n1591          B,D        1.83        0      9   \n...           ...         ...      ...    ...   \n1987            X        1.70        0      2   \n1988            A        2.50        0      1   \n1989            A        1.63        0      1   \n1990          A,B        1.90        0      1   \n1991          A,B        1.90        0      1   \n\n                                                 Smiles  \n1587  CC[C@H]1CNCc2ccc(NC(=O)c3ccc4cc(C(=N)N)ccc4c3)...  \n1588  NC(N)=Nc1ncc(Cl)c2ccc(S(=O)(=O)N3CCC[C@@H]3C(=...  \n1589  N=C(N)c1ccc2cc(C(=O)Nc3ccc(CN)cc3)cc(Nc3ncccn3...  \n1590                    N=C(N)c1ccc2cccc(Nc3ncccn3)c2c1  \n1591  CN(C)c1ccc(C(=O)O)c(Oc2nc(Oc3cccc(-c4cccc(CN)c...  \n...                                                 ...  \n1987       Cc1nc(C(=O)NCC(=O)O)c(O)c2ccc(Oc3ccccc3)cc12  \n1988   O=C(O)/C(=C/c1ccc(Oc2ccccc2Br)cc1)NC(=O)c1ccccc1  \n1989  CO[C@H](C[C@H](CCCCNCc1ccc(F)cc1)C(=O)NO)c1ccc...  \n1990      O=C1Nc2ccc(S(=O)(=O)O)cc2/C1=C1/Nc2ccccc2C1=O  \n1991                  NS(=O)(=O)c1cc(-c2nc3ccccc3s2)cs1  \n\n[385 rows x 10 columns]",
      "text/html": "<div>\n<style scoped>\n    .dataframe tbody tr th:only-of-type {\n        vertical-align: middle;\n    }\n\n    .dataframe tbody tr th {\n        vertical-align: top;\n    }\n\n    .dataframe thead th {\n        text-align: right;\n    }\n</style>\n<table border=\"1\" class=\"dataframe\">\n  <thead>\n    <tr style=\"text-align: right;\">\n      <th></th>\n      <th>Astex_Diverse_Set</th>\n      <th>Protein_Class</th>\n      <th>Uniprot_ID</th>\n      <th>Protein_ID</th>\n      <th>Ligand_Name</th>\n      <th>Chain</th>\n      <th>resolution</th>\n      <th>mutated</th>\n      <th>count</th>\n      <th>Smiles</th>\n    </tr>\n  </thead>\n  <tbody>\n    <tr>\n      <th>1587</th>\n      <td>1OWE</td>\n      <td>3.4.21.73</td>\n      <td>P00749</td>\n      <td>1OWD</td>\n      <td>497</td>\n      <td>A</td>\n      <td>2.32</td>\n      <td>0</td>\n      <td>9</td>\n      <td>CC[C@H]1CNCc2ccc(NC(=O)c3ccc4cc(C(=N)N)ccc4c3)...</td>\n    </tr>\n    <tr>\n      <th>1588</th>\n      <td>1OWE</td>\n      <td>3.4.21.73</td>\n      <td>P00749</td>\n      <td>2VNT</td>\n      <td>QGG</td>\n      <td>A,B,C,D,E,F</td>\n      <td>2.20</td>\n      <td>0</td>\n      <td>9</td>\n      <td>NC(N)=Nc1ncc(Cl)c2ccc(S(=O)(=O)N3CCC[C@@H]3C(=...</td>\n    </tr>\n    <tr>\n      <th>1589</th>\n      <td>1OWE</td>\n      <td>3.4.21.73</td>\n      <td>P00749</td>\n      <td>1SQA</td>\n      <td>UI1</td>\n      <td>A</td>\n      <td>2.00</td>\n      <td>0</td>\n      <td>9</td>\n      <td>N=C(N)c1ccc2cc(C(=O)Nc3ccc(CN)cc3)cc(Nc3ncccn3...</td>\n    </tr>\n    <tr>\n      <th>1590</th>\n      <td>1OWE</td>\n      <td>3.4.21.73</td>\n      <td>P00749</td>\n      <td>1SQO</td>\n      <td>UI2</td>\n      <td>A</td>\n      <td>1.84</td>\n      <td>0</td>\n      <td>9</td>\n      <td>N=C(N)c1ccc2cccc(Nc3ncccn3)c2c1</td>\n    </tr>\n    <tr>\n      <th>1591</th>\n      <td>1OWE</td>\n      <td>3.4.21.73</td>\n      <td>P00749</td>\n      <td>3IG6</td>\n      <td>438</td>\n      <td>B,D</td>\n      <td>1.83</td>\n      <td>0</td>\n      <td>9</td>\n      <td>CN(C)c1ccc(C(=O)O)c(Oc2nc(Oc3cccc(-c4cccc(CN)c...</td>\n    </tr>\n    <tr>\n      <th>...</th>\n      <td>...</td>\n      <td>...</td>\n      <td>...</td>\n      <td>...</td>\n      <td>...</td>\n      <td>...</td>\n      <td>...</td>\n      <td>...</td>\n      <td>...</td>\n      <td>...</td>\n    </tr>\n    <tr>\n      <th>1987</th>\n      <td>1N46</td>\n      <td>18.-.-.-</td>\n      <td>P10828</td>\n      <td>6KKB</td>\n      <td>8HO</td>\n      <td>X</td>\n      <td>1.70</td>\n      <td>0</td>\n      <td>2</td>\n      <td>Cc1nc(C(=O)NCC(=O)O)c(O)c2ccc(Oc3ccccc3)cc12</td>\n    </tr>\n    <tr>\n      <th>1988</th>\n      <td>1YVF</td>\n      <td>2.7.7.48</td>\n      <td>O93077</td>\n      <td>1YVF</td>\n      <td>PH7</td>\n      <td>A</td>\n      <td>2.50</td>\n      <td>0</td>\n      <td>1</td>\n      <td>O=C(O)/C(=C/c1ccc(Oc2ccccc2Br)cc1)NC(=O)c1ccccc1</td>\n    </tr>\n    <tr>\n      <th>1989</th>\n      <td>1YQY</td>\n      <td>3.4.24.83</td>\n      <td>P15917</td>\n      <td>4DV8</td>\n      <td>0LX</td>\n      <td>A</td>\n      <td>1.63</td>\n      <td>0</td>\n      <td>1</td>\n      <td>CO[C@H](C[C@H](CCCCNCc1ccc(F)cc1)C(=O)NO)c1ccc...</td>\n    </tr>\n    <tr>\n      <th>1990</th>\n      <td>1V0P</td>\n      <td>2.7.1.23</td>\n      <td>Q07785</td>\n      <td>1V0O</td>\n      <td>INR</td>\n      <td>A,B</td>\n      <td>1.90</td>\n      <td>0</td>\n      <td>1</td>\n      <td>O=C1Nc2ccc(S(=O)(=O)O)cc2/C1=C1/Nc2ccccc2C1=O</td>\n    </tr>\n    <tr>\n      <th>1991</th>\n      <td>1UNL</td>\n      <td>2.7.11.22</td>\n      <td>Q00535</td>\n      <td>4AU8</td>\n      <td>Z3R</td>\n      <td>A,B</td>\n      <td>1.90</td>\n      <td>0</td>\n      <td>1</td>\n      <td>NS(=O)(=O)c1cc(-c2nc3ccccc3s2)cs1</td>\n    </tr>\n  </tbody>\n</table>\n<p>385 rows × 10 columns</p>\n</div>"
     },
     "execution_count": 8,
     "metadata": {},
     "output_type": "execute_result"
    }
   ],
   "source": [
    "df_less_or_equal_to_20 = df.loc[df['count']<20]\n",
    "df_less_or_equal_to_20"
   ],
   "metadata": {
    "collapsed": false,
    "pycharm": {
     "name": "#%%\n"
    }
   }
  },
  {
   "cell_type": "code",
   "execution_count": 9,
   "outputs": [],
   "source": [
    "df_less_or_equal_to_20.to_csv('less_than_20.csv', index=False)"
   ],
   "metadata": {
    "collapsed": false,
    "pycharm": {
     "name": "#%%\n"
    }
   }
  }
 ],
 "metadata": {
  "kernelspec": {
   "display_name": "Python 3",
   "language": "python",
   "name": "python3"
  },
  "language_info": {
   "codemirror_mode": {
    "name": "ipython",
    "version": 2
   },
   "file_extension": ".py",
   "mimetype": "text/x-python",
   "name": "python",
   "nbconvert_exporter": "python",
   "pygments_lexer": "ipython2",
   "version": "2.7.6"
  }
 },
 "nbformat": 4,
 "nbformat_minor": 0
}
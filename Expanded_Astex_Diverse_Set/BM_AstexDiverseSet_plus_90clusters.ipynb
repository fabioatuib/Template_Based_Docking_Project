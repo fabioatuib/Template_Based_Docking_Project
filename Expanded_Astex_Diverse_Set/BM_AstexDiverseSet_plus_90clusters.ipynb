{
 "cells": [
  {
   "cell_type": "code",
   "execution_count": 1,
   "metadata": {
    "collapsed": true
   },
   "outputs": [],
   "source": [
    "import requests\n",
    "import pandas as pd"
   ]
  },
  {
   "cell_type": "code",
   "execution_count": 2,
   "outputs": [
    {
     "data": {
      "text/plain": "  Protein_Class Protein_Family Uniprot_ID Protein_ID Ligand_Name Chain\n0       3.5.1.5           1FWE     P18314       1FWE         HAE     C\n1       3.5.1.5           6H8J     P41020       6H8J         2PA     C\n2       3.5.1.5           6H8J     P41020       5OL4         9XN     C\n3       3.5.1.5           6H8J     P41020       4UBP         HAE     C\n4       3.5.1.5           6H8J     P41020       4AC7         FLC     C",
      "text/html": "<div>\n<style scoped>\n    .dataframe tbody tr th:only-of-type {\n        vertical-align: middle;\n    }\n\n    .dataframe tbody tr th {\n        vertical-align: top;\n    }\n\n    .dataframe thead th {\n        text-align: right;\n    }\n</style>\n<table border=\"1\" class=\"dataframe\">\n  <thead>\n    <tr style=\"text-align: right;\">\n      <th></th>\n      <th>Protein_Class</th>\n      <th>Protein_Family</th>\n      <th>Uniprot_ID</th>\n      <th>Protein_ID</th>\n      <th>Ligand_Name</th>\n      <th>Chain</th>\n    </tr>\n  </thead>\n  <tbody>\n    <tr>\n      <th>0</th>\n      <td>3.5.1.5</td>\n      <td>1FWE</td>\n      <td>P18314</td>\n      <td>1FWE</td>\n      <td>HAE</td>\n      <td>C</td>\n    </tr>\n    <tr>\n      <th>1</th>\n      <td>3.5.1.5</td>\n      <td>6H8J</td>\n      <td>P41020</td>\n      <td>6H8J</td>\n      <td>2PA</td>\n      <td>C</td>\n    </tr>\n    <tr>\n      <th>2</th>\n      <td>3.5.1.5</td>\n      <td>6H8J</td>\n      <td>P41020</td>\n      <td>5OL4</td>\n      <td>9XN</td>\n      <td>C</td>\n    </tr>\n    <tr>\n      <th>3</th>\n      <td>3.5.1.5</td>\n      <td>6H8J</td>\n      <td>P41020</td>\n      <td>4UBP</td>\n      <td>HAE</td>\n      <td>C</td>\n    </tr>\n    <tr>\n      <th>4</th>\n      <td>3.5.1.5</td>\n      <td>6H8J</td>\n      <td>P41020</td>\n      <td>4AC7</td>\n      <td>FLC</td>\n      <td>C</td>\n    </tr>\n  </tbody>\n</table>\n</div>"
     },
     "execution_count": 2,
     "metadata": {},
     "output_type": "execute_result"
    }
   ],
   "source": [
    "bm_df = pd.read_csv('../../BindingMOAD_2019/map_to_uniprot/tidy_BindingMOAD_2019_valid_ligands_plus_uniprot_id.csv')\n",
    "bm_df = bm_df[['Protein_Class', 'Protein_Family', 'Uniprot_ID', 'Protein_ID', 'Ligand_Name', 'Chain']]\n",
    "bm_df.head()"
   ],
   "metadata": {
    "collapsed": false,
    "pycharm": {
     "name": "#%%\n"
    }
   }
  },
  {
   "cell_type": "markdown",
   "source": [
    "Let's only keep entries in which the ligand is in the Chemical Component Dictionary:"
   ],
   "metadata": {
    "collapsed": false,
    "pycharm": {
     "name": "#%% md\n"
    }
   }
  },
  {
   "cell_type": "code",
   "execution_count": 3,
   "outputs": [],
   "source": [
    "bm_df['temporary'] = [len(code) for code in bm_df.Ligand_Name]\n",
    "bm_df = bm_df[bm_df['temporary'] == 3]\n",
    "bm_df = bm_df.drop(columns='temporary')"
   ],
   "metadata": {
    "collapsed": false,
    "pycharm": {
     "name": "#%%\n"
    }
   }
  },
  {
   "cell_type": "code",
   "execution_count": 4,
   "outputs": [
    {
     "data": {
      "text/plain": "    PDB Ligand\n0  1G9V    RQ3\n1  1GKC    NFH\n2  1GM8    SOX\n3  1GPK    HUP\n4  1HNN    SKF",
      "text/html": "<div>\n<style scoped>\n    .dataframe tbody tr th:only-of-type {\n        vertical-align: middle;\n    }\n\n    .dataframe tbody tr th {\n        vertical-align: top;\n    }\n\n    .dataframe thead th {\n        text-align: right;\n    }\n</style>\n<table border=\"1\" class=\"dataframe\">\n  <thead>\n    <tr style=\"text-align: right;\">\n      <th></th>\n      <th>PDB</th>\n      <th>Ligand</th>\n    </tr>\n  </thead>\n  <tbody>\n    <tr>\n      <th>0</th>\n      <td>1G9V</td>\n      <td>RQ3</td>\n    </tr>\n    <tr>\n      <th>1</th>\n      <td>1GKC</td>\n      <td>NFH</td>\n    </tr>\n    <tr>\n      <th>2</th>\n      <td>1GM8</td>\n      <td>SOX</td>\n    </tr>\n    <tr>\n      <th>3</th>\n      <td>1GPK</td>\n      <td>HUP</td>\n    </tr>\n    <tr>\n      <th>4</th>\n      <td>1HNN</td>\n      <td>SKF</td>\n    </tr>\n  </tbody>\n</table>\n</div>"
     },
     "execution_count": 4,
     "metadata": {},
     "output_type": "execute_result"
    }
   ],
   "source": [
    "astex_df = pd.read_csv('astex_diverse_set.csv')\n",
    "astex_df.head()"
   ],
   "metadata": {
    "collapsed": false,
    "pycharm": {
     "name": "#%%\n"
    }
   }
  },
  {
   "cell_type": "code",
   "execution_count": 5,
   "outputs": [
    {
     "name": "stdout",
     "output_type": "stream",
     "text": [
      "1P2Y not in BindingMOAD_2019\n"
     ]
    },
    {
     "data": {
      "text/plain": "  Astex_Diverse_Set Protein_Class Protein_Family Uniprot_ID Protein_ID  \\\n0              1G9V      16.-.-.-           2D5Z     P69905       2D5Z   \n1              1G9V      16.-.-.-           2D5Z     P69905       2D5Z   \n2              1G9V      16.-.-.-           2D5Z     P68871       2D5Z   \n3              1G9V      16.-.-.-           2D5Z     P69905       4NI1   \n4              1G9V      16.-.-.-           2D5Z     P69905       4NI1   \n\n  Ligand_Name Chain  \n0         L35     A  \n1         L35     C  \n2         L35     D  \n3         2JX     A  \n4         2JX     A  ",
      "text/html": "<div>\n<style scoped>\n    .dataframe tbody tr th:only-of-type {\n        vertical-align: middle;\n    }\n\n    .dataframe tbody tr th {\n        vertical-align: top;\n    }\n\n    .dataframe thead th {\n        text-align: right;\n    }\n</style>\n<table border=\"1\" class=\"dataframe\">\n  <thead>\n    <tr style=\"text-align: right;\">\n      <th></th>\n      <th>Astex_Diverse_Set</th>\n      <th>Protein_Class</th>\n      <th>Protein_Family</th>\n      <th>Uniprot_ID</th>\n      <th>Protein_ID</th>\n      <th>Ligand_Name</th>\n      <th>Chain</th>\n    </tr>\n  </thead>\n  <tbody>\n    <tr>\n      <th>0</th>\n      <td>1G9V</td>\n      <td>16.-.-.-</td>\n      <td>2D5Z</td>\n      <td>P69905</td>\n      <td>2D5Z</td>\n      <td>L35</td>\n      <td>A</td>\n    </tr>\n    <tr>\n      <th>1</th>\n      <td>1G9V</td>\n      <td>16.-.-.-</td>\n      <td>2D5Z</td>\n      <td>P69905</td>\n      <td>2D5Z</td>\n      <td>L35</td>\n      <td>C</td>\n    </tr>\n    <tr>\n      <th>2</th>\n      <td>1G9V</td>\n      <td>16.-.-.-</td>\n      <td>2D5Z</td>\n      <td>P68871</td>\n      <td>2D5Z</td>\n      <td>L35</td>\n      <td>D</td>\n    </tr>\n    <tr>\n      <th>3</th>\n      <td>1G9V</td>\n      <td>16.-.-.-</td>\n      <td>2D5Z</td>\n      <td>P69905</td>\n      <td>4NI1</td>\n      <td>2JX</td>\n      <td>A</td>\n    </tr>\n    <tr>\n      <th>4</th>\n      <td>1G9V</td>\n      <td>16.-.-.-</td>\n      <td>2D5Z</td>\n      <td>P69905</td>\n      <td>4NI1</td>\n      <td>2JX</td>\n      <td>A</td>\n    </tr>\n  </tbody>\n</table>\n</div>"
     },
     "execution_count": 5,
     "metadata": {},
     "output_type": "execute_result"
    }
   ],
   "source": [
    "to_concat = []\n",
    "\n",
    "for pdb_id in astex_df.PDB:\n",
    "\n",
    "    if pdb_id in bm_df.Protein_ID.to_list():\n",
    "        unp_id = bm_df[bm_df['Protein_ID']==pdb_id].Uniprot_ID.values[0]\n",
    "        protein_family_ids = bm_df.loc[bm_df['Uniprot_ID']==unp_id, 'Protein_Family'].drop_duplicates().to_list()\n",
    "        #protein_family_id = bm_df[bm_df['Protein_ID']==pdb_id].Protein_Family.values[0]\n",
    "        #to_concat += [bm_df[bm_df['Uniprot_ID']==unp_id].copy()]\n",
    "        to_concat += [bm_df.loc[bm_df['Protein_Family'].isin(protein_family_ids)].copy()]\n",
    "        to_concat[-1]['Astex_Diverse_Set'] = pdb_id\n",
    "    else:\n",
    "        print(pdb_id, 'not in BindingMOAD_2019')\n",
    "expanded_Astex_df = pd.concat(to_concat)[['Astex_Diverse_Set','Protein_Class', 'Protein_Family', 'Uniprot_ID', 'Protein_ID', 'Ligand_Name', 'Chain']]\n",
    "expanded_Astex_df = expanded_Astex_df.reset_index(drop=True)\n",
    "expanded_Astex_df.head()"
   ],
   "metadata": {
    "collapsed": false,
    "pycharm": {
     "name": "#%%\n"
    }
   }
  },
  {
   "cell_type": "code",
   "execution_count": 6,
   "outputs": [
    {
     "data": {
      "text/plain": "     Astex_Diverse_Set Protein_Class Protein_Family Uniprot_ID Protein_ID  \\\n2812              1MEH     1.1.1.205           1PVN     P50097       1PVN   \n2813              1MEH     1.1.1.205           1PVN     P50097       1PVN   \n2814              1MEH     1.1.1.205           1PVN     P50097       1PVN   \n2815              1MEH     1.1.1.205           1PVN     P50097       1PVN   \n2816              1MEH     1.1.1.205           1PVN     P50097       1LRT   \n2817              1MEH     1.1.1.205           1PVN     P50097       1LRT   \n2818              1MEH     1.1.1.205           1PVN     P50097       1LRT   \n2819              1MEH     1.1.1.205           1PVN     P50097       1LRT   \n2820              1MEH     1.1.1.205           1PVN     P50097       1LRT   \n2821              1MEH     1.1.1.205           1PVN     P50097       1LRT   \n2822              1MEH     1.1.1.205           1PVN     P50097       1LRT   \n2823              1MEH     1.1.1.205           1PVN     P50097       1LRT   \n2824              1MEH     1.1.1.205           1PVN     P50097       1LRT   \n2825              1MEH     1.1.1.205           1PVN     P50097       1LRT   \n2826              1MEH     1.1.1.205           1ME8     P50097       1ME8   \n2827              1MEH     1.1.1.205           1ME8     P50097       1MEI   \n2828              1MEH     1.1.1.205           1ME8     P50097       1MEI   \n2829              1MEH     1.1.1.205           1ME8     P50097       1ME9   \n2830              1MEH     1.1.1.205           1ME8     P50097       1MEW   \n2831              1MEH     1.1.1.205           1ME8     P50097       1MEW   \n2832              1MEH     1.1.1.205           1ME8     P50097       1ME7   \n2833              1MEH     1.1.1.205           1ME8     P50097       1ME7   \n2834              1MEH     1.1.1.205           1ME8     P50097       1MEH   \n2835              1MEH     1.1.1.205           1ME8     P50097       1MEH   \n\n     Ligand_Name Chain  \n2812         MZP     A  \n2813         MZP     B  \n2814         MZP     C  \n2815         MZP     D  \n2816         BOG     A  \n2817         BOG     A  \n2818         IMP     A  \n2819         IMP     B  \n2820         IMP     C  \n2821         IMP     D  \n2822         TAD     A  \n2823         TAD     B  \n2824         TAD     C  \n2825         TAD     D  \n2826         RVP     A  \n2827         MOA     A  \n2828         XMP     A  \n2829         IMP     A  \n2830         NAD     A  \n2831         XMP     A  \n2832         MOA     A  \n2833         RVP     A  \n2834         IMP     A  \n2835         MOA     A  ",
      "text/html": "<div>\n<style scoped>\n    .dataframe tbody tr th:only-of-type {\n        vertical-align: middle;\n    }\n\n    .dataframe tbody tr th {\n        vertical-align: top;\n    }\n\n    .dataframe thead th {\n        text-align: right;\n    }\n</style>\n<table border=\"1\" class=\"dataframe\">\n  <thead>\n    <tr style=\"text-align: right;\">\n      <th></th>\n      <th>Astex_Diverse_Set</th>\n      <th>Protein_Class</th>\n      <th>Protein_Family</th>\n      <th>Uniprot_ID</th>\n      <th>Protein_ID</th>\n      <th>Ligand_Name</th>\n      <th>Chain</th>\n    </tr>\n  </thead>\n  <tbody>\n    <tr>\n      <th>2812</th>\n      <td>1MEH</td>\n      <td>1.1.1.205</td>\n      <td>1PVN</td>\n      <td>P50097</td>\n      <td>1PVN</td>\n      <td>MZP</td>\n      <td>A</td>\n    </tr>\n    <tr>\n      <th>2813</th>\n      <td>1MEH</td>\n      <td>1.1.1.205</td>\n      <td>1PVN</td>\n      <td>P50097</td>\n      <td>1PVN</td>\n      <td>MZP</td>\n      <td>B</td>\n    </tr>\n    <tr>\n      <th>2814</th>\n      <td>1MEH</td>\n      <td>1.1.1.205</td>\n      <td>1PVN</td>\n      <td>P50097</td>\n      <td>1PVN</td>\n      <td>MZP</td>\n      <td>C</td>\n    </tr>\n    <tr>\n      <th>2815</th>\n      <td>1MEH</td>\n      <td>1.1.1.205</td>\n      <td>1PVN</td>\n      <td>P50097</td>\n      <td>1PVN</td>\n      <td>MZP</td>\n      <td>D</td>\n    </tr>\n    <tr>\n      <th>2816</th>\n      <td>1MEH</td>\n      <td>1.1.1.205</td>\n      <td>1PVN</td>\n      <td>P50097</td>\n      <td>1LRT</td>\n      <td>BOG</td>\n      <td>A</td>\n    </tr>\n    <tr>\n      <th>2817</th>\n      <td>1MEH</td>\n      <td>1.1.1.205</td>\n      <td>1PVN</td>\n      <td>P50097</td>\n      <td>1LRT</td>\n      <td>BOG</td>\n      <td>A</td>\n    </tr>\n    <tr>\n      <th>2818</th>\n      <td>1MEH</td>\n      <td>1.1.1.205</td>\n      <td>1PVN</td>\n      <td>P50097</td>\n      <td>1LRT</td>\n      <td>IMP</td>\n      <td>A</td>\n    </tr>\n    <tr>\n      <th>2819</th>\n      <td>1MEH</td>\n      <td>1.1.1.205</td>\n      <td>1PVN</td>\n      <td>P50097</td>\n      <td>1LRT</td>\n      <td>IMP</td>\n      <td>B</td>\n    </tr>\n    <tr>\n      <th>2820</th>\n      <td>1MEH</td>\n      <td>1.1.1.205</td>\n      <td>1PVN</td>\n      <td>P50097</td>\n      <td>1LRT</td>\n      <td>IMP</td>\n      <td>C</td>\n    </tr>\n    <tr>\n      <th>2821</th>\n      <td>1MEH</td>\n      <td>1.1.1.205</td>\n      <td>1PVN</td>\n      <td>P50097</td>\n      <td>1LRT</td>\n      <td>IMP</td>\n      <td>D</td>\n    </tr>\n    <tr>\n      <th>2822</th>\n      <td>1MEH</td>\n      <td>1.1.1.205</td>\n      <td>1PVN</td>\n      <td>P50097</td>\n      <td>1LRT</td>\n      <td>TAD</td>\n      <td>A</td>\n    </tr>\n    <tr>\n      <th>2823</th>\n      <td>1MEH</td>\n      <td>1.1.1.205</td>\n      <td>1PVN</td>\n      <td>P50097</td>\n      <td>1LRT</td>\n      <td>TAD</td>\n      <td>B</td>\n    </tr>\n    <tr>\n      <th>2824</th>\n      <td>1MEH</td>\n      <td>1.1.1.205</td>\n      <td>1PVN</td>\n      <td>P50097</td>\n      <td>1LRT</td>\n      <td>TAD</td>\n      <td>C</td>\n    </tr>\n    <tr>\n      <th>2825</th>\n      <td>1MEH</td>\n      <td>1.1.1.205</td>\n      <td>1PVN</td>\n      <td>P50097</td>\n      <td>1LRT</td>\n      <td>TAD</td>\n      <td>D</td>\n    </tr>\n    <tr>\n      <th>2826</th>\n      <td>1MEH</td>\n      <td>1.1.1.205</td>\n      <td>1ME8</td>\n      <td>P50097</td>\n      <td>1ME8</td>\n      <td>RVP</td>\n      <td>A</td>\n    </tr>\n    <tr>\n      <th>2827</th>\n      <td>1MEH</td>\n      <td>1.1.1.205</td>\n      <td>1ME8</td>\n      <td>P50097</td>\n      <td>1MEI</td>\n      <td>MOA</td>\n      <td>A</td>\n    </tr>\n    <tr>\n      <th>2828</th>\n      <td>1MEH</td>\n      <td>1.1.1.205</td>\n      <td>1ME8</td>\n      <td>P50097</td>\n      <td>1MEI</td>\n      <td>XMP</td>\n      <td>A</td>\n    </tr>\n    <tr>\n      <th>2829</th>\n      <td>1MEH</td>\n      <td>1.1.1.205</td>\n      <td>1ME8</td>\n      <td>P50097</td>\n      <td>1ME9</td>\n      <td>IMP</td>\n      <td>A</td>\n    </tr>\n    <tr>\n      <th>2830</th>\n      <td>1MEH</td>\n      <td>1.1.1.205</td>\n      <td>1ME8</td>\n      <td>P50097</td>\n      <td>1MEW</td>\n      <td>NAD</td>\n      <td>A</td>\n    </tr>\n    <tr>\n      <th>2831</th>\n      <td>1MEH</td>\n      <td>1.1.1.205</td>\n      <td>1ME8</td>\n      <td>P50097</td>\n      <td>1MEW</td>\n      <td>XMP</td>\n      <td>A</td>\n    </tr>\n    <tr>\n      <th>2832</th>\n      <td>1MEH</td>\n      <td>1.1.1.205</td>\n      <td>1ME8</td>\n      <td>P50097</td>\n      <td>1ME7</td>\n      <td>MOA</td>\n      <td>A</td>\n    </tr>\n    <tr>\n      <th>2833</th>\n      <td>1MEH</td>\n      <td>1.1.1.205</td>\n      <td>1ME8</td>\n      <td>P50097</td>\n      <td>1ME7</td>\n      <td>RVP</td>\n      <td>A</td>\n    </tr>\n    <tr>\n      <th>2834</th>\n      <td>1MEH</td>\n      <td>1.1.1.205</td>\n      <td>1ME8</td>\n      <td>P50097</td>\n      <td>1MEH</td>\n      <td>IMP</td>\n      <td>A</td>\n    </tr>\n    <tr>\n      <th>2835</th>\n      <td>1MEH</td>\n      <td>1.1.1.205</td>\n      <td>1ME8</td>\n      <td>P50097</td>\n      <td>1MEH</td>\n      <td>MOA</td>\n      <td>A</td>\n    </tr>\n  </tbody>\n</table>\n</div>"
     },
     "execution_count": 6,
     "metadata": {},
     "output_type": "execute_result"
    }
   ],
   "source": [
    "expanded_Astex_df[expanded_Astex_df['Astex_Diverse_Set']=='1MEH']"
   ],
   "metadata": {
    "collapsed": false,
    "pycharm": {
     "name": "#%%\n"
    }
   }
  },
  {
   "cell_type": "markdown",
   "source": [
    "The PDB entry 1P2Y is not in BindingMOAD because the ligand is covalently attached to the protein."
   ],
   "metadata": {
    "collapsed": false,
    "pycharm": {
     "name": "#%% md\n"
    }
   }
  },
  {
   "cell_type": "code",
   "execution_count": 7,
   "outputs": [],
   "source": [
    "def get_PDB_resolution(pdb_ids):\n",
    "    pdb_ids_ = '[' + '\\\"'+pdb_ids[0]+'\\\"'\n",
    "    for pdb in pdb_ids[1:]:\n",
    "        pdb_ids_ += ','+'\\\"'+pdb+'\\\"'\n",
    "    pdb_ids_ += ']'\n",
    "    query = '''{entries(entry_ids:'''+pdb_ids_+ ''') {\n",
    "                    pdbx_vrpt_summary {\n",
    "                      PDB_resolution\n",
    "                    }\n",
    "                  }\n",
    "                }'''\n",
    "    response = requests.post('http://data.rcsb.org/graphql', json={'query': query})\n",
    "    dictionary = {}\n",
    "    if response.status_code == 200:\n",
    "        response = response.json()['data']['entries']\n",
    "        for id, res in zip(pdb_ids, response):\n",
    "            dictionary[id] = res['pdbx_vrpt_summary']['PDB_resolution']\n",
    "        return dictionary\n",
    "    else:\n",
    "        return dictionary"
   ],
   "metadata": {
    "collapsed": false,
    "pycharm": {
     "name": "#%%\n"
    }
   }
  },
  {
   "cell_type": "code",
   "execution_count": 8,
   "outputs": [],
   "source": [
    "pdb_to_resolution = get_PDB_resolution(expanded_Astex_df.Protein_ID.to_list())\n",
    "\n",
    "for index, id in expanded_Astex_df[['Protein_ID']].itertuples():\n",
    "    try:\n",
    "        expanded_Astex_df.at[index, 'resolution'] = pdb_to_resolution[id]\n",
    "    except:\n",
    "        resolution = get_PDB_resolution([id])\n",
    "        if resolution == {}:\n",
    "            print(id)\n",
    "            continue\n",
    "        expanded_Astex_df.at[index, 'resolution'] = resolution[id]\n",
    "\n",
    "#expanded_Astex_df['resolution'] = [pdb_to_resolution[id] for id in expanded_Astex_df.Protein_ID]"
   ],
   "metadata": {
    "collapsed": false,
    "pycharm": {
     "name": "#%%\n"
    }
   }
  },
  {
   "cell_type": "markdown",
   "source": [
    "Let's remove repeated protein - ligand pairs.\n",
    "Keep the one with highest resolution."
   ],
   "metadata": {
    "collapsed": false,
    "pycharm": {
     "name": "#%% md\n"
    }
   }
  },
  {
   "cell_type": "code",
   "execution_count": 9,
   "outputs": [
    {
     "data": {
      "text/plain": "  Astex_Diverse_Set Protein_Class Protein_Family Uniprot_ID Protein_ID  \\\n0              1G9V      16.-.-.-           2D5Z     P69905       2D5Z   \n1              1G9V      16.-.-.-           2D5Z     P69905       2D5Z   \n2              1G9V      16.-.-.-           2D5Z     P68871       2D5Z   \n5              1G9V      16.-.-.-           2D5Z     P68871       2D60   \n6              1G9V      16.-.-.-           2D5Z     P68871       2D60   \n\n  Ligand_Name Chain  resolution  \n0         L35     A        1.45  \n1         L35     C        1.45  \n2         L35     D        1.45  \n5         L35     B        1.70  \n6         L35     D        1.70  ",
      "text/html": "<div>\n<style scoped>\n    .dataframe tbody tr th:only-of-type {\n        vertical-align: middle;\n    }\n\n    .dataframe tbody tr th {\n        vertical-align: top;\n    }\n\n    .dataframe thead th {\n        text-align: right;\n    }\n</style>\n<table border=\"1\" class=\"dataframe\">\n  <thead>\n    <tr style=\"text-align: right;\">\n      <th></th>\n      <th>Astex_Diverse_Set</th>\n      <th>Protein_Class</th>\n      <th>Protein_Family</th>\n      <th>Uniprot_ID</th>\n      <th>Protein_ID</th>\n      <th>Ligand_Name</th>\n      <th>Chain</th>\n      <th>resolution</th>\n    </tr>\n  </thead>\n  <tbody>\n    <tr>\n      <th>0</th>\n      <td>1G9V</td>\n      <td>16.-.-.-</td>\n      <td>2D5Z</td>\n      <td>P69905</td>\n      <td>2D5Z</td>\n      <td>L35</td>\n      <td>A</td>\n      <td>1.45</td>\n    </tr>\n    <tr>\n      <th>1</th>\n      <td>1G9V</td>\n      <td>16.-.-.-</td>\n      <td>2D5Z</td>\n      <td>P69905</td>\n      <td>2D5Z</td>\n      <td>L35</td>\n      <td>C</td>\n      <td>1.45</td>\n    </tr>\n    <tr>\n      <th>2</th>\n      <td>1G9V</td>\n      <td>16.-.-.-</td>\n      <td>2D5Z</td>\n      <td>P68871</td>\n      <td>2D5Z</td>\n      <td>L35</td>\n      <td>D</td>\n      <td>1.45</td>\n    </tr>\n    <tr>\n      <th>5</th>\n      <td>1G9V</td>\n      <td>16.-.-.-</td>\n      <td>2D5Z</td>\n      <td>P68871</td>\n      <td>2D60</td>\n      <td>L35</td>\n      <td>B</td>\n      <td>1.70</td>\n    </tr>\n    <tr>\n      <th>6</th>\n      <td>1G9V</td>\n      <td>16.-.-.-</td>\n      <td>2D5Z</td>\n      <td>P68871</td>\n      <td>2D60</td>\n      <td>L35</td>\n      <td>D</td>\n      <td>1.70</td>\n    </tr>\n  </tbody>\n</table>\n</div>"
     },
     "execution_count": 9,
     "metadata": {},
     "output_type": "execute_result"
    }
   ],
   "source": [
    "expanded_Astex_df = expanded_Astex_df.sort_values(by=['Astex_Diverse_Set', 'resolution'])\n",
    "expanded_Astex_df.head()"
   ],
   "metadata": {
    "collapsed": false,
    "pycharm": {
     "name": "#%%\n"
    }
   }
  },
  {
   "cell_type": "code",
   "execution_count": 10,
   "outputs": [
    {
     "data": {
      "text/plain": "     Astex_Diverse_Set Protein_Class Protein_Family Uniprot_ID Protein_ID  \\\n2826              1MEH     1.1.1.205           1ME8     P50097       1ME8   \n2827              1MEH     1.1.1.205           1ME8     P50097       1MEI   \n2828              1MEH     1.1.1.205           1ME8     P50097       1MEI   \n2829              1MEH     1.1.1.205           1ME8     P50097       1ME9   \n2830              1MEH     1.1.1.205           1ME8     P50097       1MEW   \n2831              1MEH     1.1.1.205           1ME8     P50097       1MEW   \n2832              1MEH     1.1.1.205           1ME8     P50097       1ME7   \n2833              1MEH     1.1.1.205           1ME8     P50097       1ME7   \n2816              1MEH     1.1.1.205           1PVN     P50097       1LRT   \n2817              1MEH     1.1.1.205           1PVN     P50097       1LRT   \n2818              1MEH     1.1.1.205           1PVN     P50097       1LRT   \n2819              1MEH     1.1.1.205           1PVN     P50097       1LRT   \n2820              1MEH     1.1.1.205           1PVN     P50097       1LRT   \n2821              1MEH     1.1.1.205           1PVN     P50097       1LRT   \n2822              1MEH     1.1.1.205           1PVN     P50097       1LRT   \n2823              1MEH     1.1.1.205           1PVN     P50097       1LRT   \n2824              1MEH     1.1.1.205           1PVN     P50097       1LRT   \n2825              1MEH     1.1.1.205           1PVN     P50097       1LRT   \n2834              1MEH     1.1.1.205           1ME8     P50097       1MEH   \n2835              1MEH     1.1.1.205           1ME8     P50097       1MEH   \n2812              1MEH     1.1.1.205           1PVN     P50097       1PVN   \n2813              1MEH     1.1.1.205           1PVN     P50097       1PVN   \n2814              1MEH     1.1.1.205           1PVN     P50097       1PVN   \n2815              1MEH     1.1.1.205           1PVN     P50097       1PVN   \n\n     Ligand_Name Chain  resolution  \n2826         RVP     A        1.86  \n2827         MOA     A        1.86  \n2828         XMP     A        1.86  \n2829         IMP     A        1.86  \n2830         NAD     A        1.93  \n2831         XMP     A        1.93  \n2832         MOA     A        1.93  \n2833         RVP     A        1.93  \n2816         BOG     A        1.95  \n2817         BOG     A        1.95  \n2818         IMP     A        1.95  \n2819         IMP     B        1.95  \n2820         IMP     C        1.95  \n2821         IMP     D        1.95  \n2822         TAD     A        1.95  \n2823         TAD     B        1.95  \n2824         TAD     C        1.95  \n2825         TAD     D        1.95  \n2834         IMP     A        2.10  \n2835         MOA     A        2.10  \n2812         MZP     A        2.20  \n2813         MZP     B        2.20  \n2814         MZP     C        2.20  \n2815         MZP     D        2.20  ",
      "text/html": "<div>\n<style scoped>\n    .dataframe tbody tr th:only-of-type {\n        vertical-align: middle;\n    }\n\n    .dataframe tbody tr th {\n        vertical-align: top;\n    }\n\n    .dataframe thead th {\n        text-align: right;\n    }\n</style>\n<table border=\"1\" class=\"dataframe\">\n  <thead>\n    <tr style=\"text-align: right;\">\n      <th></th>\n      <th>Astex_Diverse_Set</th>\n      <th>Protein_Class</th>\n      <th>Protein_Family</th>\n      <th>Uniprot_ID</th>\n      <th>Protein_ID</th>\n      <th>Ligand_Name</th>\n      <th>Chain</th>\n      <th>resolution</th>\n    </tr>\n  </thead>\n  <tbody>\n    <tr>\n      <th>2826</th>\n      <td>1MEH</td>\n      <td>1.1.1.205</td>\n      <td>1ME8</td>\n      <td>P50097</td>\n      <td>1ME8</td>\n      <td>RVP</td>\n      <td>A</td>\n      <td>1.86</td>\n    </tr>\n    <tr>\n      <th>2827</th>\n      <td>1MEH</td>\n      <td>1.1.1.205</td>\n      <td>1ME8</td>\n      <td>P50097</td>\n      <td>1MEI</td>\n      <td>MOA</td>\n      <td>A</td>\n      <td>1.86</td>\n    </tr>\n    <tr>\n      <th>2828</th>\n      <td>1MEH</td>\n      <td>1.1.1.205</td>\n      <td>1ME8</td>\n      <td>P50097</td>\n      <td>1MEI</td>\n      <td>XMP</td>\n      <td>A</td>\n      <td>1.86</td>\n    </tr>\n    <tr>\n      <th>2829</th>\n      <td>1MEH</td>\n      <td>1.1.1.205</td>\n      <td>1ME8</td>\n      <td>P50097</td>\n      <td>1ME9</td>\n      <td>IMP</td>\n      <td>A</td>\n      <td>1.86</td>\n    </tr>\n    <tr>\n      <th>2830</th>\n      <td>1MEH</td>\n      <td>1.1.1.205</td>\n      <td>1ME8</td>\n      <td>P50097</td>\n      <td>1MEW</td>\n      <td>NAD</td>\n      <td>A</td>\n      <td>1.93</td>\n    </tr>\n    <tr>\n      <th>2831</th>\n      <td>1MEH</td>\n      <td>1.1.1.205</td>\n      <td>1ME8</td>\n      <td>P50097</td>\n      <td>1MEW</td>\n      <td>XMP</td>\n      <td>A</td>\n      <td>1.93</td>\n    </tr>\n    <tr>\n      <th>2832</th>\n      <td>1MEH</td>\n      <td>1.1.1.205</td>\n      <td>1ME8</td>\n      <td>P50097</td>\n      <td>1ME7</td>\n      <td>MOA</td>\n      <td>A</td>\n      <td>1.93</td>\n    </tr>\n    <tr>\n      <th>2833</th>\n      <td>1MEH</td>\n      <td>1.1.1.205</td>\n      <td>1ME8</td>\n      <td>P50097</td>\n      <td>1ME7</td>\n      <td>RVP</td>\n      <td>A</td>\n      <td>1.93</td>\n    </tr>\n    <tr>\n      <th>2816</th>\n      <td>1MEH</td>\n      <td>1.1.1.205</td>\n      <td>1PVN</td>\n      <td>P50097</td>\n      <td>1LRT</td>\n      <td>BOG</td>\n      <td>A</td>\n      <td>1.95</td>\n    </tr>\n    <tr>\n      <th>2817</th>\n      <td>1MEH</td>\n      <td>1.1.1.205</td>\n      <td>1PVN</td>\n      <td>P50097</td>\n      <td>1LRT</td>\n      <td>BOG</td>\n      <td>A</td>\n      <td>1.95</td>\n    </tr>\n    <tr>\n      <th>2818</th>\n      <td>1MEH</td>\n      <td>1.1.1.205</td>\n      <td>1PVN</td>\n      <td>P50097</td>\n      <td>1LRT</td>\n      <td>IMP</td>\n      <td>A</td>\n      <td>1.95</td>\n    </tr>\n    <tr>\n      <th>2819</th>\n      <td>1MEH</td>\n      <td>1.1.1.205</td>\n      <td>1PVN</td>\n      <td>P50097</td>\n      <td>1LRT</td>\n      <td>IMP</td>\n      <td>B</td>\n      <td>1.95</td>\n    </tr>\n    <tr>\n      <th>2820</th>\n      <td>1MEH</td>\n      <td>1.1.1.205</td>\n      <td>1PVN</td>\n      <td>P50097</td>\n      <td>1LRT</td>\n      <td>IMP</td>\n      <td>C</td>\n      <td>1.95</td>\n    </tr>\n    <tr>\n      <th>2821</th>\n      <td>1MEH</td>\n      <td>1.1.1.205</td>\n      <td>1PVN</td>\n      <td>P50097</td>\n      <td>1LRT</td>\n      <td>IMP</td>\n      <td>D</td>\n      <td>1.95</td>\n    </tr>\n    <tr>\n      <th>2822</th>\n      <td>1MEH</td>\n      <td>1.1.1.205</td>\n      <td>1PVN</td>\n      <td>P50097</td>\n      <td>1LRT</td>\n      <td>TAD</td>\n      <td>A</td>\n      <td>1.95</td>\n    </tr>\n    <tr>\n      <th>2823</th>\n      <td>1MEH</td>\n      <td>1.1.1.205</td>\n      <td>1PVN</td>\n      <td>P50097</td>\n      <td>1LRT</td>\n      <td>TAD</td>\n      <td>B</td>\n      <td>1.95</td>\n    </tr>\n    <tr>\n      <th>2824</th>\n      <td>1MEH</td>\n      <td>1.1.1.205</td>\n      <td>1PVN</td>\n      <td>P50097</td>\n      <td>1LRT</td>\n      <td>TAD</td>\n      <td>C</td>\n      <td>1.95</td>\n    </tr>\n    <tr>\n      <th>2825</th>\n      <td>1MEH</td>\n      <td>1.1.1.205</td>\n      <td>1PVN</td>\n      <td>P50097</td>\n      <td>1LRT</td>\n      <td>TAD</td>\n      <td>D</td>\n      <td>1.95</td>\n    </tr>\n    <tr>\n      <th>2834</th>\n      <td>1MEH</td>\n      <td>1.1.1.205</td>\n      <td>1ME8</td>\n      <td>P50097</td>\n      <td>1MEH</td>\n      <td>IMP</td>\n      <td>A</td>\n      <td>2.10</td>\n    </tr>\n    <tr>\n      <th>2835</th>\n      <td>1MEH</td>\n      <td>1.1.1.205</td>\n      <td>1ME8</td>\n      <td>P50097</td>\n      <td>1MEH</td>\n      <td>MOA</td>\n      <td>A</td>\n      <td>2.10</td>\n    </tr>\n    <tr>\n      <th>2812</th>\n      <td>1MEH</td>\n      <td>1.1.1.205</td>\n      <td>1PVN</td>\n      <td>P50097</td>\n      <td>1PVN</td>\n      <td>MZP</td>\n      <td>A</td>\n      <td>2.20</td>\n    </tr>\n    <tr>\n      <th>2813</th>\n      <td>1MEH</td>\n      <td>1.1.1.205</td>\n      <td>1PVN</td>\n      <td>P50097</td>\n      <td>1PVN</td>\n      <td>MZP</td>\n      <td>B</td>\n      <td>2.20</td>\n    </tr>\n    <tr>\n      <th>2814</th>\n      <td>1MEH</td>\n      <td>1.1.1.205</td>\n      <td>1PVN</td>\n      <td>P50097</td>\n      <td>1PVN</td>\n      <td>MZP</td>\n      <td>C</td>\n      <td>2.20</td>\n    </tr>\n    <tr>\n      <th>2815</th>\n      <td>1MEH</td>\n      <td>1.1.1.205</td>\n      <td>1PVN</td>\n      <td>P50097</td>\n      <td>1PVN</td>\n      <td>MZP</td>\n      <td>D</td>\n      <td>2.20</td>\n    </tr>\n  </tbody>\n</table>\n</div>"
     },
     "execution_count": 10,
     "metadata": {},
     "output_type": "execute_result"
    }
   ],
   "source": [
    "expanded_Astex_df[expanded_Astex_df['Astex_Diverse_Set']=='1MEH']"
   ],
   "metadata": {
    "collapsed": false,
    "pycharm": {
     "name": "#%%\n"
    }
   }
  },
  {
   "cell_type": "code",
   "execution_count": 11,
   "outputs": [],
   "source": [
    "temp_df = expanded_Astex_df[['Astex_Diverse_Set', 'Protein_Class',\n",
    "                             'Uniprot_ID', 'Ligand_Name']]\n",
    "temp_df = temp_df.drop_duplicates(keep='first')"
   ],
   "metadata": {
    "collapsed": false,
    "pycharm": {
     "name": "#%%\n"
    }
   }
  },
  {
   "cell_type": "code",
   "execution_count": 12,
   "outputs": [],
   "source": [
    "uniques_highest_res = [expanded_Astex_df.at[index, 'Protein_ID'] for index in temp_df.index]\n",
    "#expanded_Astex_df = expanded_Astex_df[expanded_Astex_df['Protein_ID'].isin(uniques_highest_res)]\n",
    "expanded_Astex_df = expanded_Astex_df.loc[[index for index in temp_df.index]]"
   ],
   "metadata": {
    "collapsed": false,
    "pycharm": {
     "name": "#%%\n"
    }
   }
  },
  {
   "cell_type": "code",
   "execution_count": 13,
   "outputs": [
    {
     "data": {
      "text/plain": "     Astex_Diverse_Set Protein_Class Protein_Family Uniprot_ID Protein_ID  \\\n2826              1MEH     1.1.1.205           1ME8     P50097       1ME8   \n2827              1MEH     1.1.1.205           1ME8     P50097       1MEI   \n2828              1MEH     1.1.1.205           1ME8     P50097       1MEI   \n2829              1MEH     1.1.1.205           1ME8     P50097       1ME9   \n2830              1MEH     1.1.1.205           1ME8     P50097       1MEW   \n2816              1MEH     1.1.1.205           1PVN     P50097       1LRT   \n2822              1MEH     1.1.1.205           1PVN     P50097       1LRT   \n2812              1MEH     1.1.1.205           1PVN     P50097       1PVN   \n\n     Ligand_Name Chain  resolution  \n2826         RVP     A        1.86  \n2827         MOA     A        1.86  \n2828         XMP     A        1.86  \n2829         IMP     A        1.86  \n2830         NAD     A        1.93  \n2816         BOG     A        1.95  \n2822         TAD     A        1.95  \n2812         MZP     A        2.20  ",
      "text/html": "<div>\n<style scoped>\n    .dataframe tbody tr th:only-of-type {\n        vertical-align: middle;\n    }\n\n    .dataframe tbody tr th {\n        vertical-align: top;\n    }\n\n    .dataframe thead th {\n        text-align: right;\n    }\n</style>\n<table border=\"1\" class=\"dataframe\">\n  <thead>\n    <tr style=\"text-align: right;\">\n      <th></th>\n      <th>Astex_Diverse_Set</th>\n      <th>Protein_Class</th>\n      <th>Protein_Family</th>\n      <th>Uniprot_ID</th>\n      <th>Protein_ID</th>\n      <th>Ligand_Name</th>\n      <th>Chain</th>\n      <th>resolution</th>\n    </tr>\n  </thead>\n  <tbody>\n    <tr>\n      <th>2826</th>\n      <td>1MEH</td>\n      <td>1.1.1.205</td>\n      <td>1ME8</td>\n      <td>P50097</td>\n      <td>1ME8</td>\n      <td>RVP</td>\n      <td>A</td>\n      <td>1.86</td>\n    </tr>\n    <tr>\n      <th>2827</th>\n      <td>1MEH</td>\n      <td>1.1.1.205</td>\n      <td>1ME8</td>\n      <td>P50097</td>\n      <td>1MEI</td>\n      <td>MOA</td>\n      <td>A</td>\n      <td>1.86</td>\n    </tr>\n    <tr>\n      <th>2828</th>\n      <td>1MEH</td>\n      <td>1.1.1.205</td>\n      <td>1ME8</td>\n      <td>P50097</td>\n      <td>1MEI</td>\n      <td>XMP</td>\n      <td>A</td>\n      <td>1.86</td>\n    </tr>\n    <tr>\n      <th>2829</th>\n      <td>1MEH</td>\n      <td>1.1.1.205</td>\n      <td>1ME8</td>\n      <td>P50097</td>\n      <td>1ME9</td>\n      <td>IMP</td>\n      <td>A</td>\n      <td>1.86</td>\n    </tr>\n    <tr>\n      <th>2830</th>\n      <td>1MEH</td>\n      <td>1.1.1.205</td>\n      <td>1ME8</td>\n      <td>P50097</td>\n      <td>1MEW</td>\n      <td>NAD</td>\n      <td>A</td>\n      <td>1.93</td>\n    </tr>\n    <tr>\n      <th>2816</th>\n      <td>1MEH</td>\n      <td>1.1.1.205</td>\n      <td>1PVN</td>\n      <td>P50097</td>\n      <td>1LRT</td>\n      <td>BOG</td>\n      <td>A</td>\n      <td>1.95</td>\n    </tr>\n    <tr>\n      <th>2822</th>\n      <td>1MEH</td>\n      <td>1.1.1.205</td>\n      <td>1PVN</td>\n      <td>P50097</td>\n      <td>1LRT</td>\n      <td>TAD</td>\n      <td>A</td>\n      <td>1.95</td>\n    </tr>\n    <tr>\n      <th>2812</th>\n      <td>1MEH</td>\n      <td>1.1.1.205</td>\n      <td>1PVN</td>\n      <td>P50097</td>\n      <td>1PVN</td>\n      <td>MZP</td>\n      <td>A</td>\n      <td>2.20</td>\n    </tr>\n  </tbody>\n</table>\n</div>"
     },
     "execution_count": 13,
     "metadata": {},
     "output_type": "execute_result"
    }
   ],
   "source": [
    "expanded_Astex_df[expanded_Astex_df['Astex_Diverse_Set']=='1MEH']"
   ],
   "metadata": {
    "collapsed": false,
    "pycharm": {
     "name": "#%%\n"
    }
   }
  },
  {
   "cell_type": "markdown",
   "source": [
    "Also remove complexes in which the valid ligand is found more than once in the same chain."
   ],
   "metadata": {
    "collapsed": false
   }
  },
  {
   "cell_type": "code",
   "execution_count": 14,
   "outputs": [],
   "source": [
    "expanded_Astex_df = expanded_Astex_df.drop_duplicates(keep=False)"
   ],
   "metadata": {
    "collapsed": false,
    "pycharm": {
     "name": "#%%\n"
    }
   }
  },
  {
   "cell_type": "code",
   "execution_count": 15,
   "outputs": [
    {
     "data": {
      "text/plain": "     Astex_Diverse_Set Protein_Class Protein_Family Uniprot_ID Protein_ID  \\\n2826              1MEH     1.1.1.205           1ME8     P50097       1ME8   \n2827              1MEH     1.1.1.205           1ME8     P50097       1MEI   \n2828              1MEH     1.1.1.205           1ME8     P50097       1MEI   \n2829              1MEH     1.1.1.205           1ME8     P50097       1ME9   \n2830              1MEH     1.1.1.205           1ME8     P50097       1MEW   \n2816              1MEH     1.1.1.205           1PVN     P50097       1LRT   \n2822              1MEH     1.1.1.205           1PVN     P50097       1LRT   \n2812              1MEH     1.1.1.205           1PVN     P50097       1PVN   \n\n     Ligand_Name Chain  resolution  \n2826         RVP     A        1.86  \n2827         MOA     A        1.86  \n2828         XMP     A        1.86  \n2829         IMP     A        1.86  \n2830         NAD     A        1.93  \n2816         BOG     A        1.95  \n2822         TAD     A        1.95  \n2812         MZP     A        2.20  ",
      "text/html": "<div>\n<style scoped>\n    .dataframe tbody tr th:only-of-type {\n        vertical-align: middle;\n    }\n\n    .dataframe tbody tr th {\n        vertical-align: top;\n    }\n\n    .dataframe thead th {\n        text-align: right;\n    }\n</style>\n<table border=\"1\" class=\"dataframe\">\n  <thead>\n    <tr style=\"text-align: right;\">\n      <th></th>\n      <th>Astex_Diverse_Set</th>\n      <th>Protein_Class</th>\n      <th>Protein_Family</th>\n      <th>Uniprot_ID</th>\n      <th>Protein_ID</th>\n      <th>Ligand_Name</th>\n      <th>Chain</th>\n      <th>resolution</th>\n    </tr>\n  </thead>\n  <tbody>\n    <tr>\n      <th>2826</th>\n      <td>1MEH</td>\n      <td>1.1.1.205</td>\n      <td>1ME8</td>\n      <td>P50097</td>\n      <td>1ME8</td>\n      <td>RVP</td>\n      <td>A</td>\n      <td>1.86</td>\n    </tr>\n    <tr>\n      <th>2827</th>\n      <td>1MEH</td>\n      <td>1.1.1.205</td>\n      <td>1ME8</td>\n      <td>P50097</td>\n      <td>1MEI</td>\n      <td>MOA</td>\n      <td>A</td>\n      <td>1.86</td>\n    </tr>\n    <tr>\n      <th>2828</th>\n      <td>1MEH</td>\n      <td>1.1.1.205</td>\n      <td>1ME8</td>\n      <td>P50097</td>\n      <td>1MEI</td>\n      <td>XMP</td>\n      <td>A</td>\n      <td>1.86</td>\n    </tr>\n    <tr>\n      <th>2829</th>\n      <td>1MEH</td>\n      <td>1.1.1.205</td>\n      <td>1ME8</td>\n      <td>P50097</td>\n      <td>1ME9</td>\n      <td>IMP</td>\n      <td>A</td>\n      <td>1.86</td>\n    </tr>\n    <tr>\n      <th>2830</th>\n      <td>1MEH</td>\n      <td>1.1.1.205</td>\n      <td>1ME8</td>\n      <td>P50097</td>\n      <td>1MEW</td>\n      <td>NAD</td>\n      <td>A</td>\n      <td>1.93</td>\n    </tr>\n    <tr>\n      <th>2816</th>\n      <td>1MEH</td>\n      <td>1.1.1.205</td>\n      <td>1PVN</td>\n      <td>P50097</td>\n      <td>1LRT</td>\n      <td>BOG</td>\n      <td>A</td>\n      <td>1.95</td>\n    </tr>\n    <tr>\n      <th>2822</th>\n      <td>1MEH</td>\n      <td>1.1.1.205</td>\n      <td>1PVN</td>\n      <td>P50097</td>\n      <td>1LRT</td>\n      <td>TAD</td>\n      <td>A</td>\n      <td>1.95</td>\n    </tr>\n    <tr>\n      <th>2812</th>\n      <td>1MEH</td>\n      <td>1.1.1.205</td>\n      <td>1PVN</td>\n      <td>P50097</td>\n      <td>1PVN</td>\n      <td>MZP</td>\n      <td>A</td>\n      <td>2.20</td>\n    </tr>\n  </tbody>\n</table>\n</div>"
     },
     "execution_count": 15,
     "metadata": {},
     "output_type": "execute_result"
    }
   ],
   "source": [
    "expanded_Astex_df[expanded_Astex_df['Astex_Diverse_Set']=='1MEH']"
   ],
   "metadata": {
    "collapsed": false,
    "pycharm": {
     "name": "#%%\n"
    }
   }
  },
  {
   "cell_type": "markdown",
   "source": [
    "Let's remove all the complexes with engineered mutations:"
   ],
   "metadata": {
    "collapsed": false,
    "pycharm": {
     "name": "#%% md\n"
    }
   }
  },
  {
   "cell_type": "code",
   "execution_count": 16,
   "outputs": [],
   "source": [
    "def has_mutations(pdb_id, chain):\n",
    "\n",
    "    query = '''{ entry(entry_id:''' + '\\\"'+pdb_id+'\\\"' + ''') {\n",
    "                  rcsb_entry_container_identifiers {\n",
    "                  polymer_entity_ids\n",
    "                }\n",
    "              }\n",
    "            }'''\n",
    "    response = requests.post('http://data.rcsb.org/graphql', json={'query': query})\n",
    "    dictionary = {}\n",
    "    if response.status_code == 200:\n",
    "        polymer_entity_ids = response.json()['data']['entry']['rcsb_entry_container_identifiers']['polymer_entity_ids']\n",
    "\n",
    "        for polymer_entity_id in polymer_entity_ids:\n",
    "            query = '''{\n",
    "                      polymer_entity(entry_id:'''+'\\\"'+pdb_id+'\\\"'+''', entity_id:'''+'\\\"'+str(polymer_entity_id)+'\\\"'+''') {\n",
    "                        rcsb_polymer_entity_container_identifiers {\n",
    "                          auth_asym_ids\n",
    "                        }\n",
    "                        entity_poly {\n",
    "                          rcsb_mutation_count\n",
    "                        }\n",
    "                      }\n",
    "                    }'''\n",
    "            response = requests.post('http://data.rcsb.org/graphql', json={'query': query})\n",
    "            chains = response.json()['data']['polymer_entity']['rcsb_polymer_entity_container_identifiers']['auth_asym_ids']\n",
    "            if chain in chains:\n",
    "                mutations = response.json()['data']['polymer_entity']['entity_poly']['rcsb_mutation_count']\n",
    "                if mutations == 0:\n",
    "                    return 0\n",
    "                else:\n",
    "                    return 1"
   ],
   "metadata": {
    "collapsed": false,
    "pycharm": {
     "name": "#%%\n"
    }
   }
  },
  {
   "cell_type": "code",
   "execution_count": 17,
   "outputs": [
    {
     "data": {
      "text/plain": "  Astex_Diverse_Set Protein_Class Protein_Family Uniprot_ID Protein_ID  \\\n0              1G9V      16.-.-.-           2D5Z     P69905       2D5Z   \n\n  Ligand_Name Chain  resolution  mutated  \n0         L35     A        1.45       -1  ",
      "text/html": "<div>\n<style scoped>\n    .dataframe tbody tr th:only-of-type {\n        vertical-align: middle;\n    }\n\n    .dataframe tbody tr th {\n        vertical-align: top;\n    }\n\n    .dataframe thead th {\n        text-align: right;\n    }\n</style>\n<table border=\"1\" class=\"dataframe\">\n  <thead>\n    <tr style=\"text-align: right;\">\n      <th></th>\n      <th>Astex_Diverse_Set</th>\n      <th>Protein_Class</th>\n      <th>Protein_Family</th>\n      <th>Uniprot_ID</th>\n      <th>Protein_ID</th>\n      <th>Ligand_Name</th>\n      <th>Chain</th>\n      <th>resolution</th>\n      <th>mutated</th>\n    </tr>\n  </thead>\n  <tbody>\n    <tr>\n      <th>0</th>\n      <td>1G9V</td>\n      <td>16.-.-.-</td>\n      <td>2D5Z</td>\n      <td>P69905</td>\n      <td>2D5Z</td>\n      <td>L35</td>\n      <td>A</td>\n      <td>1.45</td>\n      <td>-1</td>\n    </tr>\n  </tbody>\n</table>\n</div>"
     },
     "execution_count": 17,
     "metadata": {},
     "output_type": "execute_result"
    }
   ],
   "source": [
    "expanded_Astex_df['mutated'] = -1\n",
    "expanded_Astex_df.head(1)"
   ],
   "metadata": {
    "collapsed": false,
    "pycharm": {
     "name": "#%%\n"
    }
   }
  },
  {
   "cell_type": "code",
   "execution_count": 18,
   "outputs": [
    {
     "data": {
      "text/plain": "   Astex_Diverse_Set Protein_Class Protein_Family Uniprot_ID Protein_ID  \\\n0               1G9V      16.-.-.-           2D5Z     P69905       2D5Z   \n2               1G9V      16.-.-.-           2D5Z     P68871       2D5Z   \n18              1G9V      16.-.-.-           2D5Z     P69905       5E6E   \n7               1G9V      16.-.-.-           2D5Z     P69905       1G9V   \n10              1G9V      16.-.-.-           2D5Z     P69905       3WHM   \n\n   Ligand_Name Chain  resolution  mutated  \n0          L35     A        1.45      0.0  \n2          L35     D        1.45      0.0  \n18         MBN     A        1.76      0.0  \n7          RQ3     A        1.85      0.0  \n10         O4B     E        1.85      0.0  ",
      "text/html": "<div>\n<style scoped>\n    .dataframe tbody tr th:only-of-type {\n        vertical-align: middle;\n    }\n\n    .dataframe tbody tr th {\n        vertical-align: top;\n    }\n\n    .dataframe thead th {\n        text-align: right;\n    }\n</style>\n<table border=\"1\" class=\"dataframe\">\n  <thead>\n    <tr style=\"text-align: right;\">\n      <th></th>\n      <th>Astex_Diverse_Set</th>\n      <th>Protein_Class</th>\n      <th>Protein_Family</th>\n      <th>Uniprot_ID</th>\n      <th>Protein_ID</th>\n      <th>Ligand_Name</th>\n      <th>Chain</th>\n      <th>resolution</th>\n      <th>mutated</th>\n    </tr>\n  </thead>\n  <tbody>\n    <tr>\n      <th>0</th>\n      <td>1G9V</td>\n      <td>16.-.-.-</td>\n      <td>2D5Z</td>\n      <td>P69905</td>\n      <td>2D5Z</td>\n      <td>L35</td>\n      <td>A</td>\n      <td>1.45</td>\n      <td>0.0</td>\n    </tr>\n    <tr>\n      <th>2</th>\n      <td>1G9V</td>\n      <td>16.-.-.-</td>\n      <td>2D5Z</td>\n      <td>P68871</td>\n      <td>2D5Z</td>\n      <td>L35</td>\n      <td>D</td>\n      <td>1.45</td>\n      <td>0.0</td>\n    </tr>\n    <tr>\n      <th>18</th>\n      <td>1G9V</td>\n      <td>16.-.-.-</td>\n      <td>2D5Z</td>\n      <td>P69905</td>\n      <td>5E6E</td>\n      <td>MBN</td>\n      <td>A</td>\n      <td>1.76</td>\n      <td>0.0</td>\n    </tr>\n    <tr>\n      <th>7</th>\n      <td>1G9V</td>\n      <td>16.-.-.-</td>\n      <td>2D5Z</td>\n      <td>P69905</td>\n      <td>1G9V</td>\n      <td>RQ3</td>\n      <td>A</td>\n      <td>1.85</td>\n      <td>0.0</td>\n    </tr>\n    <tr>\n      <th>10</th>\n      <td>1G9V</td>\n      <td>16.-.-.-</td>\n      <td>2D5Z</td>\n      <td>P69905</td>\n      <td>3WHM</td>\n      <td>O4B</td>\n      <td>E</td>\n      <td>1.85</td>\n      <td>0.0</td>\n    </tr>\n  </tbody>\n</table>\n</div>"
     },
     "execution_count": 18,
     "metadata": {},
     "output_type": "execute_result"
    }
   ],
   "source": [
    "for index in expanded_Astex_df.index:\n",
    "\n",
    "    pdb_id = expanded_Astex_df.at[index, 'Protein_ID']\n",
    "    chain  = expanded_Astex_df.at[index, 'Chain']\n",
    "\n",
    "    expanded_Astex_df.at[index, 'mutated'] = has_mutations(pdb_id, chain)\n",
    "\n",
    "expanded_Astex_df.head()"
   ],
   "metadata": {
    "collapsed": false,
    "pycharm": {
     "name": "#%%\n"
    }
   }
  },
  {
   "cell_type": "code",
   "execution_count": 22,
   "outputs": [],
   "source": [
    "expanded_Astex_df.to_csv('expanded_Astex_with_mutations.csv', index=False)"
   ],
   "metadata": {
    "collapsed": false,
    "pycharm": {
     "name": "#%%\n"
    }
   }
  },
  {
   "cell_type": "code",
   "execution_count": 23,
   "outputs": [],
   "source": [
    "expanded_Astex_df = expanded_Astex_df[expanded_Astex_df['mutated']==0]"
   ],
   "metadata": {
    "collapsed": false,
    "pycharm": {
     "name": "#%%\n"
    }
   }
  },
  {
   "cell_type": "code",
   "execution_count": 25,
   "outputs": [],
   "source": [
    "expanded_Astex_df = expanded_Astex_df.sort_values(by=['Astex_Diverse_Set', 'resolution',\n",
    "                                                      'Protein_ID', 'Ligand_Name', 'Chain'])"
   ],
   "metadata": {
    "collapsed": false,
    "pycharm": {
     "name": "#%%\n"
    }
   }
  },
  {
   "cell_type": "code",
   "execution_count": 26,
   "outputs": [],
   "source": [
    "protein_ligand = expanded_Astex_df[['Protein_ID', 'Ligand_Name']].drop_duplicates().values\n",
    "\n",
    "for protein, ligand in protein_ligand:\n",
    "\n",
    "    chains = expanded_Astex_df.loc[(expanded_Astex_df['Protein_ID']==protein) &\n",
    "                      (expanded_Astex_df['Ligand_Name']==ligand), 'Chain'].to_list()\n",
    "\n",
    "    chains = ','.join(chains)\n",
    "\n",
    "    expanded_Astex_df.loc[(expanded_Astex_df['Protein_ID']==protein) &\n",
    "                      (expanded_Astex_df['Ligand_Name']==ligand), 'Chain'] = chains\n",
    "\n",
    "expanded_Astex_df = expanded_Astex_df.drop_duplicates()"
   ],
   "metadata": {
    "collapsed": false,
    "pycharm": {
     "name": "#%%\n"
    }
   }
  },
  {
   "cell_type": "code",
   "execution_count": 27,
   "outputs": [],
   "source": [
    "#expanded_Astex_df.to_csv('expanded_Astex.csv', index=False)\n",
    "temp_df = expanded_Astex_df[['Astex_Diverse_Set', 'Protein_Class',\n",
    "                             'Uniprot_ID', 'Ligand_Name']]\n",
    "temp_df = temp_df.drop_duplicates(keep='first')\n",
    "\n",
    "expanded_Astex_df = expanded_Astex_df.loc[expanded_Astex_df.index.isin(temp_df.index.to_list())]"
   ],
   "metadata": {
    "collapsed": false,
    "pycharm": {
     "name": "#%%\n"
    }
   }
  },
  {
   "cell_type": "code",
   "execution_count": 28,
   "outputs": [
    {
     "data": {
      "text/plain": "   Astex_Diverse_Set Protein_Class Protein_Family Uniprot_ID Protein_ID  \\\n0               1G9V      16.-.-.-           2D5Z     P69905       2D5Z   \n2               1G9V      16.-.-.-           2D5Z     P68871       2D5Z   \n18              1G9V      16.-.-.-           2D5Z     P69905       5E6E   \n7               1G9V      16.-.-.-           2D5Z     P69905       1G9V   \n11              1G9V      16.-.-.-           2D5Z     P68871       3WHM   \n\n   Ligand_Name Chain  resolution  mutated  \n0          L35   A,D        1.45      0.0  \n2          L35   A,D        1.45      0.0  \n18         MBN     A        1.76      0.0  \n7          RQ3     A        1.85      0.0  \n11         O4B   B,E        1.85      0.0  ",
      "text/html": "<div>\n<style scoped>\n    .dataframe tbody tr th:only-of-type {\n        vertical-align: middle;\n    }\n\n    .dataframe tbody tr th {\n        vertical-align: top;\n    }\n\n    .dataframe thead th {\n        text-align: right;\n    }\n</style>\n<table border=\"1\" class=\"dataframe\">\n  <thead>\n    <tr style=\"text-align: right;\">\n      <th></th>\n      <th>Astex_Diverse_Set</th>\n      <th>Protein_Class</th>\n      <th>Protein_Family</th>\n      <th>Uniprot_ID</th>\n      <th>Protein_ID</th>\n      <th>Ligand_Name</th>\n      <th>Chain</th>\n      <th>resolution</th>\n      <th>mutated</th>\n    </tr>\n  </thead>\n  <tbody>\n    <tr>\n      <th>0</th>\n      <td>1G9V</td>\n      <td>16.-.-.-</td>\n      <td>2D5Z</td>\n      <td>P69905</td>\n      <td>2D5Z</td>\n      <td>L35</td>\n      <td>A,D</td>\n      <td>1.45</td>\n      <td>0.0</td>\n    </tr>\n    <tr>\n      <th>2</th>\n      <td>1G9V</td>\n      <td>16.-.-.-</td>\n      <td>2D5Z</td>\n      <td>P68871</td>\n      <td>2D5Z</td>\n      <td>L35</td>\n      <td>A,D</td>\n      <td>1.45</td>\n      <td>0.0</td>\n    </tr>\n    <tr>\n      <th>18</th>\n      <td>1G9V</td>\n      <td>16.-.-.-</td>\n      <td>2D5Z</td>\n      <td>P69905</td>\n      <td>5E6E</td>\n      <td>MBN</td>\n      <td>A</td>\n      <td>1.76</td>\n      <td>0.0</td>\n    </tr>\n    <tr>\n      <th>7</th>\n      <td>1G9V</td>\n      <td>16.-.-.-</td>\n      <td>2D5Z</td>\n      <td>P69905</td>\n      <td>1G9V</td>\n      <td>RQ3</td>\n      <td>A</td>\n      <td>1.85</td>\n      <td>0.0</td>\n    </tr>\n    <tr>\n      <th>11</th>\n      <td>1G9V</td>\n      <td>16.-.-.-</td>\n      <td>2D5Z</td>\n      <td>P68871</td>\n      <td>3WHM</td>\n      <td>O4B</td>\n      <td>B,E</td>\n      <td>1.85</td>\n      <td>0.0</td>\n    </tr>\n  </tbody>\n</table>\n</div>"
     },
     "execution_count": 28,
     "metadata": {},
     "output_type": "execute_result"
    }
   ],
   "source": [
    "expanded_Astex_df.head()"
   ],
   "metadata": {
    "collapsed": false,
    "pycharm": {
     "name": "#%%\n"
    }
   }
  },
  {
   "cell_type": "code",
   "execution_count": null,
   "outputs": [],
   "source": [
    "expanded_Astex_df.to_csv('expanded_Astex.csv', index=False)"
   ],
   "metadata": {
    "collapsed": false,
    "pycharm": {
     "name": "#%%\n"
    }
   }
  },
  {
   "cell_type": "code",
   "execution_count": 35,
   "outputs": [],
   "source": [
    "expanded_Astex_df['count'] = 0\n",
    "\n",
    "for astex in expanded_Astex_df.Astex_Diverse_Set.drop_duplicates():\n",
    "    copies = len(expanded_Astex_df.loc[expanded_Astex_df['Astex_Diverse_Set']==astex, 'Protein_ID'].drop_duplicates())\n",
    "    expanded_Astex_df.loc[expanded_Astex_df['Astex_Diverse_Set']==astex, 'count'] = copies"
   ],
   "metadata": {
    "collapsed": false,
    "pycharm": {
     "name": "#%%\n"
    }
   }
  },
  {
   "cell_type": "code",
   "execution_count": 63,
   "outputs": [],
   "source": [
    "expanded_Astex_df = expanded_Astex_df.sort_values(by=['count', 'Astex_Diverse_Set',\n",
    "                                                      'Uniprot_ID','Protein_ID', 'resolution'], ascending=False)"
   ],
   "metadata": {
    "collapsed": false,
    "pycharm": {
     "name": "#%%\n"
    }
   }
  },
  {
   "cell_type": "code",
   "execution_count": 64,
   "outputs": [],
   "source": [
    "expanded_Astex_df.to_csv('expanded_Astex_count_plus_90clusters.csv', index=False)"
   ],
   "metadata": {
    "collapsed": false,
    "pycharm": {
     "name": "#%%\n"
    }
   }
  },
  {
   "cell_type": "code",
   "execution_count": 65,
   "outputs": [
    {
     "data": {
      "text/plain": "      Protein_Class Protein_Family Uniprot_ID Protein_ID Ligand_Name Chain\n71854      3.1.4.35           3TGE        NaN       3HDZ         PD6     A",
      "text/html": "<div>\n<style scoped>\n    .dataframe tbody tr th:only-of-type {\n        vertical-align: middle;\n    }\n\n    .dataframe tbody tr th {\n        vertical-align: top;\n    }\n\n    .dataframe thead th {\n        text-align: right;\n    }\n</style>\n<table border=\"1\" class=\"dataframe\">\n  <thead>\n    <tr style=\"text-align: right;\">\n      <th></th>\n      <th>Protein_Class</th>\n      <th>Protein_Family</th>\n      <th>Uniprot_ID</th>\n      <th>Protein_ID</th>\n      <th>Ligand_Name</th>\n      <th>Chain</th>\n    </tr>\n  </thead>\n  <tbody>\n    <tr>\n      <th>71854</th>\n      <td>3.1.4.35</td>\n      <td>3TGE</td>\n      <td>NaN</td>\n      <td>3HDZ</td>\n      <td>PD6</td>\n      <td>A</td>\n    </tr>\n  </tbody>\n</table>\n</div>"
     },
     "execution_count": 65,
     "metadata": {},
     "output_type": "execute_result"
    }
   ],
   "source": [
    "bm_df.loc[bm_df['Protein_ID']=='3HDZ']"
   ],
   "metadata": {
    "collapsed": false,
    "pycharm": {
     "name": "#%%\n"
    }
   }
  }
 ],
 "metadata": {
  "kernelspec": {
   "display_name": "Python 3",
   "language": "python",
   "name": "python3"
  },
  "language_info": {
   "codemirror_mode": {
    "name": "ipython",
    "version": 2
   },
   "file_extension": ".py",
   "mimetype": "text/x-python",
   "name": "python",
   "nbconvert_exporter": "python",
   "pygments_lexer": "ipython2",
   "version": "2.7.6"
  }
 },
 "nbformat": 4,
 "nbformat_minor": 0
}
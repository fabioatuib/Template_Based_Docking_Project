{
 "cells": [
  {
   "cell_type": "code",
   "execution_count": 1,
   "metadata": {
    "collapsed": true
   },
   "outputs": [],
   "source": [
    "import pandas as pd\n",
    "from rdkit import Chem"
   ]
  },
  {
   "cell_type": "code",
   "execution_count": 2,
   "outputs": [],
   "source": [
    "# example of a starting dictionary:\n",
    "d = {'P49356': ['1SA4_JAN.sdf', '1MZC_BNE.sdf', '1JCQ_739.sdf', '1LD7_U66.sdf'],\n",
    "     'P00520': ['3K5V_STI.sdf', '1FPU_PRC.sdf', '3KF4_B90.sdf']}"
   ],
   "metadata": {
    "collapsed": false,
    "pycharm": {
     "name": "#%%\n"
    }
   }
  },
  {
   "cell_type": "code",
   "execution_count": 3,
   "outputs": [
    {
     "data": {
      "text/plain": "['1JCQ_739',\n '1SA4_JAN',\n '1MZC_BNE',\n '1LD7_U66',\n '1S63_778',\n '3E37_ED5',\n '2IEJ_S48']"
     },
     "execution_count": 3,
     "metadata": {},
     "output_type": "execute_result"
    }
   ],
   "source": [
    "conformers = [m.GetProp('_Name') for m in\n",
    "              Chem.SDMolSupplier('../conformers_to_dock/P49356/1SA4_JAN_minimum_rmsd_conformers.sdf')]\n",
    "conformers"
   ],
   "metadata": {
    "collapsed": false,
    "pycharm": {
     "name": "#%%\n"
    }
   }
  },
  {
   "cell_type": "code",
   "execution_count": 10,
   "outputs": [],
   "source": [
    "df = pd.DataFrame(data=[[None]*5]*len(conformers),\n",
    "                  columns=['template' , 'to_dock', 'docked', 'scored', 'error'])"
   ],
   "metadata": {
    "collapsed": false,
    "pycharm": {
     "name": "#%%\n"
    }
   }
  },
  {
   "cell_type": "code",
   "execution_count": 11,
   "outputs": [
    {
     "data": {
      "text/plain": "   template   to_dock docked scored error\n0  1SA4_JAN  1JCQ_739   None   None  None\n1  1SA4_JAN  1SA4_JAN   None   None  None\n2  1SA4_JAN  1MZC_BNE   None   None  None\n3  1SA4_JAN  1LD7_U66   None   None  None\n4  1SA4_JAN  1S63_778   None   None  None\n5  1SA4_JAN  3E37_ED5   None   None  None\n6  1SA4_JAN  2IEJ_S48   None   None  None",
      "text/html": "<div>\n<style scoped>\n    .dataframe tbody tr th:only-of-type {\n        vertical-align: middle;\n    }\n\n    .dataframe tbody tr th {\n        vertical-align: top;\n    }\n\n    .dataframe thead th {\n        text-align: right;\n    }\n</style>\n<table border=\"1\" class=\"dataframe\">\n  <thead>\n    <tr style=\"text-align: right;\">\n      <th></th>\n      <th>template</th>\n      <th>to_dock</th>\n      <th>docked</th>\n      <th>scored</th>\n      <th>error</th>\n    </tr>\n  </thead>\n  <tbody>\n    <tr>\n      <th>0</th>\n      <td>1SA4_JAN</td>\n      <td>1JCQ_739</td>\n      <td>None</td>\n      <td>None</td>\n      <td>None</td>\n    </tr>\n    <tr>\n      <th>1</th>\n      <td>1SA4_JAN</td>\n      <td>1SA4_JAN</td>\n      <td>None</td>\n      <td>None</td>\n      <td>None</td>\n    </tr>\n    <tr>\n      <th>2</th>\n      <td>1SA4_JAN</td>\n      <td>1MZC_BNE</td>\n      <td>None</td>\n      <td>None</td>\n      <td>None</td>\n    </tr>\n    <tr>\n      <th>3</th>\n      <td>1SA4_JAN</td>\n      <td>1LD7_U66</td>\n      <td>None</td>\n      <td>None</td>\n      <td>None</td>\n    </tr>\n    <tr>\n      <th>4</th>\n      <td>1SA4_JAN</td>\n      <td>1S63_778</td>\n      <td>None</td>\n      <td>None</td>\n      <td>None</td>\n    </tr>\n    <tr>\n      <th>5</th>\n      <td>1SA4_JAN</td>\n      <td>3E37_ED5</td>\n      <td>None</td>\n      <td>None</td>\n      <td>None</td>\n    </tr>\n    <tr>\n      <th>6</th>\n      <td>1SA4_JAN</td>\n      <td>2IEJ_S48</td>\n      <td>None</td>\n      <td>None</td>\n      <td>None</td>\n    </tr>\n  </tbody>\n</table>\n</div>"
     },
     "execution_count": 11,
     "metadata": {},
     "output_type": "execute_result"
    }
   ],
   "source": [
    "df['template'] = '1SA4_JAN'\n",
    "df['to_dock'] = conformers\n",
    "df"
   ],
   "metadata": {
    "collapsed": false,
    "pycharm": {
     "name": "#%%\n"
    }
   }
  },
  {
   "cell_type": "code",
   "source": [
    "# Now as the workflow moves forward just edit the dataframe!"
   ],
   "metadata": {
    "collapsed": false,
    "pycharm": {
     "name": "#%%\n"
    }
   },
   "execution_count": null,
   "outputs": []
  },
  {
   "cell_type": "code",
   "execution_count": 16,
   "outputs": [
    {
     "data": {
      "text/plain": "   template   to_dock docked scored error\n0  1SA4_JAN  1JCQ_739   None   None  None\n1  1SA4_JAN  1SA4_JAN   None   None  None\n2  1SA4_JAN  1MZC_BNE   None   None  None\n3  1SA4_JAN  1LD7_U66   None   None  None\n4  1SA4_JAN  1S63_778   None   None  None\n5  1SA4_JAN  3E37_ED5   None   None  None\n6  1SA4_JAN  2IEJ_S48   None   None  None",
      "text/html": "<div>\n<style scoped>\n    .dataframe tbody tr th:only-of-type {\n        vertical-align: middle;\n    }\n\n    .dataframe tbody tr th {\n        vertical-align: top;\n    }\n\n    .dataframe thead th {\n        text-align: right;\n    }\n</style>\n<table border=\"1\" class=\"dataframe\">\n  <thead>\n    <tr style=\"text-align: right;\">\n      <th></th>\n      <th>template</th>\n      <th>to_dock</th>\n      <th>docked</th>\n      <th>scored</th>\n      <th>error</th>\n    </tr>\n  </thead>\n  <tbody>\n    <tr>\n      <th>0</th>\n      <td>1SA4_JAN</td>\n      <td>1JCQ_739</td>\n      <td>None</td>\n      <td>None</td>\n      <td>None</td>\n    </tr>\n    <tr>\n      <th>1</th>\n      <td>1SA4_JAN</td>\n      <td>1SA4_JAN</td>\n      <td>None</td>\n      <td>None</td>\n      <td>None</td>\n    </tr>\n    <tr>\n      <th>2</th>\n      <td>1SA4_JAN</td>\n      <td>1MZC_BNE</td>\n      <td>None</td>\n      <td>None</td>\n      <td>None</td>\n    </tr>\n    <tr>\n      <th>3</th>\n      <td>1SA4_JAN</td>\n      <td>1LD7_U66</td>\n      <td>None</td>\n      <td>None</td>\n      <td>None</td>\n    </tr>\n    <tr>\n      <th>4</th>\n      <td>1SA4_JAN</td>\n      <td>1S63_778</td>\n      <td>None</td>\n      <td>None</td>\n      <td>None</td>\n    </tr>\n    <tr>\n      <th>5</th>\n      <td>1SA4_JAN</td>\n      <td>3E37_ED5</td>\n      <td>None</td>\n      <td>None</td>\n      <td>None</td>\n    </tr>\n    <tr>\n      <th>6</th>\n      <td>1SA4_JAN</td>\n      <td>2IEJ_S48</td>\n      <td>None</td>\n      <td>None</td>\n      <td>None</td>\n    </tr>\n  </tbody>\n</table>\n</div>"
     },
     "execution_count": 16,
     "metadata": {},
     "output_type": "execute_result"
    }
   ],
   "source": [
    "df.loc[df['to_dock']=='laksdbj', 'error'] = 12\n",
    "df"
   ],
   "metadata": {
    "collapsed": false,
    "pycharm": {
     "name": "#%%\n"
    }
   }
  }
 ],
 "metadata": {
  "kernelspec": {
   "display_name": "Python 3",
   "language": "python",
   "name": "python3"
  },
  "language_info": {
   "codemirror_mode": {
    "name": "ipython",
    "version": 2
   },
   "file_extension": ".py",
   "mimetype": "text/x-python",
   "name": "python",
   "nbconvert_exporter": "python",
   "pygments_lexer": "ipython2",
   "version": "2.7.6"
  }
 },
 "nbformat": 4,
 "nbformat_minor": 0
}
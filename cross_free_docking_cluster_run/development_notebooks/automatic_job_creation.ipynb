{
 "cells": [
  {
   "cell_type": "code",
   "execution_count": 1,
   "metadata": {
    "collapsed": true
   },
   "outputs": [],
   "source": [
    "import os"
   ]
  },
  {
   "cell_type": "code",
   "execution_count": 53,
   "outputs": [],
   "source": [
    "PATH_TO_BASE_FOLDER = '/home/fol007/PhD_Project/Template_Based_Docking_Project/cross_free_docking_cluster_run'\n",
    "PATH_TO_REFERENCE_LIGANDS_FOLDER = f'{PATH_TO_BASE_FOLDER}/reference_ligands'\n",
    "PATH_TO_JOB_SCRIPTS = f'{PATH_TO_BASE_FOLDER}/job_scripts'"
   ],
   "metadata": {
    "collapsed": false,
    "pycharm": {
     "name": "#%%\n"
    }
   }
  },
  {
   "cell_type": "code",
   "execution_count": 54,
   "outputs": [],
   "source": [
    "# Values to calculate:\n",
    "cpus_per_task_max = 40\n",
    "correction_factor = 2\n",
    "time_per_dock = 40\n",
    "cpus_per_task = None\n",
    "time = None"
   ],
   "metadata": {
    "collapsed": false,
    "pycharm": {
     "name": "#%%\n"
    }
   }
  },
  {
   "cell_type": "code",
   "execution_count": 55,
   "outputs": [],
   "source": [
    "dict = create_initial_reference_dictionary()"
   ],
   "metadata": {
    "collapsed": false,
    "pycharm": {
     "name": "#%%\n"
    }
   }
  },
  {
   "cell_type": "code",
   "execution_count": 56,
   "outputs": [],
   "source": [
    "for target in dict:\n",
    "    number = len(dict[target])\n",
    "    if number > cpus_per_task_max:\n",
    "        cpus_per_task = cpus_per_task_max\n",
    "    else:\n",
    "        cpus_per_task = number\n",
    "    time = (time_per_dock * number * number / cpus_per_task) * correction_factor\n",
    "    create_job_script(uniprot_id=target, time=time, cpus_per_task=cpus_per_task, size=number)"
   ],
   "metadata": {
    "collapsed": false,
    "pycharm": {
     "name": "#%%\n"
    }
   }
  },
  {
   "cell_type": "code",
   "execution_count": 52,
   "outputs": [],
   "source": [
    "def create_initial_reference_dictionary(path_to_reference_ligands_folder=PATH_TO_REFERENCE_LIGANDS_FOLDER):\n",
    "    '''organize dictionary based on the reference ligands'''\n",
    "    reference_dictionary = {}\n",
    "    uniprot_ids = os.listdir(path_to_reference_ligands_folder)\n",
    "    for uniprot_id in uniprot_ids:\n",
    "        reference_dictionary[uniprot_id] = []\n",
    "        for references in os.listdir(path_to_reference_ligands_folder + '/' + uniprot_id):\n",
    "            reference_dictionary[uniprot_id] += [references.split('.')[0]]\n",
    "    return reference_dictionary\n",
    "\n",
    "def create_job_script(uniprot_id, time, cpus_per_task, size):\n",
    "    job = open(PATH_TO_JOB_SCRIPTS + '/' + uniprot_id + '_' + str(size) + '.job', 'w')\n",
    "    job.write('#!/bin/bash')\n",
    "    job.write('\\n\\n')\n",
    "    job.write('#######')\n",
    "    job.write('\\n')\n",
    "    job.write('# job #')\n",
    "    job.write('\\n')\n",
    "    job.write('#######')\n",
    "    job.write('\\n\\n')\n",
    "    job.write('## Substitute with your project name:')\n",
    "    job.write('\\n')\n",
    "    job.write('#SBATCH --account=NN9376K')\n",
    "    job.write('\\n\\n')\n",
    "    job.write('#SBATCH --job-name=docking_'+uniprot_id)\n",
    "    job.write('\\n\\n')\n",
    "    job.write('#              d-hh:mm:ss')\n",
    "    job.write('\\n')\n",
    "    days, hours, minutes, seconds = get_days_hours_minutes_seconds_from_seconds(time)\n",
    "    job.write('#SBATCH --time='+'%d-%02d:%02d:%02d' % (days, hours, minutes, seconds))\n",
    "    job.write('\\n\\n')\n",
    "    job.write('#SBATCH --output=slurm_outputs/docking_'+uniprot_id+'_slurm_output.out')\n",
    "    job.write('\\n\\n')\n",
    "    job.write('#SBATCH --cpus-per-task='+str(cpus_per_task))\n",
    "    job.write('\\n\\n')\n",
    "    job.write('#SBATCH --mem-per-cpu=2G')\n",
    "    job.write('\\n\\n')\n",
    "    job.write('# you must not place bash commands before the last #SBATCH directive')\n",
    "    job.write('\\n\\n')\n",
    "    job.write('## Set safer defaults for bash')\n",
    "    job.write('\\n\\n')\n",
    "    job.write('set -o errexit')\n",
    "    job.write('\\n')\n",
    "    job.write('set -o nounset')\n",
    "    job.write('\\n\\n')\n",
    "    job.write('module --quiet purge  # Clear any inherited modules')\n",
    "    job.write('\\n\\n')\n",
    "    job.write('python dock_all_against_all_cl.py '+uniprot_id)\n",
    "    job.close()\n",
    "\n",
    "def get_days_hours_minutes_seconds_from_seconds(time):\n",
    "    days = time // (24 * 3600)\n",
    "    time = time % (24 * 3600)\n",
    "    hours = time // 3600\n",
    "    time %= 3600\n",
    "    minutes = time // 60\n",
    "    time %= 60\n",
    "    seconds = time\n",
    "    return days, hours, minutes, seconds\n"
   ],
   "metadata": {
    "collapsed": false,
    "pycharm": {
     "name": "#%%\n"
    }
   }
  }
 ],
 "metadata": {
  "kernelspec": {
   "display_name": "Python 3",
   "language": "python",
   "name": "python3"
  },
  "language_info": {
   "codemirror_mode": {
    "name": "ipython",
    "version": 2
   },
   "file_extension": ".py",
   "mimetype": "text/x-python",
   "name": "python",
   "nbconvert_exporter": "python",
   "pygments_lexer": "ipython2",
   "version": "2.7.6"
  }
 },
 "nbformat": 4,
 "nbformat_minor": 0
}
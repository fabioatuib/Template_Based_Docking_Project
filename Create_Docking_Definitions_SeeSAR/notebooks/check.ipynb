{
 "cells": [
  {
   "cell_type": "code",
   "execution_count": 2,
   "metadata": {
    "collapsed": true
   },
   "outputs": [],
   "source": [
    "import json\n",
    "from biopandas.pdb import PandasPdb\n",
    "from rdkit import Chem\n",
    "import pandas as pd"
   ]
  },
  {
   "cell_type": "code",
   "execution_count": 10,
   "outputs": [],
   "source": [
    "dock_seesar = open('../scoring_definition/definition.json','r')\n",
    "dock_seesar = json.load(dock_seesar)"
   ],
   "metadata": {
    "collapsed": false,
    "pycharm": {
     "name": "#%%\n"
    }
   }
  },
  {
   "cell_type": "code",
   "execution_count": 11,
   "outputs": [
    {
     "data": {
      "text/plain": "{'bindingSite': {'definitionSpheres': [{'r': 0.1,\n    'x': 55.83,\n    'y': 55.507,\n    'z': 12.363},\n   {'r': 0.1, 'x': 53.102, 'y': 55.541, 'z': 14.728},\n   {'r': 0.1, 'x': 50.381, 'y': 55.522, 'z': 16.057},\n   {'r': 0.1, 'x': 51.715, 'y': 55.086, 'z': 19.012},\n   {'r': 0.1, 'x': 52.975, 'y': 57.877, 'z': 19.759},\n   {'r': 0.1, 'x': 53.301, 'y': 60.344, 'z': 21.662},\n   {'r': 0.1, 'x': 53.804, 'y': 63.27, 'z': 22.271},\n   {'r': 0.1, 'x': 54.909, 'y': 62.592, 'z': 25.062},\n   {'r': 0.1, 'x': 57.32, 'y': 61.128, 'z': 24.165},\n   {'r': 0.1, 'x': 58.601, 'y': 63.413, 'z': 22.759},\n   {'r': 0.1, 'x': 62.405, 'y': 61.557, 'z': 25.135},\n   {'r': 0.1, 'x': 63.347, 'y': 62.813, 'z': 22.333},\n   {'r': 0.1, 'x': 64.497, 'y': 65.421, 'z': 23.125},\n   {'r': 0.1, 'x': 69.069, 'y': 46.979, 'z': 21.352},\n   {'r': 0.1, 'x': 66.949, 'y': 44.086, 'z': 21.764},\n   {'r': 0.1, 'x': 64.435, 'y': 42.613, 'z': 20.866},\n   {'r': 0.1, 'x': 61.953, 'y': 42.094, 'z': 19.569},\n   {'r': 0.1, 'x': 60.075, 'y': 44.607, 'z': 20.399},\n   {'r': 0.1, 'x': 60.962, 'y': 47.404, 'z': 21.467},\n   {'r': 0.1, 'x': 62.162, 'y': 49.662, 'z': 19.033},\n   {'r': 0.1, 'x': 64.128, 'y': 50.23, 'z': 16.785},\n   {'r': 0.1, 'x': 62.315, 'y': 51.564, 'z': 14.771},\n   {'r': 0.1, 'x': 61.496, 'y': 53.858, 'z': 16.565},\n   {'r': 0.1, 'x': 64.199, 'y': 54.962, 'z': 17.249},\n   {'r': 0.1, 'x': 65.15, 'y': 55.613, 'z': 14.491},\n   {'r': 0.1, 'x': 62.923, 'y': 57.508, 'z': 13.643},\n   {'r': 0.1, 'x': 63.385, 'y': 59.524, 'z': 15.797},\n   {'r': 0.1, 'x': 66.283, 'y': 60.162, 'z': 15.126},\n   {'r': 0.1, 'x': 71.841, 'y': 50.525, 'z': 14.076},\n   {'r': 0.1, 'x': 69.79, 'y': 47.776, 'z': 14.288},\n   {'r': 0.1, 'x': 70.145, 'y': 45.024, 'z': 16.765},\n   {'r': 0.1, 'x': 52.91, 'y': 41.946, 'z': 22.793},\n   {'r': 0.1, 'x': 54.625, 'y': 42.739, 'z': 20.435},\n   {'r': 0.1, 'x': 54.435, 'y': 40.147, 'z': 18.922},\n   {'r': 0.1, 'x': 51.438, 'y': 40.007, 'z': 18.561},\n   {'r': 0.1, 'x': 50.965, 'y': 42.623, 'z': 17.19},\n   {'r': 0.1, 'x': 52.681, 'y': 41.932, 'z': 14.81},\n   {'r': 0.1, 'x': 51.129, 'y': 39.579, 'z': 13.866},\n   {'r': 0.1, 'x': 48.534, 'y': 40.929, 'z': 13.23},\n   {'r': 0.1, 'x': 49.545, 'y': 42.693, 'z': 11.094},\n   {'r': 0.1, 'x': 50.466, 'y': 40.424, 'z': 9.298},\n   {'r': 0.1, 'x': 47.744, 'y': 39.255, 'z': 8.722},\n   {'r': 0.1, 'x': 62.384, 'y': 51.475, 'z': 29.737},\n   {'r': 0.1, 'x': 59.314, 'y': 50.018, 'z': 29.648},\n   {'r': 0.1, 'x': 55.814, 'y': 49.72, 'z': 29.771},\n   {'r': 0.1, 'x': 53.172, 'y': 50.437, 'z': 28.691},\n   {'r': 0.1, 'x': 53.472, 'y': 51.704, 'z': 25.916},\n   {'r': 0.1, 'x': 56.41, 'y': 52.862, 'z': 26.254},\n   {'r': 0.1, 'x': 57.602, 'y': 54.211, 'z': 28.713},\n   {'r': 0.1, 'x': 59.74, 'y': 55.394, 'z': 30.562},\n   {'r': 0.1, 'x': 64.365, 'y': 41.675, 'z': 13.335},\n   {'r': 0.1, 'x': 65.322, 'y': 44.61, 'z': 24.885},\n   {'r': 0.1, 'x': 69.14, 'y': 41.987, 'z': 12.913},\n   {'r': 0.1, 'x': 56.129, 'y': 40.315, 'z': 15.559},\n   {'r': 0.1, 'x': 52.783, 'y': 47.535, 'z': 20.926},\n   {'r': 0.1, 'x': 67.728, 'y': 42.886, 'z': 15.132},\n   {'r': 0.1, 'x': 56.537, 'y': 39.003, 'z': 13.209},\n   {'r': 0.1, 'x': 51.878, 'y': 47.298, 'z': 26.634},\n   {'r': 0.1, 'x': 50.856, 'y': 46.252, 'z': 22.049},\n   {'r': 0.1, 'x': 52.985, 'y': 45.746, 'z': 18.899},\n   {'r': 0.1, 'x': 52.178, 'y': 49.913, 'z': 19.904},\n   {'r': 0.1, 'x': 58.513, 'y': 55.336, 'z': 24.245},\n   {'r': 0.1, 'x': 60.509, 'y': 53.414, 'z': 21.52},\n   {'r': 0.1, 'x': 53.152, 'y': 47.196, 'z': 14.561},\n   {'r': 0.1, 'x': 61.737, 'y': 42.288, 'z': 14.098},\n   {'r': 0.1, 'x': 64.358, 'y': 43.385, 'z': 16.065},\n   {'r': 0.1, 'x': 62.26, 'y': 37.99, 'z': 9.666},\n   {'r': 0.1, 'x': 59.905, 'y': 38.648, 'z': 14.187},\n   {'r': 0.1, 'x': 48.618, 'y': 47.38, 'z': 20.784},\n   {'r': 0.1, 'x': 64.574, 'y': 38.854, 'z': 21.33},\n   {'r': 0.1, 'x': 58.301, 'y': 40.188, 'z': 11.523},\n   {'r': 0.1, 'x': 62.426, 'y': 45.366, 'z': 13.331},\n   {'r': 0.1, 'x': 50.569, 'y': 46.175, 'z': 17.552},\n   {'r': 0.1, 'x': 50.023, 'y': 47.622, 'z': 24.471},\n   {'r': 0.1, 'x': 59.355, 'y': 37.991, 'z': 9.249},\n   {'r': 0.1, 'x': 55.736, 'y': 49.707, 'z': 13.757},\n   {'r': 0.1, 'x': 65.121, 'y': 50.489, 'z': 11.726},\n   {'r': 0.1, 'x': 53.311, 'y': 52.842, 'z': 31.612},\n   {'r': 0.1, 'x': 52.988, 'y': 45.202, 'z': 12.822},\n   {'r': 0.1, 'x': 58.507, 'y': 36.054, 'z': 11.18},\n   {'r': 0.1, 'x': 48.719, 'y': 49.959, 'z': 21.06},\n   {'r': 0.1, 'x': 47.57, 'y': 43.638, 'z': 16.737},\n   {'r': 0.1, 'x': 61.435, 'y': 32.404, 'z': 12.392},\n   {'r': 0.1, 'x': 54.367, 'y': 55.54, 'z': 22.945},\n   {'r': 0.1, 'x': 65.949, 'y': 44.533, 'z': 13.554},\n   {'r': 0.1, 'x': 47.396, 'y': 44.034, 'z': 24.396}]},\n 'dataType': 3,\n 'extendedBindingSite': {'definitionSpheres': [{'r': 0.1,\n    'x': 60.609,\n    'y': 61.029,\n    'z': 34.147},\n   {'r': 0.1, 'x': 55.145, 'y': 60.264, 'z': 13.615},\n   {'r': 0.1, 'x': 52.842, 'y': 59.007, 'z': 12.277},\n   {'r': 0.1, 'x': 54.583, 'y': 57.403, 'z': 10.364},\n   {'r': 0.1, 'x': 55.83, 'y': 55.507, 'z': 12.363},\n   {'r': 0.1, 'x': 53.102, 'y': 55.541, 'z': 14.728},\n   {'r': 0.1, 'x': 50.381, 'y': 55.522, 'z': 16.057},\n   {'r': 0.1, 'x': 51.715, 'y': 55.086, 'z': 19.012},\n   {'r': 0.1, 'x': 52.975, 'y': 57.877, 'z': 19.759},\n   {'r': 0.1, 'x': 53.301, 'y': 60.344, 'z': 21.662},\n   {'r': 0.1, 'x': 53.804, 'y': 63.27, 'z': 22.271},\n   {'r': 0.1, 'x': 54.909, 'y': 62.592, 'z': 25.062},\n   {'r': 0.1, 'x': 57.32, 'y': 61.128, 'z': 24.165},\n   {'r': 0.1, 'x': 58.601, 'y': 63.413, 'z': 22.759},\n   {'r': 0.1, 'x': 58.776, 'y': 65.385, 'z': 25.125},\n   {'r': 0.1, 'x': 60.241, 'y': 63.298, 'z': 27.265},\n   {'r': 0.1, 'x': 62.405, 'y': 61.557, 'z': 25.135},\n   {'r': 0.1, 'x': 63.347, 'y': 62.813, 'z': 22.333},\n   {'r': 0.1, 'x': 64.497, 'y': 65.421, 'z': 23.125},\n   {'r': 0.1, 'x': 66.657, 'y': 64.406, 'z': 24.959},\n   {'r': 0.1, 'x': 67.989, 'y': 62.682, 'z': 22.846},\n   {'r': 0.1, 'x': 68.812, 'y': 64.953, 'z': 21.057},\n   {'r': 0.1, 'x': 70.285, 'y': 49.209, 'z': 18.987},\n   {'r': 0.1, 'x': 69.069, 'y': 46.979, 'z': 21.352},\n   {'r': 0.1, 'x': 66.949, 'y': 44.086, 'z': 21.764},\n   {'r': 0.1, 'x': 64.435, 'y': 42.613, 'z': 20.866},\n   {'r': 0.1, 'x': 61.953, 'y': 42.094, 'z': 19.569},\n   {'r': 0.1, 'x': 60.075, 'y': 44.607, 'z': 20.399},\n   {'r': 0.1, 'x': 60.962, 'y': 47.404, 'z': 21.467},\n   {'r': 0.1, 'x': 62.162, 'y': 49.662, 'z': 19.033},\n   {'r': 0.1, 'x': 64.128, 'y': 50.23, 'z': 16.785},\n   {'r': 0.1, 'x': 62.315, 'y': 51.564, 'z': 14.771},\n   {'r': 0.1, 'x': 61.496, 'y': 53.858, 'z': 16.565},\n   {'r': 0.1, 'x': 64.199, 'y': 54.962, 'z': 17.249},\n   {'r': 0.1, 'x': 65.15, 'y': 55.613, 'z': 14.491},\n   {'r': 0.1, 'x': 62.923, 'y': 57.508, 'z': 13.643},\n   {'r': 0.1, 'x': 63.385, 'y': 59.524, 'z': 15.797},\n   {'r': 0.1, 'x': 66.283, 'y': 60.162, 'z': 15.126},\n   {'r': 0.1, 'x': 65.821, 'y': 61.205, 'z': 12.36},\n   {'r': 0.1, 'x': 64.092, 'y': 63.591, 'z': 13.198},\n   {'r': 0.1, 'x': 65.982, 'y': 64.996, 'z': 15.197},\n   {'r': 0.1, 'x': 70.381, 'y': 49.775, 'z': 9.604},\n   {'r': 0.1, 'x': 70.282, 'y': 46.457, 'z': 9.916},\n   {'r': 0.1, 'x': 70.688, 'y': 43.303, 'z': 10.133},\n   {'r': 0.1, 'x': 72.005, 'y': 53.506, 'z': 12.518},\n   {'r': 0.1, 'x': 71.841, 'y': 50.525, 'z': 14.076},\n   {'r': 0.1, 'x': 69.79, 'y': 47.776, 'z': 14.288},\n   {'r': 0.1, 'x': 70.145, 'y': 45.024, 'z': 16.765},\n   {'r': 0.1, 'x': 71.105, 'y': 42.771, 'z': 18.617},\n   {'r': 0.1, 'x': 68.592, 'y': 49.769, 'z': 24.941},\n   {'r': 0.1, 'x': 65.858, 'y': 48.348, 'z': 25.31},\n   {'r': 0.1, 'x': 63.612, 'y': 47.425, 'z': 27.894},\n   {'r': 0.1, 'x': 61.568, 'y': 44.578, 'z': 29.133},\n   {'r': 0.1, 'x': 59.845, 'y': 42.058, 'z': 29.609},\n   {'r': 0.1, 'x': 56.208, 'y': 42.925, 'z': 26.275},\n   {'r': 0.1, 'x': 57.151, 'y': 41.017, 'z': 24.164},\n   {'r': 0.1, 'x': 54.539, 'y': 39.595, 'z': 23.732},\n   {'r': 0.1, 'x': 52.91, 'y': 41.946, 'z': 22.793},\n   {'r': 0.1, 'x': 54.625, 'y': 42.739, 'z': 20.435},\n   {'r': 0.1, 'x': 54.435, 'y': 40.147, 'z': 18.922},\n   {'r': 0.1, 'x': 51.438, 'y': 40.007, 'z': 18.561},\n   {'r': 0.1, 'x': 50.965, 'y': 42.623, 'z': 17.19},\n   {'r': 0.1, 'x': 52.681, 'y': 41.932, 'z': 14.81},\n   {'r': 0.1, 'x': 51.129, 'y': 39.579, 'z': 13.866},\n   {'r': 0.1, 'x': 48.534, 'y': 40.929, 'z': 13.23},\n   {'r': 0.1, 'x': 49.545, 'y': 42.693, 'z': 11.094},\n   {'r': 0.1, 'x': 50.466, 'y': 40.424, 'z': 9.298},\n   {'r': 0.1, 'x': 47.744, 'y': 39.255, 'z': 8.722},\n   {'r': 0.1, 'x': 46.353, 'y': 41.536, 'z': 7.472},\n   {'r': 0.1, 'x': 48.295, 'y': 41.91, 'z': 5.089},\n   {'r': 0.1, 'x': 47.441, 'y': 38.818, 'z': 3.822},\n   {'r': 0.1, 'x': 51.167, 'y': 35.613, 'z': 5.893},\n   {'r': 0.1, 'x': 47.793, 'y': 32.839, 'z': 8.722},\n   {'r': 0.1, 'x': 48.537, 'y': 32.859, 'z': 16.224},\n   {'r': 0.1, 'x': 53.966, 'y': 33.5, 'z': 18.817},\n   {'r': 0.1, 'x': 58.71, 'y': 32.67, 'z': 18.851},\n   {'r': 0.1, 'x': 59.291, 'y': 33.467, 'z': 21.758},\n   {'r': 0.1, 'x': 63.597, 'y': 35.463, 'z': 21.668},\n   {'r': 0.1, 'x': 68.129, 'y': 37.035, 'z': 25.493},\n   {'r': 0.1, 'x': 71.193, 'y': 40.56, 'z': 24.962},\n   {'r': 0.1, 'x': 65.339, 'y': 52.042, 'z': 28.137},\n   {'r': 0.1, 'x': 62.384, 'y': 51.475, 'z': 29.737},\n   {'r': 0.1, 'x': 59.314, 'y': 50.018, 'z': 29.648},\n   {'r': 0.1, 'x': 55.814, 'y': 49.72, 'z': 29.771},\n   {'r': 0.1, 'x': 53.172, 'y': 50.437, 'z': 28.691},\n   {'r': 0.1, 'x': 53.472, 'y': 51.704, 'z': 25.916},\n   {'r': 0.1, 'x': 56.41, 'y': 52.862, 'z': 26.254},\n   {'r': 0.1, 'x': 57.602, 'y': 54.211, 'z': 28.713},\n   {'r': 0.1, 'x': 59.74, 'y': 55.394, 'z': 30.562},\n   {'r': 0.1, 'x': 61.622, 'y': 55.056, 'z': 33.467},\n   {'r': 0.1, 'x': 64.365, 'y': 41.675, 'z': 13.335},\n   {'r': 0.1, 'x': 65.322, 'y': 44.61, 'z': 24.885},\n   {'r': 0.1, 'x': 69.14, 'y': 41.987, 'z': 12.913},\n   {'r': 0.1, 'x': 56.129, 'y': 40.315, 'z': 15.559},\n   {'r': 0.1, 'x': 52.783, 'y': 47.535, 'z': 20.926},\n   {'r': 0.1, 'x': 67.728, 'y': 42.886, 'z': 15.132},\n   {'r': 0.1, 'x': 56.537, 'y': 39.003, 'z': 13.209},\n   {'r': 0.1, 'x': 51.878, 'y': 47.298, 'z': 26.634},\n   {'r': 0.1, 'x': 50.856, 'y': 46.252, 'z': 22.049},\n   {'r': 0.1, 'x': 59.731, 'y': 48.416, 'z': 32.904},\n   {'r': 0.1, 'x': 52.985, 'y': 45.746, 'z': 18.899},\n   {'r': 0.1, 'x': 52.178, 'y': 49.913, 'z': 19.904},\n   {'r': 0.1, 'x': 58.513, 'y': 55.336, 'z': 24.245},\n   {'r': 0.1, 'x': 60.509, 'y': 53.414, 'z': 21.52},\n   {'r': 0.1, 'x': 53.152, 'y': 47.196, 'z': 14.561},\n   {'r': 0.1, 'x': 61.737, 'y': 42.288, 'z': 14.098},\n   {'r': 0.1, 'x': 64.358, 'y': 43.385, 'z': 16.065},\n   {'r': 0.1, 'x': 62.26, 'y': 37.99, 'z': 9.666},\n   {'r': 0.1, 'x': 59.905, 'y': 38.648, 'z': 14.187},\n   {'r': 0.1, 'x': 48.618, 'y': 47.38, 'z': 20.784},\n   {'r': 0.1, 'x': 64.574, 'y': 38.854, 'z': 21.33},\n   {'r': 0.1, 'x': 58.301, 'y': 40.188, 'z': 11.523},\n   {'r': 0.1, 'x': 62.426, 'y': 45.366, 'z': 13.331},\n   {'r': 0.1, 'x': 50.569, 'y': 46.175, 'z': 17.552},\n   {'r': 0.1, 'x': 50.023, 'y': 47.622, 'z': 24.471},\n   {'r': 0.1, 'x': 59.355, 'y': 37.991, 'z': 9.249},\n   {'r': 0.1, 'x': 55.736, 'y': 49.707, 'z': 13.757},\n   {'r': 0.1, 'x': 48.676, 'y': 40.05, 'z': 22.825},\n   {'r': 0.1, 'x': 65.121, 'y': 50.489, 'z': 11.726},\n   {'r': 0.1, 'x': 53.311, 'y': 52.842, 'z': 31.612},\n   {'r': 0.1, 'x': 52.988, 'y': 45.202, 'z': 12.822},\n   {'r': 0.1, 'x': 58.507, 'y': 36.054, 'z': 11.18},\n   {'r': 0.1, 'x': 48.719, 'y': 49.959, 'z': 21.06},\n   {'r': 0.1, 'x': 47.57, 'y': 43.638, 'z': 16.737},\n   {'r': 0.1, 'x': 61.435, 'y': 32.404, 'z': 12.392},\n   {'r': 0.1, 'x': 54.367, 'y': 55.54, 'z': 22.945},\n   {'r': 0.1, 'x': 65.949, 'y': 44.533, 'z': 13.554},\n   {'r': 0.1, 'x': 47.396, 'y': 44.034, 'z': 24.396}]},\n 'version': 3}"
     },
     "execution_count": 11,
     "metadata": {},
     "output_type": "execute_result"
    }
   ],
   "source": [
    "dock_seesar"
   ],
   "metadata": {
    "collapsed": false,
    "pycharm": {
     "name": "#%%\n"
    }
   }
  },
  {
   "cell_type": "code",
   "execution_count": 54,
   "outputs": [],
   "source": [
    "# dock definition generated by my script:\n",
    "dock_myscript = open('../data/docking_definition_myscript.json', 'r')\n",
    "dock_myscript = json.load(dock_myscript)"
   ],
   "metadata": {
    "collapsed": false,
    "pycharm": {
     "name": "#%%\n"
    }
   }
  },
  {
   "cell_type": "code",
   "execution_count": 55,
   "outputs": [
    {
     "data": {
      "text/plain": "(42, 36)"
     },
     "execution_count": 55,
     "metadata": {},
     "output_type": "execute_result"
    }
   ],
   "source": [
    "# do the entries of the bindingSite match?\n",
    "len(dock_seesar['bindingSite']['definitionSpheres']), len(dock_myscript['bindingSite']['definitionSpheres'])"
   ],
   "metadata": {
    "collapsed": false,
    "pycharm": {
     "name": "#%%\n"
    }
   }
  },
  {
   "cell_type": "code",
   "execution_count": 56,
   "outputs": [],
   "source": [
    "seesar_bindingsite = []\n",
    "for coords in dock_seesar['bindingSite']['definitionSpheres']:\n",
    "    x , y , z = coords['x'], coords['y'], coords['z']\n",
    "    seesar_bindingsite += [(x,y,z)]\n",
    "myscript_bindingsite = []\n",
    "for coords in dock_myscript['bindingSite']['definitionSpheres']:\n",
    "    x , y , z = coords['x'], coords['y'], coords['z']\n",
    "    myscript_bindingsite += [(x,y,z)]"
   ],
   "metadata": {
    "collapsed": false,
    "pycharm": {
     "name": "#%%\n"
    }
   }
  },
  {
   "cell_type": "code",
   "execution_count": 57,
   "outputs": [],
   "source": [
    "# get structure\n",
    "ppdb = PandasPdb().fetch_pdb('1ezq')"
   ],
   "metadata": {
    "collapsed": false,
    "pycharm": {
     "name": "#%%\n"
    }
   }
  },
  {
   "cell_type": "code",
   "execution_count": 59,
   "outputs": [
    {
     "name": "stdout",
     "output_type": "stream",
     "text": [
      "(18.598, 3.527, 17.581) not in myscript_bindingsite\n",
      "   residue_name  residue_number chain_id\n",
      "46          HOH             277        A\n",
      "(12.398, 4.362, 33.954) not in myscript_bindingsite\n",
      "   residue_name  residue_number chain_id\n",
      "53          HOH             284        A\n",
      "(9.508, 0.826, 34.252) not in myscript_bindingsite\n",
      "   residue_name  residue_number chain_id\n",
      "66          HOH             297        A\n",
      "(10.531, 17.605, 31.536) not in myscript_bindingsite\n",
      "    residue_name  residue_number chain_id\n",
      "114          HOH             345        A\n",
      "(3.195, 16.455, 24.321) not in myscript_bindingsite\n",
      "    residue_name  residue_number chain_id\n",
      "116          HOH             347        A\n",
      "(3.215, 5.423, 34.539) not in myscript_bindingsite\n",
      "    residue_name  residue_number chain_id\n",
      "119          HOH             350        A\n",
      "6\n"
     ]
    }
   ],
   "source": [
    "c = 0\n",
    "for coords in seesar_bindingsite:\n",
    "    if coords not in myscript_bindingsite:\n",
    "        c += 1\n",
    "        print(coords, 'not in myscript_bindingsite')\n",
    "        matches_atom = ppdb.df['ATOM'].loc[(ppdb.df['ATOM']['x_coord']==coords[0]) &\n",
    "                                (ppdb.df['ATOM']['y_coord']==coords[1]) &\n",
    "                                (ppdb.df['ATOM']['z_coord']==coords[2])][['residue_number', 'chain_id']]\n",
    "        matches_hetatm = ppdb.df['HETATM'].loc[(ppdb.df['HETATM']['x_coord']==coords[0]) &\n",
    "                                (ppdb.df['HETATM']['y_coord']==coords[1]) &\n",
    "                                (ppdb.df['HETATM']['z_coord']==coords[2])][['residue_name', 'residue_number', 'chain_id']]\n",
    "        if len(matches_atom) != 0:\n",
    "            print(matches_atom)\n",
    "        else:\n",
    "            print(matches_hetatm)\n",
    "print(c)"
   ],
   "metadata": {
    "collapsed": false,
    "pycharm": {
     "name": "#%%\n"
    }
   }
  },
  {
   "cell_type": "code",
   "execution_count": 60,
   "outputs": [
    {
     "data": {
      "text/plain": "(93, 87)"
     },
     "execution_count": 60,
     "metadata": {},
     "output_type": "execute_result"
    }
   ],
   "source": [
    "# do the entries of the extendedBindingSite match?\n",
    "len(dock_seesar['extendedBindingSite']['definitionSpheres']), len(dock_myscript['extendedBindingSite']['definitionSpheres'])"
   ],
   "metadata": {
    "collapsed": false,
    "pycharm": {
     "name": "#%%\n"
    }
   }
  },
  {
   "cell_type": "code",
   "execution_count": 61,
   "outputs": [],
   "source": [
    "seesar_extendedbindingsite = []\n",
    "for coords in dock_seesar['extendedBindingSite']['definitionSpheres']:\n",
    "    x , y , z = coords['x'], coords['y'], coords['z']\n",
    "    seesar_extendedbindingsite += [(x,y,z)]\n",
    "myscript_extendedbindingsite = []\n",
    "for coords in dock_myscript['extendedBindingSite']['definitionSpheres']:\n",
    "    x , y , z = coords['x'], coords['y'], coords['z']\n",
    "    myscript_extendedbindingsite += [(x,y,z)]"
   ],
   "metadata": {
    "collapsed": false,
    "pycharm": {
     "name": "#%%\n"
    }
   }
  },
  {
   "cell_type": "code",
   "execution_count": 62,
   "outputs": [
    {
     "name": "stdout",
     "output_type": "stream",
     "text": [
      "(14.642, 11.21, 13.32) not in myscript_bindingsite\n",
      "    residue_name  residue_number chain_id\n",
      "305          ALA              56        A\n",
      "(11.22, 15.237, 11.12) not in myscript_bindingsite\n",
      "    residue_name  residue_number chain_id\n",
      "326          LEU              59        A\n",
      "(7.869, 14.989, 11.709) not in myscript_bindingsite\n",
      "    residue_name  residue_number chain_id\n",
      "334          TYR              60        A\n",
      "(20.546, 2.814, 34.53) not in myscript_bindingsite\n",
      "     residue_name  residue_number chain_id\n",
      "1177          PRO             161        A\n",
      "(20.424, -2.606, 31.681) not in myscript_bindingsite\n",
      "     residue_name  residue_number chain_id\n",
      "1196          VAL             163        A\n",
      "(19.843, -6.785, 27.847) not in myscript_bindingsite\n",
      "     residue_name  residue_number chain_id\n",
      "1211          ARG             165        A\n",
      "(15.807, -6.89, 30.342) not in myscript_bindingsite\n",
      "     residue_name  residue_number chain_id\n",
      "1230          SER             167        A\n",
      "(10.319, -5.731, 27.899) not in myscript_bindingsite\n",
      "     residue_name  residue_number chain_id\n",
      "1259          SER             171        A\n",
      "(22.531, -1.737, 18.537) not in myscript_bindingsite\n",
      "     residue_name  residue_number chain_id\n",
      "1311          GLN             178        A\n",
      "(20.956, 1.207, 19.107) not in myscript_bindingsite\n",
      "     residue_name  residue_number chain_id\n",
      "1320          ASN             179        A\n",
      "(10.001, -0.703, 36.747) not in myscript_bindingsite\n",
      "     residue_name  residue_number chain_id\n",
      "1374          ASP             185        A\n",
      "(24.499, 4.84, 20.637) not in myscript_bindingsite\n",
      "     residue_name  residue_number chain_id\n",
      "1727          LYS             230        A\n",
      "(10.531, 17.605, 31.536) not in myscript_bindingsite\n",
      "    residue_name  residue_number chain_id\n",
      "114          HOH             345        A\n",
      "13\n"
     ]
    }
   ],
   "source": [
    "c = 0\n",
    "for coords in seesar_extendedbindingsite:\n",
    "    if coords not in myscript_extendedbindingsite:\n",
    "        c += 1\n",
    "        print(coords, 'not in myscript_bindingsite')\n",
    "        matches_atom = ppdb.df['ATOM'].loc[(ppdb.df['ATOM']['x_coord']==coords[0]) &\n",
    "                                (ppdb.df['ATOM']['y_coord']==coords[1]) &\n",
    "                                (ppdb.df['ATOM']['z_coord']==coords[2])][['residue_name', 'residue_number', 'chain_id']]\n",
    "        matches_hetatm = ppdb.df['HETATM'].loc[(ppdb.df['HETATM']['x_coord']==coords[0]) &\n",
    "                                (ppdb.df['HETATM']['y_coord']==coords[1]) &\n",
    "                                (ppdb.df['HETATM']['z_coord']==coords[2])][['residue_name', 'residue_number', 'chain_id']]\n",
    "        if len(matches_atom) != 0:\n",
    "            print(matches_atom)\n",
    "        else:\n",
    "            print(matches_hetatm)\n",
    "print(c)"
   ],
   "metadata": {
    "collapsed": false,
    "pycharm": {
     "name": "#%%\n"
    }
   }
  },
  {
   "cell_type": "code",
   "execution_count": 63,
   "outputs": [
    {
     "name": "stdout",
     "output_type": "stream",
     "text": [
      "(7.087, 17.77, 13.351) not in seesar_bindingsite\n",
      "    residue_name  residue_number chain_id\n",
      "346          GLN              61        A\n",
      "(16.157, 16.333, 29.3) not in seesar_bindingsite\n",
      "     residue_name  residue_number chain_id\n",
      "1009          SER             139        A\n",
      "(19.748, 5.737, 35.025) not in seesar_bindingsite\n",
      "     residue_name  residue_number chain_id\n",
      "1170          VAL             160        A\n",
      "(9.412, 4.447, 38.768) not in seesar_bindingsite\n",
      "     residue_name  residue_number chain_id\n",
      "1389          LYS             186        A\n",
      "(20.666, 13.176, 26.885) not in seesar_bindingsite\n",
      "     residue_name  residue_number chain_id\n",
      "1470          PRO             198        A\n",
      "(15.165, 16.412, 25.908) not in seesar_bindingsite\n",
      "   residue_name  residue_number chain_id\n",
      "37          HOH             268        A\n",
      "(8.691, 2.645, 35.828) not in seesar_bindingsite\n",
      "    residue_name  residue_number chain_id\n",
      "113          HOH             344        A\n",
      "7\n"
     ]
    }
   ],
   "source": [
    "c = 0\n",
    "for coords in myscript_extendedbindingsite:\n",
    "    if coords not in seesar_extendedbindingsite:\n",
    "        c += 1\n",
    "        print(coords, 'not in seesar_bindingsite')\n",
    "        matches_atom = ppdb.df['ATOM'].loc[(ppdb.df['ATOM']['x_coord']==coords[0]) &\n",
    "                                (ppdb.df['ATOM']['y_coord']==coords[1]) &\n",
    "                                (ppdb.df['ATOM']['z_coord']==coords[2])][['residue_name', 'residue_number', 'chain_id']]\n",
    "        matches_hetatm = ppdb.df['HETATM'].loc[(ppdb.df['HETATM']['x_coord']==coords[0]) &\n",
    "                                (ppdb.df['HETATM']['y_coord']==coords[1]) &\n",
    "                                (ppdb.df['HETATM']['z_coord']==coords[2])][['residue_name', 'residue_number', 'chain_id']]\n",
    "        if len(matches_atom) != 0:\n",
    "            print(matches_atom)\n",
    "        else:\n",
    "            print(matches_hetatm)\n",
    "print(c)"
   ],
   "metadata": {
    "collapsed": false,
    "pycharm": {
     "name": "#%%\n"
    }
   }
  },
  {
   "cell_type": "code",
   "execution_count": 12,
   "outputs": [],
   "source": [
    "# Is the SeeSAR maintaining all the waters?\n",
    "original_pdb = PandasPdb().read_pdb(path='../data/1EZQ.pdb')\n",
    "seesar_dock_pdb = PandasPdb().read_pdb(path=#'../data/docking_definition_by_seesar_1ezq_rpr/protein.pdb')\n",
    "                                       '../data/docking_definition_by_seesar_1ezq_rpr/protein.pdb')"
   ],
   "metadata": {
    "collapsed": false,
    "pycharm": {
     "name": "#%%\n"
    }
   }
  },
  {
   "cell_type": "code",
   "execution_count": 17,
   "outputs": [
    {
     "data": {
      "text/plain": "(109, 21)"
     },
     "execution_count": 17,
     "metadata": {},
     "output_type": "execute_result"
    }
   ],
   "source": [
    "original_pdb.df['HETATM'].loc[original_pdb.df['HETATM']['residue_name']=='HOH'].shape"
   ],
   "metadata": {
    "collapsed": false,
    "pycharm": {
     "name": "#%%\n"
    }
   }
  },
  {
   "cell_type": "code",
   "execution_count": 16,
   "outputs": [
    {
     "data": {
      "text/plain": "(109, 21)"
     },
     "execution_count": 16,
     "metadata": {},
     "output_type": "execute_result"
    }
   ],
   "source": [
    "seesar_dock_pdb.df['HETATM'].loc[(seesar_dock_pdb.df['HETATM']['residue_name']=='HOH') &\n",
    "                                 (seesar_dock_pdb.df['HETATM']['element_symbol']=='O')].shape\n",
    "\n"
   ],
   "metadata": {
    "collapsed": false,
    "pycharm": {
     "name": "#%%\n"
    }
   }
  }
 ],
 "metadata": {
  "kernelspec": {
   "display_name": "Python 3",
   "language": "python",
   "name": "python3"
  },
  "language_info": {
   "codemirror_mode": {
    "name": "ipython",
    "version": 2
   },
   "file_extension": ".py",
   "mimetype": "text/x-python",
   "name": "python",
   "nbconvert_exporter": "python",
   "pygments_lexer": "ipython2",
   "version": "2.7.6"
  }
 },
 "nbformat": 4,
 "nbformat_minor": 0
}
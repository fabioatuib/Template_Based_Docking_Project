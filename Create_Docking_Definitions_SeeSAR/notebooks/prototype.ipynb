{
 "cells": [
  {
   "cell_type": "code",
   "execution_count": 1,
   "metadata": {
    "collapsed": true
   },
   "outputs": [],
   "source": [
    "# needed modules\n",
    "import json\n",
    "from biopandas.pdb import PandasPdb\n",
    "from rdkit import Chem\n",
    "import pandas as pd"
   ]
  },
  {
   "cell_type": "code",
   "execution_count": 81,
   "outputs": [],
   "source": [
    "# needed input\n",
    "path_to_pdb_file = '../../data/pdb_files_edited/O43570/4HT2_V50.pdb'\n",
    "\n",
    "path_to_reference = '../../data/optimized_ligands/O43570/4HT2_V50.sdf'"
   ],
   "metadata": {
    "collapsed": false,
    "pycharm": {
     "name": "#%%\n"
    }
   }
  },
  {
   "cell_type": "code",
   "execution_count": 82,
   "outputs": [],
   "source": [
    "# get structure\n",
    "ppdb = PandasPdb().read_pdb(path_to_pdb_file)\n",
    "\n",
    "atom_df = ppdb.df['ATOM']\n",
    "hetatm_df = ppdb.df['HETATM']\n",
    "\n",
    "reference = Chem.SDMolSupplier(path_to_reference)[0]\n",
    "reference = reference.GetConformer()"
   ],
   "metadata": {
    "collapsed": false,
    "pycharm": {
     "name": "#%%\n"
    }
   }
  },
  {
   "cell_type": "code",
   "execution_count": 83,
   "outputs": [],
   "source": [
    "# calculate distances between reference ligand atoms to all other atoms in the structure\n",
    "i = 0\n",
    "series_atoms = {}\n",
    "series_hetatoms = {}\n",
    "for position in reference.GetPositions():\n",
    "    series_atoms[i] = ppdb.distance(xyz=position, records=('ATOM'))\n",
    "    series_hetatoms[i] = ppdb.distance(xyz=position, records=('HETATM'))\n",
    "    i += 1\n",
    "# concatenate into a dataframe\n",
    "series_atoms = pd.concat(series_atoms, axis=1)\n",
    "series_hetatoms = pd.concat(series_hetatoms, axis=1)\n",
    "# assign to each atom the minimum distance to the reference ligand\n",
    "series_atoms = series_atoms.min(axis=1)\n",
    "series_hetatoms = series_hetatoms.min(axis=1)\n",
    "# add column with distances to the 'ATOM' biopandas dataframe\n",
    "atom_df = pd.concat([series_atoms, atom_df], axis=1)\n",
    "# add column with distances to the 'HETATM' biopandas dataframe\n",
    "hetatm_df = pd.concat([series_hetatoms, hetatm_df], axis=1)"
   ],
   "metadata": {
    "collapsed": false,
    "pycharm": {
     "name": "#%%\n"
    }
   }
  },
  {
   "cell_type": "code",
   "execution_count": 84,
   "outputs": [
    {
     "data": {
      "text/plain": "             0  x_coord  y_coord  z_coord\n0     9.453561  -11.072    0.057   18.205\n1     5.990797   -9.793   -1.295   15.771\n2    11.530119   -9.630   -1.828   12.208\n3     6.249789  -10.399   -1.714    8.769\n4    14.797858  -13.181    0.520    9.124\n..         ...      ...      ...      ...\n152  12.486953   -9.263    0.200    0.142\n153  14.534275   11.343    1.928    2.227\n154  13.861252   16.513   -0.723    2.876\n155  14.111762   12.494    6.106   31.160\n156  13.806619   15.498    1.369   18.114\n\n[157 rows x 4 columns]",
      "text/html": "<div>\n<style scoped>\n    .dataframe tbody tr th:only-of-type {\n        vertical-align: middle;\n    }\n\n    .dataframe tbody tr th {\n        vertical-align: top;\n    }\n\n    .dataframe thead th {\n        text-align: right;\n    }\n</style>\n<table border=\"1\" class=\"dataframe\">\n  <thead>\n    <tr style=\"text-align: right;\">\n      <th></th>\n      <th>0</th>\n      <th>x_coord</th>\n      <th>y_coord</th>\n      <th>z_coord</th>\n    </tr>\n  </thead>\n  <tbody>\n    <tr>\n      <th>0</th>\n      <td>9.453561</td>\n      <td>-11.072</td>\n      <td>0.057</td>\n      <td>18.205</td>\n    </tr>\n    <tr>\n      <th>1</th>\n      <td>5.990797</td>\n      <td>-9.793</td>\n      <td>-1.295</td>\n      <td>15.771</td>\n    </tr>\n    <tr>\n      <th>2</th>\n      <td>11.530119</td>\n      <td>-9.630</td>\n      <td>-1.828</td>\n      <td>12.208</td>\n    </tr>\n    <tr>\n      <th>3</th>\n      <td>6.249789</td>\n      <td>-10.399</td>\n      <td>-1.714</td>\n      <td>8.769</td>\n    </tr>\n    <tr>\n      <th>4</th>\n      <td>14.797858</td>\n      <td>-13.181</td>\n      <td>0.520</td>\n      <td>9.124</td>\n    </tr>\n    <tr>\n      <th>...</th>\n      <td>...</td>\n      <td>...</td>\n      <td>...</td>\n      <td>...</td>\n    </tr>\n    <tr>\n      <th>152</th>\n      <td>12.486953</td>\n      <td>-9.263</td>\n      <td>0.200</td>\n      <td>0.142</td>\n    </tr>\n    <tr>\n      <th>153</th>\n      <td>14.534275</td>\n      <td>11.343</td>\n      <td>1.928</td>\n      <td>2.227</td>\n    </tr>\n    <tr>\n      <th>154</th>\n      <td>13.861252</td>\n      <td>16.513</td>\n      <td>-0.723</td>\n      <td>2.876</td>\n    </tr>\n    <tr>\n      <th>155</th>\n      <td>14.111762</td>\n      <td>12.494</td>\n      <td>6.106</td>\n      <td>31.160</td>\n    </tr>\n    <tr>\n      <th>156</th>\n      <td>13.806619</td>\n      <td>15.498</td>\n      <td>1.369</td>\n      <td>18.114</td>\n    </tr>\n  </tbody>\n</table>\n<p>157 rows × 4 columns</p>\n</div>"
     },
     "execution_count": 84,
     "metadata": {},
     "output_type": "execute_result"
    }
   ],
   "source": [
    "# get residue number and chain_id of aa residues that are within 15 A\n",
    "residue_numbers_atom = atom_df.loc[atom_df[0]<15][[0, 'residue_number', 'chain_id', 'residue_name']].groupby(['residue_number', 'chain_id', 'residue_name']).min()\n",
    "\n",
    "# coordinates of C_alpha of aa that are within 15 A\n",
    "coordinates_C_alphas = []\n",
    "\n",
    "for ids, dist in residue_numbers_atom.itertuples():\n",
    "    residue_number, chain_id, residue_name = ids[0], ids[1], ids[2]\n",
    "    coordinates_C_alpha = atom_df.loc[(atom_df['atom_name']=='C') &\n",
    "                                        (atom_df['residue_number']==residue_number) &\n",
    "                                        (atom_df['chain_id']==chain_id) &\n",
    "                                        (atom_df['residue_name']==residue_name)][\n",
    "                                                                        ['x_coord', 'y_coord', 'z_coord']].iloc[:1].values.tolist()\n",
    "    if len(coordinates_C_alpha) == 1:\n",
    "        coordinates_C_alphas += coordinates_C_alpha\n",
    "        coordinates_C_alphas[-1] = [dist] + coordinates_C_alphas[-1]\n",
    "    else:\n",
    "        print(len(coordinates_C_alpha))\n",
    "\n",
    "coordinates_C_alphas = pd.DataFrame(coordinates_C_alphas, columns=[0, 'x_coord', 'y_coord', 'z_coord'])\n",
    "coordinates_C_alphas\n"
   ],
   "metadata": {
    "collapsed": false,
    "pycharm": {
     "name": "#%%\n"
    }
   }
  },
  {
   "cell_type": "code",
   "execution_count": 90,
   "outputs": [
    {
     "data": {
      "text/plain": "          0  x_coord  y_coord  z_coord\n0  2.060601   -0.003  -11.009   12.312",
      "text/html": "<div>\n<style scoped>\n    .dataframe tbody tr th:only-of-type {\n        vertical-align: middle;\n    }\n\n    .dataframe tbody tr th {\n        vertical-align: top;\n    }\n\n    .dataframe thead th {\n        text-align: right;\n    }\n</style>\n<table border=\"1\" class=\"dataframe\">\n  <thead>\n    <tr style=\"text-align: right;\">\n      <th></th>\n      <th>0</th>\n      <th>x_coord</th>\n      <th>y_coord</th>\n      <th>z_coord</th>\n    </tr>\n  </thead>\n  <tbody>\n    <tr>\n      <th>0</th>\n      <td>2.060601</td>\n      <td>-0.003</td>\n      <td>-11.009</td>\n      <td>12.312</td>\n    </tr>\n  </tbody>\n</table>\n</div>"
     },
     "execution_count": 90,
     "metadata": {},
     "output_type": "execute_result"
    }
   ],
   "source": [
    "# coordinates of the first atom entries of other heterogens included in the binding site definition\n",
    "coordinates_first_hetatm_entry = hetatm_df.loc[(~hetatm_df['residue_name'].isin(['HOH'])) & (hetatm_df[0]<10.5)][\n",
    "                                            [0, 'residue_number', 'x_coord', 'y_coord', 'z_coord']]\n",
    "# put indexes in a column\n",
    "coordinates_first_hetatm_entry = coordinates_first_hetatm_entry.reset_index()\n",
    "# get indexes of first atom entry\n",
    "indexes = coordinates_first_hetatm_entry[['residue_number', 'index']].groupby(['residue_number']).min()['index'].to_list()\n",
    "# coordinates of first atom entry\n",
    "coordinates_first_hetatm_entry = coordinates_first_hetatm_entry.loc[coordinates_first_hetatm_entry['index'].isin(indexes)][\n",
    "                                            [0,'x_coord', 'y_coord', 'z_coord']]\n",
    "coordinates_first_hetatm_entry"
   ],
   "metadata": {
    "collapsed": false,
    "pycharm": {
     "name": "#%%\n"
    }
   }
  },
  {
   "cell_type": "code",
   "execution_count": 23,
   "outputs": [
    {
     "data": {
      "text/plain": "{'MaximumOverlapVolumeForDocking': '2.9',\n 'bindingSite': {'definitionSpheres': [{'r': 0.1,\n    'x': -9.793,\n    'y': -1.295,\n    'z': 15.771},\n   {'r': 0.1, 'x': -10.399, 'y': -1.714, 'z': 8.769},\n   {'r': 0.1, 'x': -10.135, 'y': -10.644, 'z': 19.447},\n   {'r': 0.1, 'x': -4.972, 'y': -18.444, 'z': 18.196},\n   {'r': 0.1, 'x': 2.506, 'y': -17.818, 'z': 21.492},\n   {'r': 0.1, 'x': 1.228, 'y': -17.736, 'z': 17.992},\n   {'r': 0.1, 'x': -2.539, 'y': -16.046, 'z': 12.478},\n   {'r': 0.1, 'x': -5.195, 'y': -12.903, 'z': 6.826},\n   {'r': 0.1, 'x': 1.285, 'y': -8.179, 'z': 3.87},\n   {'r': 0.1, 'x': 2.501, 'y': -16.35, 'z': 12.828},\n   {'r': 0.1, 'x': 5.912, 'y': -15.882, 'z': 18.019},\n   {'r': 0.1, 'x': 8.578, 'y': -14.533, 'z': 20.023},\n   {'r': 0.1, 'x': 11.158, 'y': -14.038, 'z': 22.425},\n   {'r': 0.1, 'x': 5.397, 'y': -10.843, 'z': 25.698},\n   {'r': 0.1, 'x': 8.156, 'y': -7.685, 'z': 27.52},\n   {'r': 0.1, 'x': 8.755, 'y': -7.567, 'z': 24.396},\n   {'r': 0.1, 'x': 7.207, 'y': -5.373, 'z': 22.935},\n   {'r': 0.1, 'x': 10.683, 'y': -10.856, 'z': 17.829},\n   {'r': 0.1, 'x': 8.139, 'y': -14.213, 'z': 12.497},\n   {'r': 0.1, 'x': 5.994, 'y': -4.85, 'z': 13.677},\n   {'r': 0.1, 'x': 3.133, 'y': -4.683, 'z': 13.751},\n   {'r': 0.1, 'x': 0.029, 'y': -4.539, 'z': 12.436},\n   {'r': 0.1, 'x': -1.105, 'y': -3.218, 'z': 15.54},\n   {'r': 0.1, 'x': -1.232, 'y': -2.625, 'z': 18.318},\n   {'r': 0.1, 'x': 1.544, 'y': -0.645, 'z': 18.177},\n   {'r': 0.1, 'x': 4.187, 'y': -1.05, 'z': 16.629},\n   {'r': 0.1, 'x': 6.949, 'y': -1.927, 'z': 17.299},\n   {'r': 0.1, 'x': 11.106, 'y': -7.649, 'z': 14.441},\n   {'r': 0.1, 'x': 11.444, 'y': -11.61, 'z': 9.638},\n   {'r': 0.1, 'x': -0.003, 'y': -11.009, 'z': 12.312}]},\n 'dataType': 1,\n 'extendedBindingSite': {'definitionSpheres': [{'r': 0.1,\n    'x': -11.072,\n    'y': 0.057,\n    'z': 18.205},\n   {'r': 0.1, 'x': -9.793, 'y': -1.295, 'z': 15.771},\n   {'r': 0.1, 'x': -10.399, 'y': -1.714, 'z': 8.769},\n   {'r': 0.1, 'x': -3.295, 'y': 4.874, 'z': 15.158},\n   {'r': 0.1, 'x': 0.089, 'y': 4.887, 'z': 18.363},\n   {'r': 0.1, 'x': 3.612, 'y': 3.459, 'z': 15.667},\n   {'r': 0.1, 'x': 2.112, 'y': 4.22, 'z': 13.189},\n   {'r': 0.1, 'x': 8.926, 'y': -0.196, 'z': 10.925},\n   {'r': 0.1, 'x': 6.562, 'y': -1.307, 'z': 9.21},\n   {'r': 0.1, 'x': 3.963, 'y': -3.476, 'z': 8.426},\n   {'r': 0.1, 'x': 4.743, 'y': -4.19, 'z': 5.263},\n   {'r': 0.1, 'x': -10.135, 'y': -10.644, 'z': 19.447},\n   {'r': 0.1, 'x': -8.438, 'y': -10.16, 'z': 14.366},\n   {'r': 0.1, 'x': -8.28, 'y': -13.787, 'z': 15.026},\n   {'r': 0.1, 'x': -6.609, 'y': -16.521, 'z': 15.761},\n   {'r': 0.1, 'x': -4.972, 'y': -18.444, 'z': 18.196},\n   {'r': 0.1, 'x': -2.447, 'y': -20.163, 'z': 19.695},\n   {'r': 0.1, 'x': -0.546, 'y': -21.388, 'z': 21.807},\n   {'r': 0.1, 'x': 2.684, 'y': -22.058, 'z': 22.969},\n   {'r': 0.1, 'x': 12.317, 'y': -18.182, 'z': 20.865},\n   {'r': 0.1, 'x': 8.984, 'y': -18.703, 'z': 21.613},\n   {'r': 0.1, 'x': 5.94, 'y': -18.834, 'z': 21.779},\n   {'r': 0.1, 'x': 2.506, 'y': -17.818, 'z': 21.492},\n   {'r': 0.1, 'x': 1.228, 'y': -17.736, 'z': 17.992},\n   {'r': 0.1, 'x': -1.23, 'y': -17.574, 'z': 15.542},\n   {'r': 0.1, 'x': -2.539, 'y': -16.046, 'z': 12.478},\n   {'r': 0.1, 'x': -4.301, 'y': -14.05, 'z': 10.047},\n   {'r': 0.1, 'x': -5.195, 'y': -12.903, 'z': 6.826},\n   {'r': 0.1, 'x': -7.797, 'y': -11.545, 'z': 4.599},\n   {'r': 0.1, 'x': -4.089, 'y': -10.904, 'z': 2.876},\n   {'r': 0.1, 'x': -1.361, 'y': -9.935, 'z': 3.331},\n   {'r': 0.1, 'x': 1.285, 'y': -8.179, 'z': 3.87},\n   {'r': 0.1, 'x': 3.006, 'y': -9.105, 'z': 1.462},\n   {'r': 0.1, 'x': -0.84, 'y': -15.569, 'z': 7.083},\n   {'r': 0.1, 'x': 1.39, 'y': -16.378, 'z': 9.487},\n   {'r': 0.1, 'x': 2.501, 'y': -16.35, 'z': 12.828},\n   {'r': 0.1, 'x': 5.0, 'y': -16.719, 'z': 15.066},\n   {'r': 0.1, 'x': 5.912, 'y': -15.882, 'z': 18.019},\n   {'r': 0.1, 'x': 8.578, 'y': -14.533, 'z': 20.023},\n   {'r': 0.1, 'x': 11.158, 'y': -14.038, 'z': 22.425},\n   {'r': 0.1, 'x': 13.356, 'y': -13.735, 'z': 24.661},\n   {'r': 0.1, 'x': 11.957, 'y': -12.582, 'z': 29.263},\n   {'r': 0.1, 'x': 9.241, 'y': -14.003, 'z': 30.164},\n   {'r': 0.1, 'x': 7.192, 'y': -12.606, 'z': 27.46},\n   {'r': 0.1, 'x': 5.397, 'y': -10.843, 'z': 25.698},\n   {'r': 0.1, 'x': 8.156, 'y': -7.685, 'z': 27.52},\n   {'r': 0.1, 'x': 8.755, 'y': -7.567, 'z': 24.396},\n   {'r': 0.1, 'x': 7.207, 'y': -5.373, 'z': 22.935},\n   {'r': 0.1, 'x': 9.338, 'y': -2.965, 'z': 24.103},\n   {'r': 0.1, 'x': 12.446, 'y': -4.188, 'z': 23.136},\n   {'r': 0.1, 'x': 14.061, 'y': -8.125, 'z': 20.962},\n   {'r': 0.1, 'x': 11.218, 'y': -9.563, 'z': 21.159},\n   {'r': 0.1, 'x': 10.683, 'y': -10.856, 'z': 17.829},\n   {'r': 0.1, 'x': 9.404, 'y': -13.263, 'z': 15.585},\n   {'r': 0.1, 'x': 8.139, 'y': -14.213, 'z': 12.497},\n   {'r': 0.1, 'x': 6.499, 'y': -15.919, 'z': 10.214},\n   {'r': 0.1, 'x': 5.443, 'y': -16.369, 'z': 6.935},\n   {'r': 0.1, 'x': 3.022, 'y': -17.35, 'z': 4.797},\n   {'r': 0.1, 'x': 13.773, 'y': -6.989, 'z': 9.354},\n   {'r': 0.1, 'x': 9.342, 'y': -4.047, 'z': 12.639},\n   {'r': 0.1, 'x': 5.994, 'y': -4.85, 'z': 13.677},\n   {'r': 0.1, 'x': 3.133, 'y': -4.683, 'z': 13.751},\n   {'r': 0.1, 'x': 0.029, 'y': -4.539, 'z': 12.436},\n   {'r': 0.1, 'x': -1.105, 'y': -3.218, 'z': 15.54},\n   {'r': 0.1, 'x': -1.232, 'y': -2.625, 'z': 18.318},\n   {'r': 0.1, 'x': 1.544, 'y': -0.645, 'z': 18.177},\n   {'r': 0.1, 'x': 4.187, 'y': -1.05, 'z': 16.629},\n   {'r': 0.1, 'x': 6.949, 'y': -1.927, 'z': 17.299},\n   {'r': 0.1, 'x': 10.057, 'y': -2.437, 'z': 16.744},\n   {'r': 0.1, 'x': 10.48, 'y': -5.929, 'z': 17.372},\n   {'r': 0.1, 'x': 11.106, 'y': -7.649, 'z': 14.441},\n   {'r': 0.1, 'x': 11.776, 'y': -10.223, 'z': 12.649},\n   {'r': 0.1, 'x': 11.444, 'y': -11.61, 'z': 9.638},\n   {'r': 0.1, 'x': 10.192, 'y': -14.141, 'z': 7.669},\n   {'r': 0.1, 'x': -6.345, 'y': -8.062, 'z': 8.331},\n   {'r': 0.1, 'x': -4.246, 'y': -5.619, 'z': 6.893},\n   {'r': 0.1, 'x': -2.106, 'y': -3.587, 'z': 5.589},\n   {'r': 0.1, 'x': -0.003, 'y': -11.009, 'z': 12.312}]},\n 'version': 3}"
     },
     "execution_count": 23,
     "metadata": {},
     "output_type": "execute_result"
    }
   ],
   "source": [
    "# create the docking definition .json file\n",
    "\n",
    "'''\n",
    "{'MaximumOverlapVolumeForDocking': '2.9',\n",
    " 'bindingSite': {'definitionSpheres': [\n",
    "     {'r': 0.1, 'x': 60.075, 'y': 44.607, 'z': 20.399}]},\n",
    " 'dataType': 1,\n",
    " 'extendedBindingSite': {'definitionSpheres': [\n",
    "   {'r': 0.1, 'x': 64.574, 'y': 38.854, 'z': 21.33}]},\n",
    " 'version': 3}\n",
    "'''\n",
    "\n",
    "docking_definition = {\"MaximumOverlapVolumeForDocking\": \"2.9\",\n",
    "                      \"bindingSite\": {\"definitionSpheres\": []},\n",
    "                      \"dataType\": 1,\n",
    "                      \"extendedBindingSite\": {\"definitionSpheres\": []},\n",
    "                      \"version\": 3}\n",
    "\n",
    "# add bindingSite definitionSpheres:\n",
    "for x, y, z in coordinates_C_alphas.loc[coordinates_C_alphas[0]<=6.5][['x_coord', 'y_coord', 'z_coord']].values:\n",
    "    docking_definition['bindingSite']['definitionSpheres'] += [{'r': 0.1, 'x': x, 'y': y, 'z': z}]\n",
    "\n",
    "for x, y, z in coordinates_first_hetatm_entry.loc[coordinates_first_hetatm_entry[0]<=6.5][['x_coord', 'y_coord', 'z_coord']].values:\n",
    "    docking_definition['bindingSite']['definitionSpheres'] += [{'r': 0.1, 'x': x, 'y': y, 'z': z}]\n",
    "\n",
    "# add extendedBindingSite definitionSpheres:\n",
    "for x, y, z in coordinates_C_alphas.loc[coordinates_C_alphas[0]<=10.5][['x_coord', 'y_coord', 'z_coord']].values:\n",
    "    docking_definition['extendedBindingSite']['definitionSpheres'] += [{'r': 0.1, 'x': x, 'y': y, 'z': z}]\n",
    "\n",
    "for x, y, z in coordinates_first_hetatm_entry.loc[coordinates_first_hetatm_entry[0]<=10.5][['x_coord', 'y_coord', 'z_coord']].values:\n",
    "    docking_definition['extendedBindingSite']['definitionSpheres'] += [{'r': 0.1, 'x': x, 'y': y, 'z': z}]\n",
    "\n",
    "docking_definition"
   ],
   "metadata": {
    "collapsed": false,
    "pycharm": {
     "name": "#%%\n"
    }
   }
  },
  {
   "cell_type": "code",
   "execution_count": 12,
   "outputs": [
    {
     "data": {
      "text/plain": "{'bindingSite': {'definitionSpheres': [{'r': 0.1,\n    'x': 64.883,\n    'y': 13.968,\n    'z': 21.448},\n   {'r': 0.1, 'x': 62.405, 'y': 12.936, 'z': 25.005},\n   {'r': 0.1, 'x': 64.768, 'y': 11.446, 'z': 26.398},\n   {'r': 0.1, 'x': 66.178, 'y': 10.137, 'z': 28.93},\n   {'r': 0.1, 'x': 66.697, 'y': 5.386, 'z': 29.556},\n   {'r': 0.1, 'x': 70.445, 'y': 1.08, 'z': 26.405},\n   {'r': 0.1, 'x': 55.341, 'y': -1.798, 'z': 15.128},\n   {'r': 0.1, 'x': 53.802, 'y': 0.824, 'z': 14.838},\n   {'r': 0.1, 'x': 53.297, 'y': 3.622, 'z': 14.696},\n   {'r': 0.1, 'x': 54.658, 'y': 4.817, 'z': 17.374},\n   {'r': 0.1, 'x': 56.848, 'y': 3.525, 'z': 19.186},\n   {'r': 0.1, 'x': 60.154, 'y': 3.723, 'z': 17.953},\n   {'r': 0.1, 'x': 62.103, 'y': 3.163, 'z': 15.687},\n   {'r': 0.1, 'x': 63.675, 'y': 5.745, 'z': 15.657},\n   {'r': 0.1, 'x': 64.692, 'y': 5.524, 'z': 18.498},\n   {'r': 0.1, 'x': 66.026, 'y': 2.858, 'z': 18.395},\n   {'r': 0.1, 'x': 70.406, 'y': 4.308, 'z': 19.914},\n   {'r': 0.1, 'x': 62.5, 'y': -0.486, 'z': 10.122},\n   {'r': 0.1, 'x': 51.646, 'y': 9.507, 'z': 18.817},\n   {'r': 0.1, 'x': 50.007, 'y': 10.428, 'z': 16.465},\n   {'r': 0.1, 'x': 52.032, 'y': 14.314, 'z': 17.916},\n   {'r': 0.1, 'x': 52.883, 'y': 14.028, 'z': 15.038},\n   {'r': 0.1, 'x': 50.839, 'y': 15.837, 'z': 13.838},\n   {'r': 0.1, 'x': 54.393, 'y': 18.571, 'z': 13.931},\n   {'r': 0.1, 'x': 53.473, 'y': 18.765, 'z': 11.079},\n   {'r': 0.1, 'x': 55.304, 'y': 0.854, 'z': 27.26},\n   {'r': 0.1, 'x': 56.738, 'y': 7.796, 'z': 27.827},\n   {'r': 0.1, 'x': 58.334, 'y': 5.081, 'z': 27.374},\n   {'r': 0.1, 'x': 58.758, 'y': 2.834, 'z': 29.386},\n   {'r': 0.1, 'x': 56.422, 'y': 4.603, 'z': 8.535}]},\n 'dataType': 3,\n 'extendedBindingSite': {'definitionSpheres': [{'r': 0.1,\n    'x': 63.111,\n    'y': -2.529,\n    'z': 35.561},\n   {'r': 0.1, 'x': 69.835, 'y': 12.575, 'z': 22.075},\n   {'r': 0.1, 'x': 68.792, 'y': 15.27, 'z': 21.205},\n   {'r': 0.1, 'x': 68.774, 'y': 14.717, 'z': 18.281},\n   {'r': 0.1, 'x': 66.531, 'y': 12.656, 'z': 18.462},\n   {'r': 0.1, 'x': 64.883, 'y': 13.968, 'z': 21.448},\n   {'r': 0.1, 'x': 63.691, 'y': 15.658, 'z': 23.651},\n   {'r': 0.1, 'x': 62.405, 'y': 12.936, 'z': 25.005},\n   {'r': 0.1, 'x': 64.768, 'y': 11.446, 'z': 26.398},\n   {'r': 0.1, 'x': 66.178, 'y': 10.137, 'z': 28.93},\n   {'r': 0.1, 'x': 68.504, 'y': 9.342, 'z': 30.743},\n   {'r': 0.1, 'x': 66.969, 'y': 7.016, 'z': 32.033},\n   {'r': 0.1, 'x': 66.697, 'y': 5.386, 'z': 29.556},\n   {'r': 0.1, 'x': 69.606, 'y': 4.984, 'z': 29.064},\n   {'r': 0.1, 'x': 70.361, 'y': 3.66, 'z': 31.761},\n   {'r': 0.1, 'x': 67.916, 'y': 0.481, 'z': 28.306},\n   {'r': 0.1, 'x': 70.445, 'y': 1.08, 'z': 26.405},\n   {'r': 0.1, 'x': 71.258, 'y': -3.224, 'z': 24.733},\n   {'r': 0.1, 'x': 61.819, 'y': -3.263, 'z': 14.139},\n   {'r': 0.1, 'x': 58.563, 'y': -3.412, 'z': 15.333},\n   {'r': 0.1, 'x': 55.341, 'y': -1.798, 'z': 15.128},\n   {'r': 0.1, 'x': 53.802, 'y': 0.824, 'z': 14.838},\n   {'r': 0.1, 'x': 53.297, 'y': 3.622, 'z': 14.696},\n   {'r': 0.1, 'x': 54.658, 'y': 4.817, 'z': 17.374},\n   {'r': 0.1, 'x': 56.848, 'y': 3.525, 'z': 19.186},\n   {'r': 0.1, 'x': 60.154, 'y': 3.723, 'z': 17.953},\n   {'r': 0.1, 'x': 62.103, 'y': 3.163, 'z': 15.687},\n   {'r': 0.1, 'x': 63.675, 'y': 5.745, 'z': 15.657},\n   {'r': 0.1, 'x': 64.692, 'y': 5.524, 'z': 18.498},\n   {'r': 0.1, 'x': 66.026, 'y': 2.858, 'z': 18.395},\n   {'r': 0.1, 'x': 68.014, 'y': 3.432, 'z': 16.225},\n   {'r': 0.1, 'x': 69.457, 'y': 5.787, 'z': 17.508},\n   {'r': 0.1, 'x': 70.406, 'y': 4.308, 'z': 19.914},\n   {'r': 0.1, 'x': 71.975, 'y': 2.136, 'z': 18.47},\n   {'r': 0.1, 'x': 69.56, 'y': 2.618, 'z': 8.335},\n   {'r': 0.1, 'x': 66.432, 'y': 1.418, 'z': 7.311},\n   {'r': 0.1, 'x': 63.395, 'y': 1.323, 'z': 6.021},\n   {'r': 0.1, 'x': 60.696, 'y': 0.824, 'z': 4.442},\n   {'r': 0.1, 'x': 59.958, 'y': 3.189, 'z': 2.937},\n   {'r': 0.1, 'x': 51.586, 'y': -1.246, 'z': 5.454},\n   {'r': 0.1, 'x': 56.093, 'y': -3.477, 'z': -1.458},\n   {'r': 0.1, 'x': 61.275, 'y': 8.962, 'z': 2.339},\n   {'r': 0.1, 'x': 57.2, 'y': 13.293, 'z': 4.891},\n   {'r': 0.1, 'x': 65.489, 'y': -2.137, 'z': 10.433},\n   {'r': 0.1, 'x': 62.5, 'y': -0.486, 'z': 10.122},\n   {'r': 0.1, 'x': 59.131, 'y': -2.042, 'z': 10.45},\n   {'r': 0.1, 'x': 56.616, 'y': -3.809, 'z': 10.294},\n   {'r': 0.1, 'x': 58.286, 'y': -6.291, 'z': 8.475},\n   {'r': 0.1, 'x': 62.02, 'y': -5.998, 'z': 17.928},\n   {'r': 0.1, 'x': 59.325, 'y': -4.806, 'z': 19.609},\n   {'r': 0.1, 'x': 57.251, 'y': -2.621, 'z': 20.366},\n   {'r': 0.1, 'x': 54.772, 'y': -1.996, 'z': 22.834},\n   {'r': 0.1, 'x': 51.262, 'y': -0.852, 'z': 23.228},\n   {'r': 0.1, 'x': 49.691, 'y': 5.219, 'z': 22.591},\n   {'r': 0.1, 'x': 49.196, 'y': 5.458, 'z': 19.655},\n   {'r': 0.1, 'x': 47.48, 'y': 7.915, 'z': 19.76},\n   {'r': 0.1, 'x': 49.517, 'y': 9.797, 'z': 20.929},\n   {'r': 0.1, 'x': 51.646, 'y': 9.507, 'z': 18.817},\n   {'r': 0.1, 'x': 50.007, 'y': 10.428, 'z': 16.465},\n   {'r': 0.1, 'x': 49.283, 'y': 13.197, 'z': 17.419},\n   {'r': 0.1, 'x': 52.032, 'y': 14.314, 'z': 17.916},\n   {'r': 0.1, 'x': 52.883, 'y': 14.028, 'z': 15.038},\n   {'r': 0.1, 'x': 50.839, 'y': 15.837, 'z': 13.838},\n   {'r': 0.1, 'x': 51.64, 'y': 18.397, 'z': 15.146},\n   {'r': 0.1, 'x': 54.393, 'y': 18.571, 'z': 13.931},\n   {'r': 0.1, 'x': 53.473, 'y': 18.765, 'z': 11.079},\n   {'r': 0.1, 'x': 44.2, 'y': 4.753, 'z': 13.146},\n   {'r': 0.1, 'x': 47.117, 'y': 1.128, 'z': 12.147},\n   {'r': 0.1, 'x': 48.013, 'y': -3.4, 'z': 11.165},\n   {'r': 0.1, 'x': 47.959, 'y': -4.7, 'z': 13.868},\n   {'r': 0.1, 'x': 52.009, 'y': -7.077, 'z': 13.888},\n   {'r': 0.1, 'x': 59.011, 'y': -3.542, 'z': 24.541},\n   {'r': 0.1, 'x': 57.201, 'y': -1.853, 'z': 26.688},\n   {'r': 0.1, 'x': 55.304, 'y': 0.854, 'z': 27.26},\n   {'r': 0.1, 'x': 54.137, 'y': 3.829, 'z': 28.736},\n   {'r': 0.1, 'x': 54.436, 'y': 6.645, 'z': 29.388},\n   {'r': 0.1, 'x': 56.738, 'y': 7.796, 'z': 27.827},\n   {'r': 0.1, 'x': 58.334, 'y': 5.081, 'z': 27.374},\n   {'r': 0.1, 'x': 58.758, 'y': 2.834, 'z': 29.386},\n   {'r': 0.1, 'x': 59.532, 'y': 0.066, 'z': 30.458},\n   {'r': 0.1, 'x': 58.465, 'y': -3.019, 'z': 31.66},\n   {'r': 0.1, 'x': 56.422, 'y': 4.603, 'z': 8.535}]},\n 'version': 3}"
     },
     "execution_count": 12,
     "metadata": {},
     "output_type": "execute_result"
    }
   ],
   "source": [
    "# create the scoring definition .json file\n",
    "\n",
    "'''\n",
    "{'bindingSite': {'definitionSpheres': [\n",
    "   {'r': 0.1, 'x': 53.102, 'y': 55.541, 'z': 14.728},\n",
    "   ]},\n",
    " 'dataType': 3,\n",
    " 'extendedBindingSite': {'definitionSpheres': [\n",
    "   {'r': 0.1, 'x': 47.396, 'y': 44.034, 'z': 24.396}]},\n",
    " 'version': 3}\n",
    "'''\n",
    "\n",
    "scoring_definition = {\"bindingSite\": {\"definitionSpheres\": []},\n",
    "                      \"dataType\": 3,\n",
    "                      \"extendedBindingSite\": {\"definitionSpheres\": []},\n",
    "                      \"version\": 3}\n",
    "\n",
    "# add bindingSite definitionSpheres:\n",
    "for x, y, z in coordinates_C_alphas.loc[coordinates_C_alphas[0]<=6.5][['x_coord', 'y_coord', 'z_coord']].values:\n",
    "    scoring_definition['bindingSite']['definitionSpheres'] += [{'r': 0.1, 'x': x, 'y': y, 'z': z}]\n",
    "\n",
    "for x, y, z in coordinates_first_hetatm_entry.loc[coordinates_first_hetatm_entry[0]<=6.5][['x_coord', 'y_coord', 'z_coord']].values:\n",
    "    scoring_definition['bindingSite']['definitionSpheres'] += [{'r': 0.1, 'x': x, 'y': y, 'z': z}]\n",
    "\n",
    "# add extendedBindingSite definitionSpheres:\n",
    "for x, y, z in coordinates_C_alphas.loc[coordinates_C_alphas[0]<=10.5][['x_coord', 'y_coord', 'z_coord']].values:\n",
    "    scoring_definition['extendedBindingSite']['definitionSpheres'] += [{'r': 0.1, 'x': x, 'y': y, 'z': z}]\n",
    "\n",
    "for x, y, z in coordinates_first_hetatm_entry.loc[coordinates_first_hetatm_entry[0]<=10.5][['x_coord', 'y_coord', 'z_coord']].values:\n",
    "    scoring_definition['extendedBindingSite']['definitionSpheres'] += [{'r': 0.1, 'x': x, 'y': y, 'z': z}]\n",
    "\n",
    "scoring_definition"
   ],
   "metadata": {
    "collapsed": false,
    "pycharm": {
     "name": "#%%\n"
    }
   }
  },
  {
   "cell_type": "code",
   "execution_count": 24,
   "outputs": [],
   "source": [
    "with open('../data/docking_definition_myscript.json', 'w') as outfile:\n",
    "    json.dump(docking_definition, outfile, indent=4)"
   ],
   "metadata": {
    "collapsed": false,
    "pycharm": {
     "name": "#%%\n"
    }
   }
  },
  {
   "cell_type": "code",
   "execution_count": 18,
   "outputs": [
    {
     "name": "stdout",
     "output_type": "stream",
     "text": [
      "Help on method to_pdb in module biopandas.pdb.pandas_pdb:\n",
      "\n",
      "to_pdb(path, records=None, gz=False, append_newline=True) method of biopandas.pdb.pandas_pdb.PandasPdb instance\n",
      "    Write record DataFrames to a PDB file or gzipped PDB file.\n",
      "    \n",
      "    Parameters\n",
      "    ----------\n",
      "    path : str\n",
      "        A valid output path for the pdb file\n",
      "    \n",
      "    records : iterable, default: None\n",
      "        A list of PDB record sections in\n",
      "        {'ATOM', 'HETATM', 'ANISOU', 'OTHERS'} that are to be written.\n",
      "        Writes all lines to PDB if `records=None`.\n",
      "    \n",
      "    gz : bool, default: False\n",
      "        Writes a gzipped PDB file if True.\n",
      "    \n",
      "    append_newline : bool, default: True\n",
      "        Appends a new line at the end of the PDB file if True\n",
      "\n"
     ]
    }
   ],
   "source": [
    "help(ppdb.to_pdb)"
   ],
   "metadata": {
    "collapsed": false,
    "pycharm": {
     "name": "#%%\n"
    }
   }
  }
 ],
 "metadata": {
  "kernelspec": {
   "display_name": "Python 3",
   "language": "python",
   "name": "python3"
  },
  "language_info": {
   "codemirror_mode": {
    "name": "ipython",
    "version": 2
   },
   "file_extension": ".py",
   "mimetype": "text/x-python",
   "name": "python",
   "nbconvert_exporter": "python",
   "pygments_lexer": "ipython2",
   "version": "2.7.6"
  }
 },
 "nbformat": 4,
 "nbformat_minor": 0
}
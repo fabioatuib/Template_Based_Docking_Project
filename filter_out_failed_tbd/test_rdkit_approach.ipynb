{
 "cells": [
  {
   "cell_type": "code",
   "execution_count": 225,
   "metadata": {
    "collapsed": true,
    "pycharm": {
     "name": "#%%\n"
    }
   },
   "outputs": [],
   "source": [
    "import os\n",
    "import multiprocessing\n",
    "import pandas as pd\n",
    "from rdkit import Chem\n",
    "from rdkit.Chem import AllChem\n",
    "from rdkit.Chem import rdFMCS"
   ]
  },
  {
   "cell_type": "code",
   "execution_count": 216,
   "outputs": [],
   "source": [
    "PATH_TO_BASE_FOLDER = '/home/fol007/PhD_Project/Template_Based_Docking_Project_GitRepo/filter_out_failed_tbd'\n",
    "PATH_TO_FILTERED = f'{PATH_TO_BASE_FOLDER}/filtered'\n",
    "PATH_TO_REFERENCE = f'{PATH_TO_BASE_FOLDER}/reference_ligands'\n",
    "PATH_TO_ALIGNED = f'{PATH_TO_BASE_FOLDER}/aligned'"
   ],
   "metadata": {
    "collapsed": false,
    "pycharm": {
     "name": "#%%\n"
    }
   }
  },
  {
   "cell_type": "code",
   "execution_count": null,
   "outputs": [],
   "source": [
    "def create_initial_reference_dictionary(path=PATH_TO_FILTERED):\n",
    "    '''organize dictionary based on the reference ligands'''\n",
    "    reference_dictionary = {}\n",
    "    uniprot_ids = os.listdir(path)\n",
    "    for uniprot_id in uniprot_ids:\n",
    "        reference_dictionary[uniprot_id] = []\n",
    "        for references in os.listdir(path + '/' + uniprot_id):\n",
    "            reference_dictionary[uniprot_id] += [references]\n",
    "    return reference_dictionary\n",
    "\n",
    "create_initial_reference_dictionary()"
   ],
   "metadata": {
    "collapsed": false,
    "pycharm": {
     "name": "#%%\n"
    }
   }
  },
  {
   "cell_type": "code",
   "execution_count": null,
   "outputs": [],
   "source": [
    "def get_core_constraint(ref_mol, mcs_mol):\n",
    "\n",
    "    ref_match = ref_mol.GetSubstructMatch(mcs_mol)\n",
    "    #print(ref_match)\n",
    "    rwmol = Chem.RWMol(mcs_mol)\n",
    "    rwconf = Chem.Conformer(rwmol.GetNumAtoms())\n",
    "\n",
    "    matches = ref_mol.GetSubstructMatch(rwmol)\n",
    "    #print(matches)\n",
    "    ref_conf = ref_mol.GetConformer()\n",
    "    for i, match in enumerate(matches):\n",
    "        #print(ref_conf.GetAtomPosition(ref_match[i]))\n",
    "        rwconf.SetAtomPosition(i, ref_conf.GetAtomPosition(match))\n",
    "\n",
    "    rwmol.AddConformer(rwconf)\n",
    "\n",
    "    return rwmol"
   ],
   "metadata": {
    "collapsed": false,
    "pycharm": {
     "name": "#%%\n"
    }
   }
  },
  {
   "cell_type": "code",
   "execution_count": 224,
   "outputs": [
    {
     "name": "stdout",
     "output_type": "stream",
     "text": [
      "P49356\n",
      "P00520\n"
     ]
    }
   ],
   "source": [
    "dictionary = create_initial_reference_dictionary()\n",
    "\n",
    "good_pairs = []\n",
    "\n",
    "for uniprot_id in dictionary:\n",
    "    print(uniprot_id)\n",
    "    for filtered in dictionary[uniprot_id]:\n",
    "\n",
    "        template = Chem.SDMolSupplier(PATH_TO_REFERENCE+'/'+uniprot_id+'/'+filtered[-12:])[0]\n",
    "\n",
    "        docked = Chem.SDMolSupplier(PATH_TO_FILTERED+'/'+uniprot_id+'/'+filtered)\n",
    "\n",
    "        for pose in docked:\n",
    "            try:\n",
    "                mcs_strict = rdFMCS.FindMCS([Chem.MolFromSmiles(Chem.MolToSmiles(template)),\n",
    "                                             Chem.MolFromSmiles(Chem.MolToSmiles(pose))], matchValences=True,\n",
    "                                                      ringMatchesRingOnly=True, completeRingsOnly=True,\n",
    "                                                      bondCompare=Chem.rdFMCS.BondCompare.CompareOrderExact)\n",
    "\n",
    "                # Get rdkit mol from the smarts strings corresponding to the strict mcs\n",
    "                mcs_strict_mol = Chem.MolFromSmarts(mcs_strict.smartsString)\n",
    "                # Calculate properties associated with the Smarts molecule\n",
    "                mcs_strict_mol.UpdatePropertyCache(strict=False)\n",
    "                Chem.GetSymmSSSR(mcs_strict_mol)\n",
    "\n",
    "                #mc1 = get_core_constraint(template, mcs_strict_mol)\n",
    "                mc2 = get_core_constraint(pose, mcs_strict_mol)\n",
    "\n",
    "                #print(mcs_strict.numAtoms)\n",
    "                rmsd = AllChem.CalcRMS(mc2, template)\n",
    "\n",
    "                #w=Chem.SDWriter(pose.GetProp('_Name')+'.sdf')\n",
    "                #w.write(mcs_strict_mol)\n",
    "                #w.close()\n",
    "                good_pairs += [[template.GetProp('_Name'), pose.GetProp('_Name'), rmsd, '']]\n",
    "                #print(template.GetProp('_Name'), pose.GetProp('_Name'))\n",
    "                #print(rmsd)\n",
    "            except Exception as e:\n",
    "                good_pairs += [[template.GetProp('_Name'), pose.GetProp('_Name'), -1, str(e)]]\n",
    "\n",
    "pd.DataFrame(data=good_pairs, columns=['template', 'docked', 'rmsd', 'exception']).to_csv('good_pairs.csv', index=False)\n"
   ],
   "metadata": {
    "collapsed": false,
    "pycharm": {
     "name": "#%%\n"
    }
   }
  }
 ],
 "metadata": {
  "kernelspec": {
   "display_name": "Python 3",
   "language": "python",
   "name": "python3"
  },
  "language_info": {
   "codemirror_mode": {
    "name": "ipython",
    "version": 2
   },
   "file_extension": ".py",
   "mimetype": "text/x-python",
   "name": "python",
   "nbconvert_exporter": "python",
   "pygments_lexer": "ipython2",
   "version": "2.7.6"
  }
 },
 "nbformat": 4,
 "nbformat_minor": 0
}